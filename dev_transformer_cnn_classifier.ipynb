{
 "cells": [
  {
   "cell_type": "code",
   "execution_count": 1,
   "metadata": {},
   "outputs": [
    {
     "name": "stdout",
     "output_type": "stream",
     "text": [
      "{\n",
      "  \"shell_port\": 51424,\n",
      "  \"iopub_port\": 51425,\n",
      "  \"stdin_port\": 51426,\n",
      "  \"control_port\": 51428,\n",
      "  \"hb_port\": 51427,\n",
      "  \"ip\": \"127.0.0.1\",\n",
      "  \"key\": \"9f0e08fa-4b61651cf47bf55822375da7\",\n",
      "  \"transport\": \"tcp\",\n",
      "  \"signature_scheme\": \"hmac-sha256\",\n",
      "  \"kernel_name\": \"\"\n",
      "}\n",
      "\n",
      "Paste the above JSON into a file, and connect with:\n",
      "    $> jupyter <app> --existing <file>\n",
      "or, if you are local, you can connect with just:\n",
      "    $> jupyter <app> --existing kernel-3ea4d07a-2136-4f2a-8ae0-654187994880.json\n",
      "or even just:\n",
      "    $> jupyter <app> --existing\n",
      "if this is the most recent Jupyter kernel you have started.\n"
     ]
    }
   ],
   "source": [
    "%connect_info"
   ]
  },
  {
   "cell_type": "code",
   "execution_count": 2,
   "metadata": {},
   "outputs": [],
   "source": [
    "%matplotlib inline"
   ]
  },
  {
   "cell_type": "code",
   "execution_count": 3,
   "metadata": {},
   "outputs": [],
   "source": [
    "import sys\n",
    "sys.argv = sys.argv[:1]"
   ]
  },
  {
   "cell_type": "code",
   "execution_count": 4,
   "metadata": {},
   "outputs": [],
   "source": [
    "import argparse\n",
    "import os\n",
    "import numpy as np\n",
    "\n",
    "import torch\n",
    "import torch.nn as nn\n",
    "\n",
    "from sklearn.utils.class_weight import compute_class_weight\n",
    "from skorch.callbacks import ProgressBar, EarlyStopping, Checkpoint\n",
    "from skorch.helper import predefined_split\n",
    "\n",
    "from transformers import AutoModel, AutoTokenizer\n",
    "\n",
    "from models import CNNClassifier\n",
    "from preprocess import load_tokenized_data\n",
    "from skorch_custom import SentenceDataset, SkorchBucketIterator\n",
    "from skorch_custom import IdiomClassifier, CustomScorer\n",
    "from evaluation import evaluate_model"
   ]
  },
  {
   "cell_type": "code",
   "execution_count": 5,
   "metadata": {},
   "outputs": [],
   "source": [
    "parser = argparse.ArgumentParser(description='Classifier using CNNs')\n",
    "parser.add_argument(\n",
    "    '--bert_type',\n",
    "    type=str,\n",
    "    default='distilbert-base-multilingual-cased',\n",
    "    help='transormer model [should be a miltilingual model]')\n",
    "parser.add_argument(\n",
    "    '--bert_device',\n",
    "    type=str,\n",
    "    default='gpu',\n",
    "    help='device to run the transformer model')\n",
    "parser.add_argument(\n",
    "    '--metric',\n",
    "    type=str,\n",
    "    default='f1',\n",
    "    help='sklearn metric to evaluate the model while training')\n",
    "parser.add_argument(\n",
    "    '--nfilters',\n",
    "    type=int,\n",
    "    default=128,\n",
    "    help='number of convolution filters')\n",
    "parser.add_argument(\n",
    "    '--kernels',\n",
    "    type=list,\n",
    "    default=[1, 2, 3, 4, 5],\n",
    "    help='number of convolution filters')\n",
    "parser.add_argument(\n",
    "    '--pool_stride',\n",
    "    type=int,\n",
    "    default=3,\n",
    "    help='size of the stride for the pooling operation')\n",
    "parser.add_argument(\n",
    "    '--dropout',\n",
    "    type=float,\n",
    "    default=0.2,\n",
    "    help='dropout probability for the dense layer')\n",
    "parser.add_argument(\n",
    "    '--output_activation',\n",
    "    type=str,\n",
    "    default='sigmoid',\n",
    "    help='output activation')\n",
    "parser.add_argument(\n",
    "    '--batch_size',\n",
    "    type=int,\n",
    "    default=32,\n",
    "    help='training batch size')\n",
    "parser.add_argument(\n",
    "    '--max_epochs',\n",
    "    type=int,\n",
    "    default=100,\n",
    "    help='max number of epochs to train the model')\n",
    "\n",
    "args = parser.parse_args()\n",
    "transformer_device = torch.device(\n",
    "    'cuda' if torch.cuda.is_available() and args.bert_device == 'gpu'\n",
    "    else 'cpu')\n",
    "ONE_HOT_OUTPUT = args.output_activation == 'softmax'"
   ]
  },
  {
   "cell_type": "code",
   "execution_count": 6,
   "metadata": {},
   "outputs": [],
   "source": [
    "SEED = 42\n",
    "np.random.seed(SEED)\n",
    "torch.manual_seed(SEED)\n",
    "torch.cuda.manual_seed(SEED)\n",
    "torch.backends.cudnn.deterministic = True\n",
    "torch.backends.cudnn.benchmark = False\n",
    "\n",
    "DEVICE = torch.device('cuda' if torch.cuda.is_available() else 'cpu')     # pylint: disable=no-member\n",
    "LANGUAGE_CODES = ['DE', 'GA', 'HI', 'PT', 'ZH']\n",
    "CWD = os.getcwd()"
   ]
  },
  {
   "cell_type": "code",
   "execution_count": 7,
   "metadata": {},
   "outputs": [
    {
     "name": "stdout",
     "output_type": "stream",
     "text": [
      "175\n",
      "228\n",
      "99\n",
      "338\n",
      "204\n"
     ]
    }
   ],
   "source": [
    "(x_train, y_train), (x_val, y_val), (x_dev, y_dev) = load_tokenized_data(\n",
    "    datafile='{}/data/{}.tokenized.pkl'.format(CWD, args.bert_type),\n",
    "    language_codes=LANGUAGE_CODES,\n",
    "    seed=SEED)\n",
    "\n",
    "targets = np.concatenate(y_train).reshape(-1)\n",
    "class_weights = compute_class_weight(class_weight='balanced',\n",
    "                                     classes=np.unique(targets),\n",
    "                                     y=targets).tolist()"
   ]
  },
  {
   "cell_type": "code",
   "execution_count": 8,
   "metadata": {},
   "outputs": [],
   "source": [
    "tokenizer = AutoTokenizer.from_pretrained(args.bert_type)\n",
    "transformer = AutoModel.from_pretrained(args.bert_type)"
   ]
  },
  {
   "cell_type": "code",
   "execution_count": 9,
   "metadata": {},
   "outputs": [],
   "source": [
    "model = CNNClassifier(args, transformer, transformer_device)\n",
    "model.to(DEVICE)     # pylint: disable=no-member\n",
    "model.freeze_transformer()"
   ]
  },
  {
   "cell_type": "code",
   "execution_count": 10,
   "metadata": {},
   "outputs": [],
   "source": [
    "net = IdiomClassifier(\n",
    "    module=model,\n",
    "    class_weights=class_weights,\n",
    "     #\n",
    "    iterator_train=SkorchBucketIterator,\n",
    "    iterator_train__batch_size=args.batch_size,\n",
    "    iterator_train__sort_key=lambda x: len(x.sentence),\n",
    "    iterator_train__shuffle=True,\n",
    "    iterator_train__device=DEVICE,\n",
    "    iterator_train__one_hot=ONE_HOT_OUTPUT,\n",
    "     #\n",
    "    iterator_valid=SkorchBucketIterator,\n",
    "    iterator_valid__batch_size=1,\n",
    "    iterator_valid__sort_key=lambda x: len(x.sentence),\n",
    "    iterator_valid__shuffle=True,\n",
    "    iterator_valid__device=DEVICE,\n",
    "    iterator_valid__one_hot=ONE_HOT_OUTPUT,\n",
    "\n",
    "    train_split=predefined_split(SentenceDataset(data=(x_val[0:5], y_val[0:5]))),\n",
    "    optimizer=torch.optim.Adam,\n",
    "    criterion=nn.BCELoss,\n",
    "    callbacks=[\n",
    "        ProgressBar(batches_per_epoch=len(x_train) // args.batch_size + 1),\n",
    "        CustomScorer(scoring=None, lower_is_better=False, use_caching=False),\n",
    "        EarlyStopping(monitor='score_best', patience=5),\n",
    "        Checkpoint(monitor='score_best')\n",
    "    ],\n",
    "    device=DEVICE,\n",
    ")\n"
   ]
  },
  {
   "cell_type": "code",
   "execution_count": 11,
   "metadata": {},
   "outputs": [
    {
     "data": {
      "application/vnd.jupyter.widget-view+json": {
       "model_id": "73437cfebfc943879e23473f22ff2e6d",
       "version_major": 2,
       "version_minor": 0
      },
      "text/plain": [
       "HBox(children=(FloatProgress(value=0.0, max=706.0), HTML(value='')))"
      ]
     },
     "metadata": {},
     "output_type": "display_data"
    },
    {
     "name": "stderr",
     "output_type": "stream",
     "text": [
      "/Users/gian/.virtualenvs/research/lib/python3.7/site-packages/sklearn/metrics/_classification.py:1221: UndefinedMetricWarning: Precision and F-score are ill-defined and being set to 0.0 in labels with no predicted samples. Use `zero_division` parameter to control this behavior.\n",
      "  _warn_prf(average, modifier, msg_start, len(result))\n"
     ]
    },
    {
     "name": "stdout",
     "output_type": "stream",
     "text": [
      "              precision    recall  f1-score   support\n",
      "\n",
      "         0.0       0.97      1.00      0.98        89\n",
      "         1.0       0.00      0.00      0.00         3\n",
      "\n",
      "    accuracy                           0.97        92\n",
      "   macro avg       0.48      0.50      0.49        92\n",
      "weighted avg       0.94      0.97      0.95        92\n",
      "\n",
      "  epoch    score    train_loss    valid_loss    cp     dur\n",
      "-------  -------  ------------  ------------  ----  ------\n",
      "      1   \u001b[36m0.0000\u001b[0m        \u001b[32m0.2673\u001b[0m       \u001b[35m12.0212\u001b[0m     +  0.6402\n"
     ]
    },
    {
     "data": {
      "text/plain": [
       "<class 'skorch_custom.IdiomClassifier'>[initialized](\n",
       "  module_=CNNClassifier(\n",
       "    (transformer): DistilBertModel(\n",
       "      (embeddings): Embeddings(\n",
       "        (word_embeddings): Embedding(119547, 768, padding_idx=0)\n",
       "        (position_embeddings): Embedding(512, 768)\n",
       "        (LayerNorm): LayerNorm((768,), eps=1e-12, elementwise_affine=True)\n",
       "        (dropout): Dropout(p=0.1, inplace=False)\n",
       "      )\n",
       "      (transformer): Transformer(\n",
       "        (layer): ModuleList(\n",
       "          (0): TransformerBlock(\n",
       "            (attention): MultiHeadSelfAttention(\n",
       "              (dropout): Dropout(p=0.1, inplace=False)\n",
       "              (q_lin): Linear(in_features=768, out_features=768, bias=True)\n",
       "              (k_lin): Linear(in_features=768, out_features=768, bias=True)\n",
       "              (v_lin): Linear(in_features=768, out_features=768, bias=True)\n",
       "              (out_lin): Linear(in_features=768, out_features=768, bias=True)\n",
       "            )\n",
       "            (sa_layer_norm): LayerNorm((768,), eps=1e-12, elementwise_affine=True)\n",
       "            (ffn): FFN(\n",
       "              (dropout): Dropout(p=0.1, inplace=False)\n",
       "              (lin1): Linear(in_features=768, out_features=3072, bias=True)\n",
       "              (lin2): Linear(in_features=3072, out_features=768, bias=True)\n",
       "            )\n",
       "            (output_layer_norm): LayerNorm((768,), eps=1e-12, elementwise_affine=True)\n",
       "          )\n",
       "          (1): TransformerBlock(\n",
       "            (attention): MultiHeadSelfAttention(\n",
       "              (dropout): Dropout(p=0.1, inplace=False)\n",
       "              (q_lin): Linear(in_features=768, out_features=768, bias=True)\n",
       "              (k_lin): Linear(in_features=768, out_features=768, bias=True)\n",
       "              (v_lin): Linear(in_features=768, out_features=768, bias=True)\n",
       "              (out_lin): Linear(in_features=768, out_features=768, bias=True)\n",
       "            )\n",
       "            (sa_layer_norm): LayerNorm((768,), eps=1e-12, elementwise_affine=True)\n",
       "            (ffn): FFN(\n",
       "              (dropout): Dropout(p=0.1, inplace=False)\n",
       "              (lin1): Linear(in_features=768, out_features=3072, bias=True)\n",
       "              (lin2): Linear(in_features=3072, out_features=768, bias=True)\n",
       "            )\n",
       "            (output_layer_norm): LayerNorm((768,), eps=1e-12, elementwise_affine=True)\n",
       "          )\n",
       "          (2): TransformerBlock(\n",
       "            (attention): MultiHeadSelfAttention(\n",
       "              (dropout): Dropout(p=0.1, inplace=False)\n",
       "              (q_lin): Linear(in_features=768, out_features=768, bias=True)\n",
       "              (k_lin): Linear(in_features=768, out_features=768, bias=True)\n",
       "              (v_lin): Linear(in_features=768, out_features=768, bias=True)\n",
       "              (out_lin): Linear(in_features=768, out_features=768, bias=True)\n",
       "            )\n",
       "            (sa_layer_norm): LayerNorm((768,), eps=1e-12, elementwise_affine=True)\n",
       "            (ffn): FFN(\n",
       "              (dropout): Dropout(p=0.1, inplace=False)\n",
       "              (lin1): Linear(in_features=768, out_features=3072, bias=True)\n",
       "              (lin2): Linear(in_features=3072, out_features=768, bias=True)\n",
       "            )\n",
       "            (output_layer_norm): LayerNorm((768,), eps=1e-12, elementwise_affine=True)\n",
       "          )\n",
       "          (3): TransformerBlock(\n",
       "            (attention): MultiHeadSelfAttention(\n",
       "              (dropout): Dropout(p=0.1, inplace=False)\n",
       "              (q_lin): Linear(in_features=768, out_features=768, bias=True)\n",
       "              (k_lin): Linear(in_features=768, out_features=768, bias=True)\n",
       "              (v_lin): Linear(in_features=768, out_features=768, bias=True)\n",
       "              (out_lin): Linear(in_features=768, out_features=768, bias=True)\n",
       "            )\n",
       "            (sa_layer_norm): LayerNorm((768,), eps=1e-12, elementwise_affine=True)\n",
       "            (ffn): FFN(\n",
       "              (dropout): Dropout(p=0.1, inplace=False)\n",
       "              (lin1): Linear(in_features=768, out_features=3072, bias=True)\n",
       "              (lin2): Linear(in_features=3072, out_features=768, bias=True)\n",
       "            )\n",
       "            (output_layer_norm): LayerNorm((768,), eps=1e-12, elementwise_affine=True)\n",
       "          )\n",
       "          (4): TransformerBlock(\n",
       "            (attention): MultiHeadSelfAttention(\n",
       "              (dropout): Dropout(p=0.1, inplace=False)\n",
       "              (q_lin): Linear(in_features=768, out_features=768, bias=True)\n",
       "              (k_lin): Linear(in_features=768, out_features=768, bias=True)\n",
       "              (v_lin): Linear(in_features=768, out_features=768, bias=True)\n",
       "              (out_lin): Linear(in_features=768, out_features=768, bias=True)\n",
       "            )\n",
       "            (sa_layer_norm): LayerNorm((768,), eps=1e-12, elementwise_affine=True)\n",
       "            (ffn): FFN(\n",
       "              (dropout): Dropout(p=0.1, inplace=False)\n",
       "              (lin1): Linear(in_features=768, out_features=3072, bias=True)\n",
       "              (lin2): Linear(in_features=3072, out_features=768, bias=True)\n",
       "            )\n",
       "            (output_layer_norm): LayerNorm((768,), eps=1e-12, elementwise_affine=True)\n",
       "          )\n",
       "          (5): TransformerBlock(\n",
       "            (attention): MultiHeadSelfAttention(\n",
       "              (dropout): Dropout(p=0.1, inplace=False)\n",
       "              (q_lin): Linear(in_features=768, out_features=768, bias=True)\n",
       "              (k_lin): Linear(in_features=768, out_features=768, bias=True)\n",
       "              (v_lin): Linear(in_features=768, out_features=768, bias=True)\n",
       "              (out_lin): Linear(in_features=768, out_features=768, bias=True)\n",
       "            )\n",
       "            (sa_layer_norm): LayerNorm((768,), eps=1e-12, elementwise_affine=True)\n",
       "            (ffn): FFN(\n",
       "              (dropout): Dropout(p=0.1, inplace=False)\n",
       "              (lin1): Linear(in_features=768, out_features=3072, bias=True)\n",
       "              (lin2): Linear(in_features=3072, out_features=768, bias=True)\n",
       "            )\n",
       "            (output_layer_norm): LayerNorm((768,), eps=1e-12, elementwise_affine=True)\n",
       "          )\n",
       "        )\n",
       "      )\n",
       "    )\n",
       "    (convolutions): ModuleList(\n",
       "      (0): Conv1d(768, 128, kernel_size=(1,), stride=(1,))\n",
       "      (1): Conv1d(768, 128, kernel_size=(2,), stride=(1,))\n",
       "      (2): Conv1d(768, 128, kernel_size=(3,), stride=(1,))\n",
       "      (3): Conv1d(768, 128, kernel_size=(4,), stride=(1,))\n",
       "      (4): Conv1d(768, 128, kernel_size=(5,), stride=(1,))\n",
       "    )\n",
       "    (dropout): Dropout(p=0.2, inplace=False)\n",
       "    (fully_connected): Linear(in_features=210, out_features=1, bias=True)\n",
       "  ),\n",
       ")"
      ]
     },
     "execution_count": 11,
     "metadata": {},
     "output_type": "execute_result"
    }
   ],
   "source": [
    "net.fit(SentenceDataset(data=(x_train[0:2], y_train[0:2])), y=None, epochs=1)"
   ]
  },
  {
   "cell_type": "code",
   "execution_count": 12,
   "metadata": {},
   "outputs": [],
   "source": [
    "# for code in LANGUAGE_CODES:\n",
    "#     test_iterator = SkorchBucketIterator(\n",
    "#         dataset=SentenceDataset(data=(x_dev[code], y_dev[code])),\n",
    "#         batch_size=1,\n",
    "#         sort=False,\n",
    "#         sort_key=lambda x: len(x.sentence),\n",
    "#         shuffle=False,\n",
    "#         train=False,\n",
    "#         device=DEVICE)\n",
    "#     evaluate_model(net, test_iterator, tokenizer,\n",
    "#                    '{}/data/{}/dev.cupt'.format(CWD, code))"
   ]
  },
  {
   "cell_type": "code",
   "execution_count": 13,
   "metadata": {},
   "outputs": [
    {
     "data": {
      "text/plain": [
       "'####################'"
      ]
     },
     "execution_count": 13,
     "metadata": {},
     "output_type": "execute_result"
    }
   ],
   "source": [
    "'#'*20"
   ]
  },
  {
   "cell_type": "code",
   "execution_count": null,
   "metadata": {},
   "outputs": [],
   "source": []
  }
 ],
 "metadata": {
  "kernelspec": {
   "display_name": "Python (research)",
   "language": "python",
   "name": "research"
  },
  "language_info": {
   "codemirror_mode": {
    "name": "ipython",
    "version": 3
   },
   "file_extension": ".py",
   "mimetype": "text/x-python",
   "name": "python",
   "nbconvert_exporter": "python",
   "pygments_lexer": "ipython3",
   "version": "3.7.7"
  }
 },
 "nbformat": 4,
 "nbformat_minor": 4
}
