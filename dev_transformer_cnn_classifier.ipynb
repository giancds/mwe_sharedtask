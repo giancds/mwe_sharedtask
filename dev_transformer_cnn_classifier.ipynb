{
 "cells": [
  {
   "cell_type": "code",
   "execution_count": 1,
   "metadata": {},
   "outputs": [
    {
     "name": "stdout",
     "output_type": "stream",
     "text": [
      "{\n",
      "  \"shell_port\": 58390,\n",
      "  \"iopub_port\": 58391,\n",
      "  \"stdin_port\": 58392,\n",
      "  \"control_port\": 58394,\n",
      "  \"hb_port\": 58393,\n",
      "  \"ip\": \"127.0.0.1\",\n",
      "  \"key\": \"4f187bef-c229bc1324cee640afed4f3f\",\n",
      "  \"transport\": \"tcp\",\n",
      "  \"signature_scheme\": \"hmac-sha256\",\n",
      "  \"kernel_name\": \"\"\n",
      "}\n",
      "\n",
      "Paste the above JSON into a file, and connect with:\n",
      "    $> jupyter <app> --existing <file>\n",
      "or, if you are local, you can connect with just:\n",
      "    $> jupyter <app> --existing kernel-3231c062-69b6-4847-818a-66255943b22c.json\n",
      "or even just:\n",
      "    $> jupyter <app> --existing\n",
      "if this is the most recent Jupyter kernel you have started.\n"
     ]
    }
   ],
   "source": [
    "%connect_info"
   ]
  },
  {
   "cell_type": "code",
   "execution_count": 2,
   "metadata": {},
   "outputs": [],
   "source": [
    "%matplotlib inline"
   ]
  },
  {
   "cell_type": "code",
   "execution_count": 3,
   "metadata": {},
   "outputs": [],
   "source": [
    "import sys\n",
    "sys.argv = sys.argv[:1]"
   ]
  },
  {
   "cell_type": "code",
   "execution_count": 5,
   "metadata": {},
   "outputs": [
    {
     "ename": "ImportError",
     "evalue": "dlopen(/Library/Frameworks/Python.framework/Versions/3.7/lib/python3.7/site-packages/torch/_C.cpython-37m-darwin.so, 2): Library not loaded: @rpath/libc++.1.dylib\n  Referenced from: /Library/Frameworks/Python.framework/Versions/3.7/lib/python3.7/site-packages/torch/_C.cpython-37m-darwin.so\n  Reason: image not found",
     "output_type": "error",
     "traceback": [
      "\u001b[0;31m---------------------------------------------------------------------------\u001b[0m",
      "\u001b[0;31mImportError\u001b[0m                               Traceback (most recent call last)",
      "\u001b[0;32m<ipython-input-5-195b39761203>\u001b[0m in \u001b[0;36m<module>\u001b[0;34m\u001b[0m\n\u001b[1;32m      3\u001b[0m \u001b[0;32mimport\u001b[0m \u001b[0mnumpy\u001b[0m \u001b[0;32mas\u001b[0m \u001b[0mnp\u001b[0m\u001b[0;34m\u001b[0m\u001b[0;34m\u001b[0m\u001b[0m\n\u001b[1;32m      4\u001b[0m \u001b[0;34m\u001b[0m\u001b[0m\n\u001b[0;32m----> 5\u001b[0;31m \u001b[0;32mimport\u001b[0m \u001b[0mtorch\u001b[0m\u001b[0;34m\u001b[0m\u001b[0;34m\u001b[0m\u001b[0m\n\u001b[0m\u001b[1;32m      6\u001b[0m \u001b[0;32mimport\u001b[0m \u001b[0mtorch\u001b[0m\u001b[0;34m.\u001b[0m\u001b[0mnn\u001b[0m \u001b[0;32mas\u001b[0m \u001b[0mnn\u001b[0m\u001b[0;34m\u001b[0m\u001b[0;34m\u001b[0m\u001b[0m\n\u001b[1;32m      7\u001b[0m \u001b[0;32mimport\u001b[0m \u001b[0mtorch\u001b[0m\u001b[0;34m.\u001b[0m\u001b[0mnn\u001b[0m\u001b[0;34m.\u001b[0m\u001b[0mfunctional\u001b[0m \u001b[0;32mas\u001b[0m \u001b[0mF\u001b[0m\u001b[0;34m\u001b[0m\u001b[0;34m\u001b[0m\u001b[0m\n",
      "\u001b[0;32m/Library/Frameworks/Python.framework/Versions/3.7/lib/python3.7/site-packages/torch/__init__.py\u001b[0m in \u001b[0;36m<module>\u001b[0;34m\u001b[0m\n\u001b[1;32m    134\u001b[0m     \u001b[0;31m# See Note [Global dependencies]\u001b[0m\u001b[0;34m\u001b[0m\u001b[0;34m\u001b[0m\u001b[0;34m\u001b[0m\u001b[0m\n\u001b[1;32m    135\u001b[0m     \u001b[0m_load_global_deps\u001b[0m\u001b[0;34m(\u001b[0m\u001b[0;34m)\u001b[0m\u001b[0;34m\u001b[0m\u001b[0;34m\u001b[0m\u001b[0m\n\u001b[0;32m--> 136\u001b[0;31m     \u001b[0;32mfrom\u001b[0m \u001b[0mtorch\u001b[0m\u001b[0;34m.\u001b[0m\u001b[0m_C\u001b[0m \u001b[0;32mimport\u001b[0m \u001b[0;34m*\u001b[0m\u001b[0;34m\u001b[0m\u001b[0;34m\u001b[0m\u001b[0m\n\u001b[0m\u001b[1;32m    137\u001b[0m \u001b[0;34m\u001b[0m\u001b[0m\n\u001b[1;32m    138\u001b[0m __all__ += [name for name in dir(_C)\n",
      "\u001b[0;31mImportError\u001b[0m: dlopen(/Library/Frameworks/Python.framework/Versions/3.7/lib/python3.7/site-packages/torch/_C.cpython-37m-darwin.so, 2): Library not loaded: @rpath/libc++.1.dylib\n  Referenced from: /Library/Frameworks/Python.framework/Versions/3.7/lib/python3.7/site-packages/torch/_C.cpython-37m-darwin.so\n  Reason: image not found"
     ]
    }
   ],
   "source": [
    "import os\n",
    "import pickle\n",
    "import numpy as np\n",
    "\n",
    "import torch\n",
    "import torch.nn as nn\n",
    "import torch.nn.functional as F\n",
    "\n",
    "from sklearn.utils import class_weight\n",
    "from sklearn.model_selection import train_test_split\n",
    "from sklearn.metrics import confusion_matrix, classification_report\n",
    "\n",
    "from utils import build_model_name, convert_flags_to_dict, define_cnn_flags\n",
    "\n",
    "from transformers import AutoTokenizer, TFAutoModel\n",
    "\n",
    "\n",
    "SEED = 42\n",
    "torch.manual_seed(SEED)\n",
    "torch.cuda.manual_seed(SEED)"
   ]
  },
  {
   "cell_type": "code",
   "execution_count": null,
   "metadata": {},
   "outputs": [],
   "source": [
    "bert_type = 'distilbert-base-multilingual-cased'"
   ]
  },
  {
   "cell_type": "code",
   "execution_count": 137,
   "metadata": {},
   "outputs": [
    {
     "name": "stdout",
     "output_type": "stream",
     "text": [
      "dict_keys(['DE', 'GA', 'HI', 'PT', 'ZH'])\n"
     ]
    }
   ],
   "source": [
    "with open('{}/data/{}.tokenized.pkl'.format(cwd, bert_type),\n",
    "              'rb') as f:\n",
    "        data = pickle.load(f)\n",
    "print(data.keys())"
   ]
  },
  {
   "cell_type": "code",
   "execution_count": 111,
   "metadata": {},
   "outputs": [],
   "source": [
    "ga = data['PT']"
   ]
  },
  {
   "cell_type": "code",
   "execution_count": 133,
   "metadata": {},
   "outputs": [],
   "source": [
    "\n",
    "x_train, y_train = [], []\n",
    "\n",
    "for code in data.keys():\n",
    "\n",
    "    true_x, true_y = [], []\n",
    "    false_x, false_y = [], []\n",
    "    for xsample, ysample in zip(data[code]['x_train'], data[code]['y_train']):\n",
    "        if 1 in ysample:\n",
    "            true_x.append(xsample)\n",
    "            true_y.append(ysample)\n",
    "    \n",
    "    \n",
    "    max_len = max([len(y) for y in true_y])\n",
    "\n",
    "    for xsample, ysample in zip(data[code]['x_train'], data[code]['y_train']):\n",
    "        if 1 not in ysample and len(ysample) < max_len:\n",
    "            false_x.append(xsample)\n",
    "            false_y.append(ysample)\n",
    "    false_x = np.array(false_x)\n",
    "    false_y = np.array(false_y)\n",
    "    \n",
    "    np.random.seed(SEED)\n",
    "    idx = np.random.randint(len(false_y), size=len(true_y))\n",
    "    false_x = false_x[idx].tolist()\n",
    "    false_y = false_y[idx].tolist()\n",
    "    \n",
    "    x_train += true_x + false_x\n",
    "    y_train += true_y + false_y"
   ]
  },
  {
   "cell_type": "code",
   "execution_count": 134,
   "metadata": {},
   "outputs": [
    {
     "data": {
      "text/plain": [
       "26564"
      ]
     },
     "execution_count": 134,
     "metadata": {},
     "output_type": "execute_result"
    }
   ],
   "source": [
    "len(x_train)"
   ]
  },
  {
   "cell_type": "code",
   "execution_count": 120,
   "metadata": {},
   "outputs": [
    {
     "data": {
      "text/plain": [
       "array([2777, 3378,  392, ..., 2413, 1238, 1486])"
      ]
     },
     "execution_count": 120,
     "metadata": {},
     "output_type": "execute_result"
    }
   ],
   "source": [
    "idx = np.random.randint(len(false_y), size=len(true_y))\n",
    "idx"
   ]
  },
  {
   "cell_type": "code",
   "execution_count": 114,
   "metadata": {},
   "outputs": [],
   "source": [
    "false_x = false_x[idx].tolist()\n",
    "false_y = false_y[idx].tolist()"
   ]
  },
  {
   "cell_type": "code",
   "execution_count": 124,
   "metadata": {},
   "outputs": [
    {
     "data": {
      "text/plain": [
       "37"
      ]
     },
     "execution_count": 124,
     "metadata": {},
     "output_type": "execute_result"
    }
   ],
   "source": [
    "len(false_y)"
   ]
  },
  {
   "cell_type": "code",
   "execution_count": 116,
   "metadata": {},
   "outputs": [
    {
     "data": {
      "text/plain": [
       "True"
      ]
     },
     "execution_count": 116,
     "metadata": {},
     "output_type": "execute_result"
    }
   ],
   "source": [
    "len(false_x + false_y) == len(true_x + true_y)"
   ]
  },
  {
   "cell_type": "code",
   "execution_count": 129,
   "metadata": {},
   "outputs": [
    {
     "data": {
      "text/plain": [
       "66338"
      ]
     },
     "execution_count": 129,
     "metadata": {},
     "output_type": "execute_result"
    }
   ],
   "source": [
    "lens = [len(x) for code in data.keys() for x in data[code]['x_train']]\n",
    "len(lens)"
   ]
  },
  {
   "cell_type": "code",
   "execution_count": 127,
   "metadata": {},
   "outputs": [
    {
     "data": {
      "text/plain": [
       "66338"
      ]
     },
     "execution_count": 127,
     "metadata": {},
     "output_type": "execute_result"
    }
   ],
   "source": []
  },
  {
   "cell_type": "code",
   "execution_count": 144,
   "metadata": {},
   "outputs": [
    {
     "name": "stdout",
     "output_type": "stream",
     "text": [
      "175\n",
      "228\n",
      "99\n",
      "338\n",
      "204\n",
      "(22579, 338) (22579, 338) (22579, 338)\n",
      "(3985, 338) (3985, 338) (3985, 338)\n",
      "(4330, 338) (4330, 338) (4330, 338)\n"
     ]
    }
   ],
   "source": [
    "x_train, y_train = [], []\n",
    "x_dev, y_dev = [], []\n",
    "for code in data.keys():\n",
    "\n",
    "    true_x, true_y = [], []\n",
    "    false_x, false_y = [], []\n",
    "    for xsample, ysample in zip(data[code]['x_train'], data[code]['y_train']):\n",
    "        if 1 in ysample:\n",
    "            true_x.append(xsample)\n",
    "            true_y.append(ysample)\n",
    "\n",
    "\n",
    "    max_len = max([len(y) for y in true_y])\n",
    "    print(max_len)\n",
    "\n",
    "    for xsample, ysample in zip(data[code]['x_train'], data[code]['y_train']):\n",
    "        if 1 not in ysample and len(ysample) < max_len:\n",
    "            false_x.append(xsample)\n",
    "            false_y.append(ysample)\n",
    "    false_x = np.array(false_x)\n",
    "    false_y = np.array(false_y)\n",
    "\n",
    "    np.random.seed(SEED)\n",
    "    idx = np.random.randint(len(false_y), size=len(true_y))\n",
    "    false_x = false_x[idx].tolist()\n",
    "    false_y = false_y[idx].tolist()\n",
    "\n",
    "    x_train += true_x + false_x\n",
    "    y_train += true_y + false_y\n",
    "\n",
    "    x_dev += data[code][\"x_dev\"]\n",
    "    y_dev += data[code][\"y_dev\"]\n",
    "\n",
    "# del data\n",
    "\n",
    "x_train = tf.keras.preprocessing.sequence.pad_sequences(x_train)\n",
    "max_len = x_train.shape[1]\n",
    "y_train = tf.keras.preprocessing.sequence.pad_sequences(y_train, maxlen=max_len)\n",
    "\n",
    "x_train, x_val, y_train, y_val = train_test_split(x_train,\n",
    "                                                    y_train,\n",
    "                                                    test_size=0.15,\n",
    "                                                    random_state=SEED)\n",
    "\n",
    "print(x_train.shape, x_train.shape, y_train.shape)\n",
    "print(x_val.shape, x_val.shape, y_val.shape)\n",
    "x_train = [x_train, (x_train > 0).astype(int)]\n",
    "x_val = [x_val, (x_val > 0).astype(int)]\n",
    "\n",
    "\n",
    "x_dev = tf.keras.preprocessing.sequence.pad_sequences(x_dev, maxlen=max_len)\n",
    "x_dev = [x_dev, (x_dev > 0).astype(int)]\n",
    "\n",
    "seq_lens = [len(seq) for seq in y_dev]\n",
    "y_dev = tf.keras.preprocessing.sequence.pad_sequences(y_dev, maxlen=max_len)\n",
    "print(x_dev[0].shape, x_dev[1].shape, y_dev.shape)"
   ]
  },
  {
   "cell_type": "code",
   "execution_count": 141,
   "metadata": {},
   "outputs": [
    {
     "data": {
      "text/plain": [
       "list"
      ]
     },
     "execution_count": 141,
     "metadata": {},
     "output_type": "execute_result"
    }
   ],
   "source": [
    "type(data['GA']['x_dev'])"
   ]
  },
  {
   "cell_type": "code",
   "execution_count": null,
   "metadata": {},
   "outputs": [],
   "source": []
  }
 ],
 "metadata": {
  "kernelspec": {
   "display_name": "Python (research)",
   "language": "python",
   "name": "research"
  },
  "language_info": {
   "codemirror_mode": {
    "name": "ipython",
    "version": 3
   },
   "file_extension": ".py",
   "mimetype": "text/x-python",
   "name": "python",
   "nbconvert_exporter": "python",
   "pygments_lexer": "ipython3",
   "version": "3.7.7"
  }
 },
 "nbformat": 4,
 "nbformat_minor": 4
}
