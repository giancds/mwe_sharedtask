{
 "cells": [
  {
   "cell_type": "code",
   "execution_count": 2,
   "metadata": {},
   "outputs": [
    {
     "name": "stdout",
     "output_type": "stream",
     "text": [
      "{\n",
      "  \"shell_port\": 62982,\n",
      "  \"iopub_port\": 62983,\n",
      "  \"stdin_port\": 62984,\n",
      "  \"control_port\": 62986,\n",
      "  \"hb_port\": 62985,\n",
      "  \"ip\": \"127.0.0.1\",\n",
      "  \"key\": \"021e9eb0-6d66654d795ee5ae6da277fa\",\n",
      "  \"transport\": \"tcp\",\n",
      "  \"signature_scheme\": \"hmac-sha256\",\n",
      "  \"kernel_name\": \"\"\n",
      "}\n",
      "\n",
      "Paste the above JSON into a file, and connect with:\n",
      "    $> jupyter <app> --existing <file>\n",
      "or, if you are local, you can connect with just:\n",
      "    $> jupyter <app> --existing kernel-eba4b87b-daec-4f3e-afe6-14f0a076cb59.json\n",
      "or even just:\n",
      "    $> jupyter <app> --existing\n",
      "if this is the most recent Jupyter kernel you have started.\n"
     ]
    }
   ],
   "source": [
    "%connect_info"
   ]
  },
  {
   "cell_type": "code",
   "execution_count": 7,
   "metadata": {},
   "outputs": [],
   "source": [
    "temp = 'data/GA/temp.cupt'\n",
    "system = 'data/GA/system.cupt'"
   ]
  },
  {
   "cell_type": "code",
   "execution_count": 14,
   "metadata": {},
   "outputs": [
    {
     "name": "stdout",
     "output_type": "stream",
     "text": [
      "IAV ['1', 'Ní', 'ní', 'PART', 'Vb', 'PartType=Vb', '2', 'advmod', '_', '_', 'IAV']\n",
      "* ['2', 'raibh', 'bí', 'VERB', 'PastInd', 'Form=Len|Mood=Ind|Tense=Past', '0', 'root', '_', '_', '*']\n",
      "* ['3', 'aon', 'aon', 'DET', 'Det', 'PronType=Ind', '4', 'det', '_', '_', '*']\n",
      "* ['4', 'raimhre', 'raimhre', 'NOUN', 'Noun', 'Gender=Fem|Number=Sing', '2', 'nsubj', '_', '_', '*']\n",
      "* ['5', 'fós', 'fós', 'ADV', 'Gn', '_', '2', 'advmod', '_', '_', '*']\n",
      "* ['6', 'sna', 'i', 'ADP', 'Art', 'Number=Plur|PronType=Art', '7', 'case', '_', '_', '*']\n",
      "* ['7', 'prátaí', 'práta', 'NOUN', 'Noun', 'Gender=Masc|Number=Plur', '2', 'obl', '_', '_', '*']\n",
      "* ['8', 'agus', 'agus', 'CCONJ', 'Coord', '_', '9', 'cc', '_', '_', '*']\n",
      "* ['9', 'bhí', 'bí', 'VERB', 'PastInd', 'Form=Len|Mood=Ind|Tense=Past', '2', 'conj', '_', '_', '*']\n",
      "* ['10', 'formhór', 'formhór', 'NOUN', 'Noun', 'Gender=Masc|Number=Sing', '9', 'nsubj', '_', '_', '*']\n",
      "* ['11', 'mór', 'mór', 'ADJ', 'Adj', 'Gender=Masc|Number=Sing', '10', 'amod', '_', '_', '*']\n",
      "IAV ['12', 'na', 'na', 'DET', 'Art', 'Definite=Def|Number=Plur|PronType=Art', '13', 'det', '_', '_', 'IAV']\n",
      "* ['13', 'dtornapaí', 'tornapa', 'NOUN', 'Noun', 'Case=Gen|Definite=Def|Gender=Masc|NounType=Strong|Number=Plur', '10', 'nmod', '_', '_', '*']\n",
      "* ['14', 'ina', 'i', 'ADP', 'Poss', 'Number=Plur|Person=3|Poss=Yes', '15', 'case', '_', '_', '*']\n",
      "IAV ['15', 'bpóiríní', 'póirín', 'NOUN', 'Noun', 'Form=Ecl|Gender=Masc|Number=Plur', '9', 'obl', '_', 'SpaceAfter=No', 'IAV']\n",
      "* ['16', '.', '.', 'PUNCT', '.', '_', '2', 'punct', '_', '_', '*']\n",
      "* ['1', 'Cuireadh', 'cuir', 'VERB', 'VTI', 'Mood=Ind|Tense=Past|Voice=Auto', '0', 'root', '_', '_', '*']\n",
      "* ['2', 'i', 'i', 'ADP', 'Simp', '_', '3', 'case', '_', '_', '*']\n",
      "* ['3', 'dtuama', 'tuama', 'NOUN', 'Noun', 'Form=Ecl|Gender=Masc|Number=Sing', '1', 'obl', '_', '_', '*']\n",
      "IAV ['4', 'simplí', 'simplí', 'ADJ', 'Adj', 'Gender=Masc|Number=Sing', '3', 'amod', '_', '_', 'IAV']\n",
      "* ['5', 'é', 'é', 'PRON', 'Pers', 'Gender=Masc|Number=Sing|Person=3', '1', 'obj', '_', '_', '*']\n",
      "* ['6', 'i', 'i', 'ADP', 'Simp', '_', '7', 'case', '_', '_', '*']\n",
      "* ['7', 'lusca', 'lusca', 'NOUN', 'Noun', 'Gender=Masc|Number=Sing', '1', 'obl', '_', '_', '*']\n",
      "* ['8', 'Bhaisleac', 'baisleac', 'PROPN', 'Noun', 'Case=Gen|Form=Len|Gender=Fem|NounType=Weak|Number=Plur', '7', 'nmod', '_', '_', '*']\n",
      "* ['9', 'Naomh', 'Naomh', 'PROPN', 'Noun', 'Gender=Masc|Number=Sing', '8', 'flat', '_', '_', '*']\n",
      "* ['10', 'Peadar', 'Peadar', 'PROPN', 'Noun', 'Gender=Masc|Number=Sing', '8', 'flat', '_', 'SpaceAfter=No', '*']\n",
      "* ['11', '.', '.', 'PUNCT', '.', '_', '1', 'punct', '_', '_', '*']\n",
      "IAV ['1', 'Bhí', 'bí', 'VERB', 'PastInd', 'Form=Len|Mood=Ind|Tense=Past', '0', 'root', '_', '_', 'IAV']\n",
      "* ['2', 'an', 'an', 'DET', 'Art', 'Definite=Def|Number=Sing|PronType=Art', '3', 'det', '_', '_', '*']\n",
      "* ['3', 'teach', 'teach', 'NOUN', 'Noun', 'Definite=Def|Gender=Masc|Number=Sing', '1', 'nsubj', '_', '_', '*']\n",
      "* ['4', 'is', 'is', 'PART', 'Sup', '_', '5', 'mark:prt', '_', '_', '*']\n",
      "* ['5', 'gaire', 'gar', 'ADJ', 'Adj', 'Degree=Cmp,Sup', '3', 'amod', '_', '_', '*']\n",
      "* ['6', 'dom', 'do', 'ADP', 'Prep', 'Number=Sing|Person=1', '1', 'obl:prep', '_', '_', '*']\n",
      "* ['7', 'anseo', 'anseo', 'ADV', 'Loc', '_', '1', 'advmod', '_', 'SpaceAfter=No', '*']\n",
      "IAV ['8', ',', ',', 'PUNCT', 'Punct', '_', '9', 'punct', '_', '_', 'IAV']\n",
      "* ['9', 'tugadh', 'tabhair', 'VERB', 'VTI', 'Mood=Ind|Tense=Past|Voice=Auto', '1', 'conj', '_', '_', '*']\n",
      "* ['10', 'tí', 'tí', 'NOUN', 'Noun', 'Gender=Fem|Number=Sing', '9', 'obj', '_', '_', '*']\n",
      "* ['11', 'Tom', 'Tom', 'NOUN', 'Noun', 'Gender=Masc|Number=Sing', '10', 'nmod', '_', '_', '*']\n",
      "* ['12', 'Tommy', 'Tommy', 'NOUN', 'Noun', 'Gender=Masc|Number=Sing', '11', 'flat:name', '_', '_', '*']\n",
      "* ['13', 'air', 'ar', 'ADP', 'Prep', 'Gender=Masc|Number=Sing|Person=3', '9', 'obl:prep', '_', 'SpaceAfter=No', '*']\n",
      "* ['14', ',', ',', 'PUNCT', 'Punct', '_', '15', 'punct', '_', '_', '*']\n",
      "* ['15', 'bhí', 'bí', 'VERB', 'PastInd', 'Form=Len|Mood=Ind|Tense=Past', '1', 'conj', '_', '_', '*']\n",
      "IAV ['16', 'mac', 'mac', 'NOUN', 'Noun', 'Gender=Masc|Number=Sing', '15', 'nsubj', '_', '_', 'IAV']\n",
      "* ['17', 'leo', 'le', 'ADP', 'Prep', 'Number=Plur|Person=3', '15', 'obl:prep', '_', '_', '*']\n",
      "* ['18', 'sin', 'sin', 'PRON', 'Dem', 'PronType=Dem', '17', 'det', '_', '_', '*']\n",
      "* ['19', 'ag', 'ag', 'ADP', 'Simp', '_', '20', 'case', '_', '_', '*']\n",
      "* ['20', 'ceol', 'ceol', 'NOUN', 'Noun', 'VerbForm=Vnoun', '15', 'xcomp', '_', 'SpaceAfter=No', '*']\n",
      "* ['21', '.', '.', 'PUNCT', '.', '_', '1', 'punct', '_', '_', '*']\n",
      "* ['1', 'Beidh', 'bí', 'VERB', 'FutInd', 'Mood=Ind|Tense=Fut', '0', 'root', '_', '_', '*']\n",
      "* ['2', 'Cúldoras', 'doras', 'NOUN', 'Noun', 'Case=NomAcc|Gender=Masc|Number=Sing', '1', 'nsubj', '_', '_', '*']\n",
      "* ['3', 'ann', 'i', 'ADP', 'Prep', 'Gender=Masc|Number=Sing|Person=3', '1', 'xcomp:pred', '_', '_', '*']\n",
      "* ['4', \"'\", \"'\", 'PUNCT', 'Punct', '_', '5', 'punct', '_', 'SpaceAfter=No', '*']\n",
      "* ['5', 'agus', 'agus', 'CCONJ', 'Coord', '_', '15', 'mark', '_', '_', '*']\n",
      "* ['6', 'de', 'de', 'ADP', 'Cmpd', 'PrepForm=Cmpd', '8', 'case', '_', '_', '*']\n",
      "* ['7', 'réir', 'réir', 'ADP', 'Cmpd', '_', '6', 'fixed', '_', '_', '*']\n",
      "* ['8', 'mar', 'mar', 'SCONJ', 'Subord', '_', '15', 'obl', '_', '_', '*']\n",
      "* ['9', 'a', 'a', 'PART', 'Vb', 'PartType=Vb|PronType=Rel', '10', 'obl', '_', '_', '*']\n",
      "* ['10', 'bheidh', 'bí', 'VERB', 'FutInd', 'Form=Len|Mood=Ind|Tense=Fut', '8', 'acl:relcl', '_', '_', '*']\n",
      "* ['11', 'an', 'an', 'DET', 'Art', 'Definite=Def|Number=Sing|PronType=Art', '12', 'det', '_', '_', '*']\n",
      "IAV ['12', 'samhradh', 'samhradh', 'NOUN', 'Noun', 'Case=NomAcc|Definite=Def|Gender=Masc|Number=Sing', '10', 'nsubj', '_', '_', 'IAV']\n",
      "* ['13', 'á', 'do', 'ADP', 'Poss', 'Gender=Masc|Number=Sing|Person=3|Poss=Yes|PronType=Prs', '14', 'case', '_', '_', '*']\n",
      "* ['14', 'chaitheamh', 'caitheamh', 'NOUN', 'Noun', 'Form=Len|VerbForm=Inf', '10', 'xcomp', '_', '_', '*']\n",
      "* ['15', 'beidh', 'bí', 'VERB', 'FutInd', 'Mood=Ind|Tense=Fut', '1', 'advcl', '_', '_', '*']\n",
      "* ['16', 'an', 'an', 'DET', 'Art', 'Definite=Def|Number=Sing|PronType=Art', '17', 'det', '_', '_', '*']\n",
      "* ['17', 'ríomhaire', 'ríomhaire', 'NOUN', 'Noun', 'Case=NomAcc|Definite=Def|Gender=Masc|Number=Sing', '15', 'nsubj', '_', '_', '*']\n",
      "* ['18', 'ag', 'ag', 'ADP', 'Simp', '_', '19', 'case', '_', '_', '*']\n",
      "* ['19', 'cur', 'cur', 'NOUN', 'Noun', 'VerbForm=Vnoun', '15', 'xcomp', '_', '_', '*']\n",
      "* ['20', 'foirne', 'foireann', 'NOUN', 'Noun', 'Case=Gen|Gender=Fem|NounType=Strong|Number=Plur', '19', 'obj', '_', '_', '*']\n",
      "* ['21', 'ó', 'ó', 'ADP', 'Simp', '_', '22', 'case', '_', '_', '*']\n",
      "* ['22', 'bhealach', 'bealach', 'NOUN', 'Noun', 'Case=NomAcc|Form=Len|Gender=Masc|Number=Sing', '19', 'nmod', '_', '_', '*']\n",
      "* ['23', 'sa', 'i', 'ADP', 'Art', 'Number=Sing|PronType=Art', '24', 'case', '_', '_', '*']\n",
      "* ['24', 'gcaoi', 'caoi', 'NOUN', 'Noun', 'Case=NomAcc|Form=Ecl|Gender=Fem|Number=Sing', '19', 'nmod', '_', '_', '*']\n",
      "* ['25', 'agus', 'agus', 'CCONJ', 'Coord', '_', '28', 'mark', '_', '_', '*']\n",
      "* ['26', 'nuair', 'nuair', 'SCONJ', 'Subord', '_', '28', 'mark', '_', '_', '*']\n",
      "IAV ['27', 'a', 'a', 'PART', 'Vb', 'PartType=Vb|PronType=Rel', '28', 'mark:prt', '_', '_', 'IAV']\n",
      "* ['28', 'shroichfear', 'sroich', 'VERB', 'VTI', 'Form=Len|Mood=Ind|Tense=Fut|Voice=Auto', '15', 'advcl', '_', '_', '*']\n",
      "* ['29', 'mí', 'mí', 'NOUN', 'Noun', 'Case=NomAcc|Gender=Fem|Number=Sing', '28', 'obj', '_', '_', '*']\n",
      "IAV ['30', 'Mheán', 'meán', 'NOUN', 'Noun', 'Case=NomAcc|Form=Len|Gender=Masc|Number=Sing', '29', 'nmod', '_', '_', 'IAV']\n",
      "* ['31', 'Fómhair', 'fómhar', 'NOUN', 'Noun', 'Case=Gen|Gender=Masc|Number=Sing', '30', 'flat', '_', '_', '*']\n",
      "* ['32', 'nach', 'nach', 'PART', 'Vb', 'PartType=Cmpl|Polarity=Neg', '33', 'mark:prt', '_', '_', '*']\n",
      "* ['33', 'mbeidh', 'bí', 'VERB', 'FutInd', 'Form=Ecl|Mood=Ind|Tense=Fut', '31', 'ccomp', '_', '_', '*']\n",
      "* ['34', 'fanta', 'fanta', 'ADJ', 'Adj', 'VerbForm=Part', '33', 'xcomp:pred', '_', '_', '*']\n",
      "* ['35', 'san', 'i', 'ADP', 'Art', 'Number=Sing|PronType=Art', '36', 'case', '_', '_', '*']\n",
      "* ['36', 'iomaíocht', 'iomaíocht', 'NOUN', 'Noun', 'Case=NomAcc|Definite=Def|Gender=Fem|Number=Sing', '33', 'xcomp:pred', '_', '_', '*']\n",
      "* ['37', 'ach', 'ach', 'SCONJ', 'Subord', '_', '39', 'mark', '_', '_', '*']\n",
      "* ['38', 'dhá', 'dó', 'NUM', 'Num', 'NumType=Card', '39', 'nummod', '_', '_', '*']\n",
      "* ['39', 'chontae', 'contae', 'NOUN', 'Noun', 'Case=NomAcc|Form=Len|Gender=Masc|Number=Sing', '33', 'advcl', '_', '_', '*']\n",
      "IAV ['40', 'sa', 'i', 'ADP', 'Art', 'Number=Sing|PronType=Art', '41', 'case', '_', '_', 'IAV']\n"
     ]
    }
   ],
   "source": [
    "c = 0\n",
    "with open(temp, 'r') as t:\n",
    "    for line in t:\n",
    "        feats = line.split()\n",
    "        if not line.startswith('#') and line != '\\n' and '-' not in feats[0]:\n",
    "            print(feats[10], line.split())\n",
    "        c += 1\n",
    "        if c == 100:\n",
    "            break"
   ]
  },
  {
   "cell_type": "code",
   "execution_count": null,
   "metadata": {},
   "outputs": [],
   "source": []
  }
 ],
 "metadata": {
  "kernelspec": {
   "display_name": "research",
   "language": "python",
   "name": "research"
  },
  "language_info": {
   "codemirror_mode": {
    "name": "ipython",
    "version": 3
   },
   "file_extension": ".py",
   "mimetype": "text/x-python",
   "name": "python",
   "nbconvert_exporter": "python",
   "pygments_lexer": "ipython3",
   "version": "3.8.3"
  }
 },
 "nbformat": 4,
 "nbformat_minor": 4
}
