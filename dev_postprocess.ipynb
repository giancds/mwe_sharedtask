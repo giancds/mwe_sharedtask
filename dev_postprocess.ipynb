{
 "cells": [
  {
   "cell_type": "code",
   "execution_count": 39,
   "metadata": {},
   "outputs": [],
   "source": [
    "with open('cnn.out') as f:\n",
    "    lines= f.readlines()"
   ]
  },
  {
   "cell_type": "code",
   "execution_count": 40,
   "metadata": {},
   "outputs": [
    {
     "data": {
      "text/plain": [
       "list"
      ]
     },
     "execution_count": 40,
     "metadata": {},
     "output_type": "execute_result"
    }
   ],
   "source": [
    "type(lines)"
   ]
  },
  {
   "cell_type": "code",
   "execution_count": 41,
   "metadata": {},
   "outputs": [],
   "source": [
    "lines= [l.replace('\\n', '') for l in lines]"
   ]
  },
  {
   "cell_type": "code",
   "execution_count": 44,
   "metadata": {},
   "outputs": [
    {
     "data": {
      "text/plain": [
       "['nohup: ignorando entrada',\n",
       " '',\n",
       " 'Training for percent 0.000000',\n",
       " 'Data size: 13282',\n",
       " '',\n",
       " '  epoch      F1    train_loss    valid_loss    cp      dur',\n",
       " '-------  ------  ------------  ------------  ----  -------',\n",
       " '      1  \\x1b[36m0.1834\\x1b[0m        \\x1b[32m0.1759\\x1b[0m        \\x1b[35m0.0831\\x1b[0m     +  25.7684',\n",
       " '      2  \\x1b[36m0.2283\\x1b[0m        \\x1b[32m0.1415\\x1b[0m        \\x1b[35m0.0687\\x1b[0m     +  26.0605',\n",
       " '      3  0.2159        \\x1b[32m0.1344\\x1b[0m        0.0737        26.2540',\n",
       " '      4  0.2040        \\x1b[32m0.1300\\x1b[0m        0.0797        26.5358',\n",
       " '      5  0.2211        \\x1b[32m0.1262\\x1b[0m        0.0776        26.6314',\n",
       " '      6  0.2122        \\x1b[32m0.1244\\x1b[0m        0.0815        26.6681',\n",
       " '      7  0.2058        \\x1b[32m0.1212\\x1b[0m        0.0888        26.7118',\n",
       " '      8  0.2209        \\x1b[32m0.1186\\x1b[0m        0.0829        26.8978',\n",
       " '      9  0.2247        \\x1b[32m0.1169\\x1b[0m        0.0841        27.0761',\n",
       " '     10  0.2270        \\x1b[32m0.1163\\x1b[0m        0.0840        26.7975',\n",
       " '     11  \\x1b[36m0.2384\\x1b[0m        \\x1b[32m0.1145\\x1b[0m        0.0771     +  26.8588',\n",
       " '     12  \\x1b[36m0.2467\\x1b[0m        \\x1b[32m0.1120\\x1b[0m        0.0759     +  26.6107',\n",
       " '     13  \\x1b[36m0.2570\\x1b[0m        \\x1b[32m0.1116\\x1b[0m        0.0712     +  26.6677',\n",
       " '     14  0.2239        \\x1b[32m0.1099\\x1b[0m        0.1024        26.6335',\n",
       " '     15  \\x1b[36m0.2573\\x1b[0m        \\x1b[32m0.1098\\x1b[0m        0.0773     +  26.8502',\n",
       " '     16  0.2529        \\x1b[32m0.1084\\x1b[0m        0.0785        26.5616',\n",
       " '     17  0.2411        \\x1b[32m0.1082\\x1b[0m        0.0910        26.5770',\n",
       " '     18  0.2351        \\x1b[32m0.1064\\x1b[0m        0.0931        26.6464',\n",
       " '     19  0.2455        \\x1b[32m0.1054\\x1b[0m        0.0826        26.8787',\n",
       " '     20  0.2463        \\x1b[32m0.1052\\x1b[0m        0.0841        26.6775',\n",
       " '     21  \\x1b[36m0.2723\\x1b[0m        \\x1b[32m0.1045\\x1b[0m        0.0916     +  26.6761',\n",
       " '     22  0.2676        \\x1b[32m0.1045\\x1b[0m        0.0828        26.4607',\n",
       " '     23  0.2609        \\x1b[32m0.1026\\x1b[0m        0.0797        26.7490',\n",
       " '     24  0.2584        \\x1b[32m0.1017\\x1b[0m        0.0845        26.6444',\n",
       " '     25  0.2646        0.1029        0.0759        26.7980',\n",
       " '     26  \\x1b[36m0.2791\\x1b[0m        0.1021        0.0755     +  26.6526',\n",
       " '     27  0.2722        \\x1b[32m0.1011\\x1b[0m        0.0804        26.4411',\n",
       " '     28  0.2620        \\x1b[32m0.1008\\x1b[0m        0.1013        26.6044',\n",
       " '     29  0.2753        \\x1b[32m0.1006\\x1b[0m        0.0762        26.5722',\n",
       " '     30  \\x1b[36m0.2964\\x1b[0m        \\x1b[32m0.0987\\x1b[0m        0.0701     +  26.4696',\n",
       " '     31  0.2729        \\x1b[32m0.0986\\x1b[0m        0.0811        26.5264',\n",
       " '     32  \\x1b[36m0.2969\\x1b[0m        \\x1b[32m0.0979\\x1b[0m        0.0694     +  26.6318',\n",
       " '     33  0.2876        0.0985        0.0827        26.3029',\n",
       " '     34  0.2882        \\x1b[32m0.0974\\x1b[0m        0.0764        26.6000',\n",
       " '     35  0.2771        \\x1b[32m0.0969\\x1b[0m        0.0849        26.5698',\n",
       " '     36  0.2664        \\x1b[32m0.0965\\x1b[0m        0.0837        26.5540',\n",
       " '     37  \\x1b[36m0.3003\\x1b[0m        0.0967        0.0720     +  26.5275',\n",
       " '     38  \\x1b[36m0.3085\\x1b[0m        \\x1b[32m0.0955\\x1b[0m        0.0746     +  26.3327',\n",
       " '     39  0.2658        0.0959        0.0879        26.2533',\n",
       " '     40  0.2611        0.0973        0.0881        26.5701',\n",
       " '     41  0.2674        0.0961        0.0897        26.5872',\n",
       " '     42  0.2991        \\x1b[32m0.0949\\x1b[0m        0.0760        26.4747',\n",
       " '     43  \\x1b[36m0.3230\\x1b[0m        \\x1b[32m0.0948\\x1b[0m        0.0710     +  26.4590',\n",
       " '     44  0.2932        \\x1b[32m0.0946\\x1b[0m        0.0796        26.2540',\n",
       " '     45  0.2723        \\x1b[32m0.0937\\x1b[0m        0.0908        26.4355',\n",
       " '     46  0.3090        0.0943        0.0742        26.4163',\n",
       " '     47  0.2932        0.0938        0.0806        26.5596',\n",
       " '     48  0.2895        0.0938        0.0814        26.4679',\n",
       " '     49  0.2862        \\x1b[32m0.0923\\x1b[0m        0.0834        26.4687',\n",
       " '     50  0.3032        0.0932        0.0798        26.4802',\n",
       " '     51  0.2946        0.0928        0.0846        26.4674',\n",
       " '     52  0.3152        \\x1b[32m0.0923\\x1b[0m        0.0740        26.5044',\n",
       " '     53  0.2971        \\x1b[32m0.0920\\x1b[0m        0.0810        26.5504',\n",
       " '     54  0.3091        0.0925        0.0765        26.4804',\n",
       " '     55  0.2955        0.0925        0.0833        26.5204',\n",
       " '     56  0.3095        0.0922        0.0802        26.5511',\n",
       " '     57  0.2840        0.0925        0.0878        26.5327',\n",
       " '     58  0.2987        \\x1b[32m0.0904\\x1b[0m        0.0818        26.6036',\n",
       " '     59  0.3161        0.0908        0.0757        26.5523',\n",
       " '     60  0.2982        0.0910        0.0829        26.5182',\n",
       " '     61  0.3129        0.0909        0.0797        26.6029',\n",
       " '     62  0.2875        0.0910        0.0862        26.5442',\n",
       " 'Stopping since F1 has not improved in the last 20 epochs.',\n",
       " 'Re-initializing optimizer.',\n",
       " '####################',\n",
       " '# Evaluating Language: DE',\n",
       " '####################',\n",
       " '0',\n",
       " '## Global evaluation',\n",
       " '* MWE-based: P=132/1092=0.1209 R=132/267=0.4944 F=0.1943',\n",
       " '* Tok-based: P=517/11746=0.0440 R=517/517=1.0000 F=0.0843',\n",
       " '',\n",
       " '## Per-category evaluation (partition of Global)',\n",
       " '* IRV: MWE-proportion: gold=14/267=5% pred=9/1092=1%',\n",
       " '* IRV: MWE-based: P=5/9=0.5556 R=5/14=0.3571 F=0.4348',\n",
       " '* IRV: Tok-based: P=18/31=0.5806 R=18/30=0.6000 F=0.5902',\n",
       " '* LVC.cause: MWE-proportion: gold=2/267=1% pred=1/1092=0%',\n",
       " '* LVC.cause: MWE-based: P=1/1=1.0000 R=1/2=0.5000 F=0.6667',\n",
       " '* LVC.cause: Tok-based: P=3/3=1.0000 R=3/6=0.5000 F=0.6667',\n",
       " '* LVC.full: MWE-proportion: gold=26/267=10% pred=18/1092=2%',\n",
       " '* LVC.full: MWE-based: P=12/18=0.6667 R=12/26=0.4615 F=0.5455',\n",
       " '* LVC.full: Tok-based: P=42/62=0.6774 R=42/63=0.6667 F=0.6720',\n",
       " '* <unlabeled>: MWE-proportion: gold=0/267=0% pred=908/1092=83%',\n",
       " '* <unlabeled>: MWE-based: P=0/908=0.0000 R=0/0=0.0000 F=0.0000',\n",
       " '* <unlabeled>: Tok-based: P=0/11253=0.0000 R=0/0=0.0000 F=0.0000',\n",
       " '* VID: MWE-proportion: gold=95/267=36% pred=70/1092=6%',\n",
       " '* VID: MWE-based: P=54/70=0.7714 R=54/95=0.5684 F=0.6545',\n",
       " '* VID: Tok-based: P=175/214=0.8178 R=175/236=0.7415 F=0.7778',\n",
       " '* VPC.full: MWE-proportion: gold=122/267=46% pred=80/1092=7%',\n",
       " '* VPC.full: MWE-based: P=56/80=0.7000 R=56/122=0.4590 F=0.5545',\n",
       " '* VPC.full: Tok-based: P=117/166=0.7048 R=117/170=0.6882 F=0.6964',\n",
       " '* VPC.semi: MWE-proportion: gold=8/267=3% pred=6/1092=1%',\n",
       " '* VPC.semi: MWE-based: P=4/6=0.6667 R=4/8=0.5000 F=0.5714']"
      ]
     },
     "execution_count": 44,
     "metadata": {},
     "output_type": "execute_result"
    }
   ],
   "source": [
    "lines[0:100]"
   ]
  },
  {
   "cell_type": "code",
   "execution_count": 45,
   "metadata": {},
   "outputs": [
    {
     "data": {
      "text/plain": [
       "['*', 'MWE-based:', 'P=132/1092=0.1209', 'R=132/267=0.4944', 'F=0.1943']"
      ]
     },
     "execution_count": 45,
     "metadata": {},
     "output_type": "execute_result"
    }
   ],
   "source": [
    "lines[76].split()"
   ]
  },
  {
   "cell_type": "code",
   "execution_count": 63,
   "metadata": {},
   "outputs": [],
   "source": [
    "percents = []\n",
    "codes = []\n",
    "mwe = []\n",
    "mwe_pred_type = []\n",
    "\n",
    "proportions_gold_pred = []\n",
    "proportions_gold_total = []\n",
    "proportions_gold_perc = []\n",
    "\n",
    "proportions_pred_pred = []\n",
    "proportions_pred_total = []\n",
    "proportions_pred_perc = []\n",
    "\n",
    "\n",
    "p_pred = []\n",
    "p_total = []\n",
    "p = []\n",
    "\n",
    "r_pred = []\n",
    "r_total = []\n",
    "r = []\n",
    "\n",
    "f = []\n",
    "\n",
    "code = None\n",
    "percent = None\n",
    "\n",
    "\n",
    "for step, _line in enumerate(lines):\n",
    "    \n",
    "    if '# Evaluating Language:' in _line:\n",
    "        code = _line.split()[-1]\n",
    "    \n",
    "    elif 'Training for percent' in _line:\n",
    "        percent = float(_line.split()[-1])\n",
    "    \n",
    "    elif '*' in _line:\n",
    "        line = _line.split()\n",
    "        if line[1] == 'MWE-based:' or line[1] == 'Tok-based:':\n",
    "            \n",
    "            percents.append(percent)\n",
    "            codes.append(code)\n",
    "\n",
    "            mwe.append(None)\n",
    "            mwe_pred_type.append(line[1])\n",
    "            \n",
    "            proportions_gold_pred.append(None)\n",
    "            proportions_gold_total.append(None)\n",
    "            proportions_gold_perc.append(None)\n",
    "            \n",
    "            proportions_pred_pred.append(None)\n",
    "            proportions_pred_total.append(None)\n",
    "            proportions_pred_perc.append(None)\n",
    "                                    \n",
    "            p_pred, p_total, p = extract_values(line[2], p_pred, p_total, p)\n",
    "            r_pred, r_total, r= extract_values(line[3], r_pred, r_total, r)            \n",
    "\n",
    "            f.append(float(line[4].split('=')[-1]))\n",
    "\n",
    "        elif line[2] == 'MWE-based:' or line[2] == 'Tok-based:':\n",
    "            percents.append(percent)\n",
    "            codes.append(code)\n",
    "\n",
    "            mwe.append(line[1])\n",
    "            mwe_pred_type.append(line[2])\n",
    "            \n",
    "            proportions_gold_pred.append(pred_g)\n",
    "            proportions_gold_total.append(total_g)\n",
    "            proportions_gold_perc.append(metric_g)\n",
    "            \n",
    "            proportions_pred_pred.append(pred_p)\n",
    "            proportions_pred_total.append(total_p)\n",
    "            proportions_pred_perc.append(metric_p)\n",
    "\n",
    "            \n",
    "            p_pred, p_total, p = extract_values(line[3], p_pred, p_total, p)\n",
    "            r_pred, r_total, r= extract_values(line[4], r_pred, r_total, r)            \n",
    "            \n",
    "            f.append(float(line[5].split('=')[-1]))\n",
    "            \n",
    "        elif line[2] == 'MWE-proportion:':\n",
    "            pred_g, total_g, metric_g = extract_values(line[3], scores=False)\n",
    "            pred_p, total_p, metric_p = extract_values(line[4], scores=False)            \n",
    "                                    \n",
    "   \n",
    "#         print(percent)\n"
   ]
  }
 ],
 "metadata": {
  "kernelspec": {
   "display_name": "research",
   "language": "python",
   "name": "research"
  },
  "language_info": {
   "codemirror_mode": {
    "name": "ipython",
    "version": 3
   },
   "file_extension": ".py",
   "mimetype": "text/x-python",
   "name": "python",
   "nbconvert_exporter": "python",
   "pygments_lexer": "ipython3",
   "version": "3.8.3"
  }
 },
 "nbformat": 4,
 "nbformat_minor": 4
}
