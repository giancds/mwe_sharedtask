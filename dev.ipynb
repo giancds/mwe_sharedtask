{
 "nbformat": 4,
 "nbformat_minor": 2,
 "metadata": {
  "language_info": {
   "name": "python",
   "codemirror_mode": {
    "name": "ipython",
    "version": 3
   },
   "version": "3.7.7-final"
  },
  "orig_nbformat": 2,
  "file_extension": ".py",
  "mimetype": "text/x-python",
  "name": "python",
  "npconvert_exporter": "python",
  "pygments_lexer": "ipython3",
  "version": 3,
  "kernelspec": {
   "name": "python37764bitresearchvenv33cf3daf602546df8c88da4de162b365",
   "display_name": "Python 3.7.7 64-bit ('research': venv)"
  }
 },
 "cells": [
  {
   "cell_type": "code",
   "execution_count": 1,
   "metadata": {},
   "outputs": [],
   "source": [
    "import pandas as pd"
   ]
  },
  {
   "cell_type": "markdown",
   "metadata": {},
   "source": [
    "## Helper functions\n",
    "\n",
    "The following function does a pre-processing of the file in `.cupt` format and convert the data into a `pandas DataFrame`. Each line of the resulting dataframe is a token from a sentence in the original dataset. Each line also contains the `id` of the original sentence so we can keep track of which line belons to which sentence."
   ]
  },
  {
   "cell_type": "code",
   "execution_count": 2,
   "metadata": {},
   "outputs": [],
   "source": [
    "def process_cup(text):\n",
    "\n",
    "    id_sent = None\n",
    "    features = []\n",
    "\n",
    "    for line in text:\n",
    "\n",
    "        if line is '\\n':\n",
    "            id_sent = None\n",
    "        elif line.startswith('# source_sent_id'):\n",
    "            tokens = line.split()\n",
    "            id_sent = tokens[-1]\n",
    "        elif not line.startswith('#'):\n",
    "            feats = line.split()\n",
    "            feats_dict = {\n",
    "                'id_sent': id_sent,\n",
    "                'id': feats[0],\n",
    "                'form': feats[1],\n",
    "                'lemma': feats[2],\n",
    "                'upos': feats[3],\n",
    "                'xpos': feats[4],\n",
    "                'feats': feats[5],\n",
    "                'head': feats[6],\n",
    "                'deprel': feats[7],\n",
    "                'deps': feats[8],\n",
    "                'misc': feats[9],\n",
    "                'mwe': feats[10]\n",
    "            }\n",
    "            features.append(feats_dict)\n",
    "\n",
    "    return pd.DataFrame(features)"
   ]
  },
  {
   "cell_type": "markdown",
   "metadata": {},
   "source": [
    "The following function extracts the individual labels from the sentences from files in in the `c.upt` format into a `python list`. \n",
    "\n",
    "For example:\n",
    "\n",
    "|- `'1:IRV'` yield `['IRV']`\n",
    "\n",
    "|- `'1:IRV;2:VPC.full'` yield `['IRV', 'VPC.full']`\n",
    "\n",
    "|- `'1;VPC.full'` yield `['1', 'VPC.full']`\n",
    "\n",
    "|- `'1;2'` yield `['1', '2']`\n",
    "\n",
    "|- `'*'` yield `['*']`"
   ]
  },
  {
   "cell_type": "code",
   "execution_count": 3,
   "metadata": {},
   "outputs": [],
   "source": [
    "def proc_label(string):\n",
    "    if string is '*':\n",
    "        return [string]\n",
    "    \n",
    "    labels = []\n",
    "    if ';' in string and ':' in string:\n",
    "        label = string.split(';')\n",
    "        for l in label:            \n",
    "            labels.append(l.split(':')[-1])\n",
    "    \n",
    "    elif ';' in string and ':' not in string:\n",
    "        l = string.split(';')\n",
    "        if l[-1] in ['1', '2', '3', '4', '5']:\n",
    "            labels += [i for i in l]\n",
    "    \n",
    "    elif ';' not in string and ':' in string:\n",
    "        labels.append(string.split(':')[-1])\n",
    "    \n",
    "    elif string in ['1', '2', '3', '4', '5']:\n",
    "        return [string]\n",
    "    \n",
    "    return labels"
   ]
  },
  {
   "cell_type": "markdown",
   "metadata": {},
   "source": [
    "This function will build the dataset with the respective labels."
   ]
  },
  {
   "cell_type": "code",
   "execution_count": 4,
   "metadata": {},
   "outputs": [],
   "source": [
    "def build_dataset(text):\n",
    "    examples = []\n",
    "    flag = False\n",
    "    example = ''\n",
    "    for line in text:\n",
    "        if line is '\\n':     # if it is an empty line, we reset everything\n",
    "            label = 1 if flag else 0\n",
    "            examples.append((example.strip(), label))\n",
    "            example = ''\n",
    "            flag = False\n",
    "\n",
    "        elif not line.startswith('#'):     # if it is not a line of metadata\n",
    "            feats = line.split()\n",
    "            example += ' ' + feats[3]\n",
    "            if feats[10] is not '*' and flag == False:\n",
    "                flag = True\n",
    "\n",
    "    return examples"
   ]
  },
  {
   "cell_type": "code",
   "execution_count": 5,
   "metadata": {},
   "outputs": [],
   "source": [
    "def build_per_word_dataset(text):\n",
    "    examples = []\n",
    "    example = ''\n",
    "    labels = ''\n",
    "    for line in text:\n",
    "        if line is '\\n':     # if it is an empty line, we reset everything            \n",
    "            examples.append((example.strip(), labels.strip()))\n",
    "            example = ''\n",
    "            labels = ''\n",
    "\n",
    "        elif not line.startswith('#'):     # if it is not a line of metadata\n",
    "            feats = line.split()\n",
    "            example += ' ' + feats[3]\n",
    "            label = ' 0' if feats[10] is '*' else ' 1'\n",
    "            labels +=  label\n",
    "\n",
    "    return examples"
   ]
  },
  {
   "cell_type": "markdown",
   "metadata": {},
   "source": [
    "## German"
   ]
  },
  {
   "cell_type": "code",
   "execution_count": 6,
   "metadata": {},
   "outputs": [
    {
     "output_type": "execute_result",
     "data": {
      "text/plain": "           id_sent  id        form       lemma   upos   xpos  \\\n0   newscrawl-2153   1       Peter       Peter  PROPN     NE   \n1   newscrawl-2153   2     Hermann     Hermann  PROPN     NE   \n2   newscrawl-2153   3           ,           ,  PUNCT     $,   \n3   newscrawl-2153   4    Heynckes    Heynckes  PROPN     NE   \n4   newscrawl-2153   5           '           '  PUNCT     $(   \n5   newscrawl-2153   6  Co-Trainer  Co-Trainer   NOUN     NE   \n6   newscrawl-2153   7        beim        beim  PROPN     NE   \n7   newscrawl-2153   8          FC          FC  PROPN     NN   \n8   newscrawl-2153   9      Bayern      Bayern  PROPN     NE   \n9   newscrawl-2153  10           ,           ,  PUNCT     $,   \n10  newscrawl-2153  11        wird      werden    AUX  VAFIN   \n11  newscrawl-2153  12          in          in    ADP   APPR   \n12  newscrawl-2153  13         der         der    DET    ART   \n13  newscrawl-2153  14       neuen         neu    ADJ   ADJA   \n14  newscrawl-2153  15      Saison      Saison   NOUN     NN   \n15  newscrawl-2153  16        beim        beim  PROPN     NE   \n16  newscrawl-2153  17          FC          FC  PROPN     NN   \n17  newscrawl-2153  18     Schalke      Schalk  PROPN     NE   \n18  newscrawl-2153  19          04          04  PROPN   CARD   \n19  newscrawl-2153  20         auf         auf    ADP   APPR   \n\n                                                feats head    deprel deps  \\\n0                    Case=Nom|Gender=Masc|Number=Sing   23     nsubj    _   \n1                    Case=Nom|Gender=Masc|Number=Sing    1      flat    _   \n2                                                   _    4     punct    _   \n3                    Case=Nom|Gender=Masc|Number=Sing    6      nmod    _   \n4                                                   _    4     punct    _   \n5                    Case=Nom|Gender=Masc|Number=Sing    1      flat    _   \n6                    Case=Nom|Gender=Masc|Number=Sing    1      flat    _   \n7                    Case=Nom|Gender=Masc|Number=Sing    1      flat    _   \n8                    Case=Nom|Gender=Neut|Number=Sing    1      flat    _   \n9                                                   _    1     punct    _   \n10  Mood=Ind|Number=Sing|Person=3|Tense=Pres|VerbF...   23  aux:pass    _   \n11                                                  _   15      case    _   \n12  Case=Dat|Definite=Def|Gender=Fem|Number=Sing|P...   15       det    _   \n13                    Case=Dat|Gender=Fem|Number=Sing   15      amod    _   \n14                    Case=Dat|Gender=Fem|Number=Sing   23       obl    _   \n15                   Case=Dat|Gender=Neut|Number=Sing   23     nsubj    _   \n16                   Case=Dat|Gender=Masc|Number=Sing   16      flat    _   \n17                   Case=Acc|Gender=Neut|Number=Sing   23       obj    _   \n18                                       NumType=Card   18     appos    _   \n19                                                  _   22      case    _   \n\n             misc mwe  \n0               _   *  \n1   SpaceAfter=No   *  \n2               _   *  \n3               _   *  \n4               _   *  \n5               _   *  \n6               _   *  \n7               _   *  \n8   SpaceAfter=No   *  \n9               _   *  \n10              _   *  \n11              _   *  \n12              _   *  \n13              _   *  \n14              _   *  \n15              _   *  \n16              _   *  \n17              _   *  \n18              _   *  \n19              _   *  ",
      "text/html": "<div>\n<style scoped>\n    .dataframe tbody tr th:only-of-type {\n        vertical-align: middle;\n    }\n\n    .dataframe tbody tr th {\n        vertical-align: top;\n    }\n\n    .dataframe thead th {\n        text-align: right;\n    }\n</style>\n<table border=\"1\" class=\"dataframe\">\n  <thead>\n    <tr style=\"text-align: right;\">\n      <th></th>\n      <th>id_sent</th>\n      <th>id</th>\n      <th>form</th>\n      <th>lemma</th>\n      <th>upos</th>\n      <th>xpos</th>\n      <th>feats</th>\n      <th>head</th>\n      <th>deprel</th>\n      <th>deps</th>\n      <th>misc</th>\n      <th>mwe</th>\n    </tr>\n  </thead>\n  <tbody>\n    <tr>\n      <th>0</th>\n      <td>newscrawl-2153</td>\n      <td>1</td>\n      <td>Peter</td>\n      <td>Peter</td>\n      <td>PROPN</td>\n      <td>NE</td>\n      <td>Case=Nom|Gender=Masc|Number=Sing</td>\n      <td>23</td>\n      <td>nsubj</td>\n      <td>_</td>\n      <td>_</td>\n      <td>*</td>\n    </tr>\n    <tr>\n      <th>1</th>\n      <td>newscrawl-2153</td>\n      <td>2</td>\n      <td>Hermann</td>\n      <td>Hermann</td>\n      <td>PROPN</td>\n      <td>NE</td>\n      <td>Case=Nom|Gender=Masc|Number=Sing</td>\n      <td>1</td>\n      <td>flat</td>\n      <td>_</td>\n      <td>SpaceAfter=No</td>\n      <td>*</td>\n    </tr>\n    <tr>\n      <th>2</th>\n      <td>newscrawl-2153</td>\n      <td>3</td>\n      <td>,</td>\n      <td>,</td>\n      <td>PUNCT</td>\n      <td>$,</td>\n      <td>_</td>\n      <td>4</td>\n      <td>punct</td>\n      <td>_</td>\n      <td>_</td>\n      <td>*</td>\n    </tr>\n    <tr>\n      <th>3</th>\n      <td>newscrawl-2153</td>\n      <td>4</td>\n      <td>Heynckes</td>\n      <td>Heynckes</td>\n      <td>PROPN</td>\n      <td>NE</td>\n      <td>Case=Nom|Gender=Masc|Number=Sing</td>\n      <td>6</td>\n      <td>nmod</td>\n      <td>_</td>\n      <td>_</td>\n      <td>*</td>\n    </tr>\n    <tr>\n      <th>4</th>\n      <td>newscrawl-2153</td>\n      <td>5</td>\n      <td>'</td>\n      <td>'</td>\n      <td>PUNCT</td>\n      <td>$(</td>\n      <td>_</td>\n      <td>4</td>\n      <td>punct</td>\n      <td>_</td>\n      <td>_</td>\n      <td>*</td>\n    </tr>\n    <tr>\n      <th>5</th>\n      <td>newscrawl-2153</td>\n      <td>6</td>\n      <td>Co-Trainer</td>\n      <td>Co-Trainer</td>\n      <td>NOUN</td>\n      <td>NE</td>\n      <td>Case=Nom|Gender=Masc|Number=Sing</td>\n      <td>1</td>\n      <td>flat</td>\n      <td>_</td>\n      <td>_</td>\n      <td>*</td>\n    </tr>\n    <tr>\n      <th>6</th>\n      <td>newscrawl-2153</td>\n      <td>7</td>\n      <td>beim</td>\n      <td>beim</td>\n      <td>PROPN</td>\n      <td>NE</td>\n      <td>Case=Nom|Gender=Masc|Number=Sing</td>\n      <td>1</td>\n      <td>flat</td>\n      <td>_</td>\n      <td>_</td>\n      <td>*</td>\n    </tr>\n    <tr>\n      <th>7</th>\n      <td>newscrawl-2153</td>\n      <td>8</td>\n      <td>FC</td>\n      <td>FC</td>\n      <td>PROPN</td>\n      <td>NN</td>\n      <td>Case=Nom|Gender=Masc|Number=Sing</td>\n      <td>1</td>\n      <td>flat</td>\n      <td>_</td>\n      <td>_</td>\n      <td>*</td>\n    </tr>\n    <tr>\n      <th>8</th>\n      <td>newscrawl-2153</td>\n      <td>9</td>\n      <td>Bayern</td>\n      <td>Bayern</td>\n      <td>PROPN</td>\n      <td>NE</td>\n      <td>Case=Nom|Gender=Neut|Number=Sing</td>\n      <td>1</td>\n      <td>flat</td>\n      <td>_</td>\n      <td>SpaceAfter=No</td>\n      <td>*</td>\n    </tr>\n    <tr>\n      <th>9</th>\n      <td>newscrawl-2153</td>\n      <td>10</td>\n      <td>,</td>\n      <td>,</td>\n      <td>PUNCT</td>\n      <td>$,</td>\n      <td>_</td>\n      <td>1</td>\n      <td>punct</td>\n      <td>_</td>\n      <td>_</td>\n      <td>*</td>\n    </tr>\n    <tr>\n      <th>10</th>\n      <td>newscrawl-2153</td>\n      <td>11</td>\n      <td>wird</td>\n      <td>werden</td>\n      <td>AUX</td>\n      <td>VAFIN</td>\n      <td>Mood=Ind|Number=Sing|Person=3|Tense=Pres|VerbF...</td>\n      <td>23</td>\n      <td>aux:pass</td>\n      <td>_</td>\n      <td>_</td>\n      <td>*</td>\n    </tr>\n    <tr>\n      <th>11</th>\n      <td>newscrawl-2153</td>\n      <td>12</td>\n      <td>in</td>\n      <td>in</td>\n      <td>ADP</td>\n      <td>APPR</td>\n      <td>_</td>\n      <td>15</td>\n      <td>case</td>\n      <td>_</td>\n      <td>_</td>\n      <td>*</td>\n    </tr>\n    <tr>\n      <th>12</th>\n      <td>newscrawl-2153</td>\n      <td>13</td>\n      <td>der</td>\n      <td>der</td>\n      <td>DET</td>\n      <td>ART</td>\n      <td>Case=Dat|Definite=Def|Gender=Fem|Number=Sing|P...</td>\n      <td>15</td>\n      <td>det</td>\n      <td>_</td>\n      <td>_</td>\n      <td>*</td>\n    </tr>\n    <tr>\n      <th>13</th>\n      <td>newscrawl-2153</td>\n      <td>14</td>\n      <td>neuen</td>\n      <td>neu</td>\n      <td>ADJ</td>\n      <td>ADJA</td>\n      <td>Case=Dat|Gender=Fem|Number=Sing</td>\n      <td>15</td>\n      <td>amod</td>\n      <td>_</td>\n      <td>_</td>\n      <td>*</td>\n    </tr>\n    <tr>\n      <th>14</th>\n      <td>newscrawl-2153</td>\n      <td>15</td>\n      <td>Saison</td>\n      <td>Saison</td>\n      <td>NOUN</td>\n      <td>NN</td>\n      <td>Case=Dat|Gender=Fem|Number=Sing</td>\n      <td>23</td>\n      <td>obl</td>\n      <td>_</td>\n      <td>_</td>\n      <td>*</td>\n    </tr>\n    <tr>\n      <th>15</th>\n      <td>newscrawl-2153</td>\n      <td>16</td>\n      <td>beim</td>\n      <td>beim</td>\n      <td>PROPN</td>\n      <td>NE</td>\n      <td>Case=Dat|Gender=Neut|Number=Sing</td>\n      <td>23</td>\n      <td>nsubj</td>\n      <td>_</td>\n      <td>_</td>\n      <td>*</td>\n    </tr>\n    <tr>\n      <th>16</th>\n      <td>newscrawl-2153</td>\n      <td>17</td>\n      <td>FC</td>\n      <td>FC</td>\n      <td>PROPN</td>\n      <td>NN</td>\n      <td>Case=Dat|Gender=Masc|Number=Sing</td>\n      <td>16</td>\n      <td>flat</td>\n      <td>_</td>\n      <td>_</td>\n      <td>*</td>\n    </tr>\n    <tr>\n      <th>17</th>\n      <td>newscrawl-2153</td>\n      <td>18</td>\n      <td>Schalke</td>\n      <td>Schalk</td>\n      <td>PROPN</td>\n      <td>NE</td>\n      <td>Case=Acc|Gender=Neut|Number=Sing</td>\n      <td>23</td>\n      <td>obj</td>\n      <td>_</td>\n      <td>_</td>\n      <td>*</td>\n    </tr>\n    <tr>\n      <th>18</th>\n      <td>newscrawl-2153</td>\n      <td>19</td>\n      <td>04</td>\n      <td>04</td>\n      <td>PROPN</td>\n      <td>CARD</td>\n      <td>NumType=Card</td>\n      <td>18</td>\n      <td>appos</td>\n      <td>_</td>\n      <td>_</td>\n      <td>*</td>\n    </tr>\n    <tr>\n      <th>19</th>\n      <td>newscrawl-2153</td>\n      <td>20</td>\n      <td>auf</td>\n      <td>auf</td>\n      <td>ADP</td>\n      <td>APPR</td>\n      <td>_</td>\n      <td>22</td>\n      <td>case</td>\n      <td>_</td>\n      <td>_</td>\n      <td>*</td>\n    </tr>\n  </tbody>\n</table>\n</div>"
     },
     "metadata": {},
     "execution_count": 6
    }
   ],
   "source": [
    "german = process_cup(open('data/DE/train.cupt'))\n",
    "german.head(20)"
   ]
  },
  {
   "cell_type": "code",
   "execution_count": 6,
   "metadata": {},
   "outputs": [
    {
     "output_type": "execute_result",
     "data": {
      "text/plain": "mwe\n*                        121299\n1                          2235\n1:IRV                       198\n1:IRV;2:LVC.full              1\n1:IRV;2:VPC.full             17\n1:LVC.cause                  20\n1:LVC.full                  180\n1:LVC.full;2:VPC.full         3\n1:VID                       873\n1:VID;2:VID                   2\n1:VID;2:VPC.full             18\n1:VPC.full                 1034\n1:VPC.semi                  100\n1;2                          47\n1;2:IRV                       1\n1;2:VID                       4\n1;2:VPC.full                 27\n1;2:VPC.semi                  8\n1;3                           1\n1;3:IRV                       1\n2                           300\n2:IRV                        25\n2:IRV;3:VPC.full              1\n2:LVC.cause                   4\n2:LVC.full                   26\n2:VID                       122\n2:VID;3:VPC.full              1\n2:VPC.full                  155\n2:VPC.semi                   26\n2;3                           4\n2;3:VID                       3\n2;3:VPC.full                  6\n3                            33\n3:IRV                         3\n3:LVC.full                    2\n3:VID                        14\n3:VPC.full                   23\n3:VPC.semi                    4\n4                             3\n4:IRV                         1\n4:VPC.full                    1\n4:VPC.semi                    2\n5                             1\n5:IRV                         1\ndtype: int64"
     },
     "metadata": {},
     "execution_count": 6
    }
   ],
   "source": [
    "german.groupby('mwe').size()"
   ]
  },
  {
   "cell_type": "markdown",
   "metadata": {},
   "source": [
    "## Irish"
   ]
  },
  {
   "cell_type": "code",
   "execution_count": 7,
   "metadata": {},
   "outputs": [
    {
     "output_type": "execute_result",
     "data": {
      "text/plain": "(' VERB ADP NOUN PART VERB NOUN SCONJ ADP PRON ADJ CCONJ DET NOUN DET NOUN ADP NOUN NOUN PART NOUN PUNCT',\n 1)"
     },
     "metadata": {},
     "execution_count": 7
    }
   ],
   "source": [
    "irish = process_cup(open('data/GA/train.cupt'))\n",
    "irish.head(20)\n",
    "\n",
    "(' VERB ADP NOUN PART VERB NOUN SCONJ ADP PRON ADJ CCONJ DET NOUN DET NOUN ADP NOUN NOUN PART NOUN PUNCT',\n",
    " 1)"
   ]
  },
  {
   "cell_type": "code",
   "execution_count": 8,
   "metadata": {},
   "outputs": [
    {
     "output_type": "execute_result",
     "data": {
      "text/plain": "mwe\n*                        6007\n1                         105\n1:IAV                      15\n1:LVC.cause                16\n1:LVC.full                 26\n1:LVC.full;2:LVC.full       1\n1:VID                      13\n1:VPC.full                  1\n1:VPC.semi                  1\n2                          25\n2:IAV                       8\n2:LVC.cause                 5\n2:LVC.full                  6\n2:VID                       1\n2:VPC.full                  1\n2:VPC.semi                  1\n3                           6\n3:IAV                       1\n3:LVC.cause                 2\n3:LVC.full                  1\ndtype: int64"
     },
     "metadata": {},
     "execution_count": 8
    }
   ],
   "source": [
    "irish.groupby('mwe').size()"
   ]
  },
  {
   "cell_type": "markdown",
   "metadata": {},
   "source": [
    "## Hindi"
   ]
  },
  {
   "cell_type": "code",
   "execution_count": 9,
   "metadata": {},
   "outputs": [
    {
     "output_type": "execute_result",
     "data": {
      "text/plain": "                                              id_sent  id        form  \\\n0   autogen--hi-ud-test-withLVCs-1-500_ab.parsemet...   1       दूसरी   \n1   autogen--hi-ud-test-withLVCs-1-500_ab.parsemet...   2         तरफ   \n2   autogen--hi-ud-test-withLVCs-1-500_ab.parsemet...   3      कश्मीर   \n3   autogen--hi-ud-test-withLVCs-1-500_ab.parsemet...   4         में   \n4   autogen--hi-ud-test-withLVCs-1-500_ab.parsemet...   5   मुस्लिमों   \n5   autogen--hi-ud-test-withLVCs-1-500_ab.parsemet...   6          की   \n6   autogen--hi-ud-test-withLVCs-1-500_ab.parsemet...   7      संख्या   \n7   autogen--hi-ud-test-withLVCs-1-500_ab.parsemet...   8      ज्यादा   \n8   autogen--hi-ud-test-withLVCs-1-500_ab.parsemet...   9        होने   \n9   autogen--hi-ud-test-withLVCs-1-500_ab.parsemet...  10          के   \n10  autogen--hi-ud-test-withLVCs-1-500_ab.parsemet...  11        चलते   \n11  autogen--hi-ud-test-withLVCs-1-500_ab.parsemet...  12        वहाँ   \n12  autogen--hi-ud-test-withLVCs-1-500_ab.parsemet...  13        रहने   \n13  autogen--hi-ud-test-withLVCs-1-500_ab.parsemet...  14        वाले   \n14  autogen--hi-ud-test-withLVCs-1-500_ab.parsemet...  15       हिंदू   \n15  autogen--hi-ud-test-withLVCs-1-500_ab.parsemet...  16          भी   \n16  autogen--hi-ud-test-withLVCs-1-500_ab.parsemet...  17  अल्पसंख्यक   \n17  autogen--hi-ud-test-withLVCs-1-500_ab.parsemet...  18         हैं   \n18  autogen--hi-ud-test-withLVCs-1-500_ab.parsemet...  19           ।   \n19  autogen--hi-ud-test-withLVCs-1-500_ab.parsemet...   1    आईपीसीएल   \n\n         lemma   upos xpos                                              feats  \\\n0        दूसरा    ADJ   QO        Case=Nom|Gender=Fem|Number=Sing|NumType=Ord   \n1          तरफ    ADV  NST  AdpType=Post|Case=Nom|Gender=Fem|Number=Sing|P...   \n2       कश्मीर  PROPN  NNP          Case=Acc|Gender=Masc|Number=Sing|Person=3   \n3          में    ADP  PSP                                       AdpType=Post   \n4      मुस्लिम   NOUN   NN          Case=Acc|Gender=Masc|Number=Plur|Person=3   \n5           का    ADP  PSP       AdpType=Post|Case=Nom|Gender=Fem|Number=Sing   \n6       संख्या   NOUN   NN           Case=Nom|Gender=Fem|Number=Sing|Person=3   \n7       ज्यादा    DET   QF                                       PronType=Ind   \n8           हो   VERB   VM                              Case=Acc|VerbForm=Inf   \n9           के    ADP  PSP                                       AdpType=Post   \n10        चलते    ADP  PSP                                       AdpType=Post   \n11        वहाँ   PRON  PRP                              Case=Nom|PronType=Prs   \n12          रह   VERB   VM                  Case=Acc|Number=Plur|VerbForm=Inf   \n13        वाला    ADP  PSP      AdpType=Post|Case=Nom|Gender=Masc|Number=Plur   \n14       हिंदू   NOUN   NN          Case=Nom|Gender=Masc|Number=Plur|Person=3   \n15          भी   PART   RP                                                  _   \n16  अल्पसंख्यक    ADJ   JJ                                                  _   \n17          है    AUX   VM  Mood=Ind|Number=Plur|Person=3|Tense=Pres|VerbF...   \n18           ।  PUNCT  SYM                                                  _   \n19    आईपीसीएल  PROPN  NNP          Case=Acc|Gender=Masc|Number=Sing|Person=3   \n\n   head    deprel deps misc mwe  \n0     2      amod    _    _   *  \n1     9       obl    _    _   *  \n2     9       obl    _    _   *  \n3     3      case    _    _   *  \n4     7      nmod    _    _   *  \n5     5      case    _    _   *  \n6     9     nsubj    _    _   *  \n7     9  compound    _    _   *  \n8    13     advcl    _    _   *  \n9     9      mark    _    _   *  \n10    9      mark    _    _   *  \n11   13       obl    _    _   *  \n12   15      amod    _    _   *  \n13   13      mark    _    _   *  \n14   17     nsubj    _    _   *  \n15   15       dep    _    _   *  \n16    0      root    _    _   *  \n17   17       cop    _    _   *  \n18   17     punct    _    _   *  \n19    3      nmod    _    _   *  ",
      "text/html": "<div>\n<style scoped>\n    .dataframe tbody tr th:only-of-type {\n        vertical-align: middle;\n    }\n\n    .dataframe tbody tr th {\n        vertical-align: top;\n    }\n\n    .dataframe thead th {\n        text-align: right;\n    }\n</style>\n<table border=\"1\" class=\"dataframe\">\n  <thead>\n    <tr style=\"text-align: right;\">\n      <th></th>\n      <th>id_sent</th>\n      <th>id</th>\n      <th>form</th>\n      <th>lemma</th>\n      <th>upos</th>\n      <th>xpos</th>\n      <th>feats</th>\n      <th>head</th>\n      <th>deprel</th>\n      <th>deps</th>\n      <th>misc</th>\n      <th>mwe</th>\n    </tr>\n  </thead>\n  <tbody>\n    <tr>\n      <th>0</th>\n      <td>autogen--hi-ud-test-withLVCs-1-500_ab.parsemet...</td>\n      <td>1</td>\n      <td>दूसरी</td>\n      <td>दूसरा</td>\n      <td>ADJ</td>\n      <td>QO</td>\n      <td>Case=Nom|Gender=Fem|Number=Sing|NumType=Ord</td>\n      <td>2</td>\n      <td>amod</td>\n      <td>_</td>\n      <td>_</td>\n      <td>*</td>\n    </tr>\n    <tr>\n      <th>1</th>\n      <td>autogen--hi-ud-test-withLVCs-1-500_ab.parsemet...</td>\n      <td>2</td>\n      <td>तरफ</td>\n      <td>तरफ</td>\n      <td>ADV</td>\n      <td>NST</td>\n      <td>AdpType=Post|Case=Nom|Gender=Fem|Number=Sing|P...</td>\n      <td>9</td>\n      <td>obl</td>\n      <td>_</td>\n      <td>_</td>\n      <td>*</td>\n    </tr>\n    <tr>\n      <th>2</th>\n      <td>autogen--hi-ud-test-withLVCs-1-500_ab.parsemet...</td>\n      <td>3</td>\n      <td>कश्मीर</td>\n      <td>कश्मीर</td>\n      <td>PROPN</td>\n      <td>NNP</td>\n      <td>Case=Acc|Gender=Masc|Number=Sing|Person=3</td>\n      <td>9</td>\n      <td>obl</td>\n      <td>_</td>\n      <td>_</td>\n      <td>*</td>\n    </tr>\n    <tr>\n      <th>3</th>\n      <td>autogen--hi-ud-test-withLVCs-1-500_ab.parsemet...</td>\n      <td>4</td>\n      <td>में</td>\n      <td>में</td>\n      <td>ADP</td>\n      <td>PSP</td>\n      <td>AdpType=Post</td>\n      <td>3</td>\n      <td>case</td>\n      <td>_</td>\n      <td>_</td>\n      <td>*</td>\n    </tr>\n    <tr>\n      <th>4</th>\n      <td>autogen--hi-ud-test-withLVCs-1-500_ab.parsemet...</td>\n      <td>5</td>\n      <td>मुस्लिमों</td>\n      <td>मुस्लिम</td>\n      <td>NOUN</td>\n      <td>NN</td>\n      <td>Case=Acc|Gender=Masc|Number=Plur|Person=3</td>\n      <td>7</td>\n      <td>nmod</td>\n      <td>_</td>\n      <td>_</td>\n      <td>*</td>\n    </tr>\n    <tr>\n      <th>5</th>\n      <td>autogen--hi-ud-test-withLVCs-1-500_ab.parsemet...</td>\n      <td>6</td>\n      <td>की</td>\n      <td>का</td>\n      <td>ADP</td>\n      <td>PSP</td>\n      <td>AdpType=Post|Case=Nom|Gender=Fem|Number=Sing</td>\n      <td>5</td>\n      <td>case</td>\n      <td>_</td>\n      <td>_</td>\n      <td>*</td>\n    </tr>\n    <tr>\n      <th>6</th>\n      <td>autogen--hi-ud-test-withLVCs-1-500_ab.parsemet...</td>\n      <td>7</td>\n      <td>संख्या</td>\n      <td>संख्या</td>\n      <td>NOUN</td>\n      <td>NN</td>\n      <td>Case=Nom|Gender=Fem|Number=Sing|Person=3</td>\n      <td>9</td>\n      <td>nsubj</td>\n      <td>_</td>\n      <td>_</td>\n      <td>*</td>\n    </tr>\n    <tr>\n      <th>7</th>\n      <td>autogen--hi-ud-test-withLVCs-1-500_ab.parsemet...</td>\n      <td>8</td>\n      <td>ज्यादा</td>\n      <td>ज्यादा</td>\n      <td>DET</td>\n      <td>QF</td>\n      <td>PronType=Ind</td>\n      <td>9</td>\n      <td>compound</td>\n      <td>_</td>\n      <td>_</td>\n      <td>*</td>\n    </tr>\n    <tr>\n      <th>8</th>\n      <td>autogen--hi-ud-test-withLVCs-1-500_ab.parsemet...</td>\n      <td>9</td>\n      <td>होने</td>\n      <td>हो</td>\n      <td>VERB</td>\n      <td>VM</td>\n      <td>Case=Acc|VerbForm=Inf</td>\n      <td>13</td>\n      <td>advcl</td>\n      <td>_</td>\n      <td>_</td>\n      <td>*</td>\n    </tr>\n    <tr>\n      <th>9</th>\n      <td>autogen--hi-ud-test-withLVCs-1-500_ab.parsemet...</td>\n      <td>10</td>\n      <td>के</td>\n      <td>के</td>\n      <td>ADP</td>\n      <td>PSP</td>\n      <td>AdpType=Post</td>\n      <td>9</td>\n      <td>mark</td>\n      <td>_</td>\n      <td>_</td>\n      <td>*</td>\n    </tr>\n    <tr>\n      <th>10</th>\n      <td>autogen--hi-ud-test-withLVCs-1-500_ab.parsemet...</td>\n      <td>11</td>\n      <td>चलते</td>\n      <td>चलते</td>\n      <td>ADP</td>\n      <td>PSP</td>\n      <td>AdpType=Post</td>\n      <td>9</td>\n      <td>mark</td>\n      <td>_</td>\n      <td>_</td>\n      <td>*</td>\n    </tr>\n    <tr>\n      <th>11</th>\n      <td>autogen--hi-ud-test-withLVCs-1-500_ab.parsemet...</td>\n      <td>12</td>\n      <td>वहाँ</td>\n      <td>वहाँ</td>\n      <td>PRON</td>\n      <td>PRP</td>\n      <td>Case=Nom|PronType=Prs</td>\n      <td>13</td>\n      <td>obl</td>\n      <td>_</td>\n      <td>_</td>\n      <td>*</td>\n    </tr>\n    <tr>\n      <th>12</th>\n      <td>autogen--hi-ud-test-withLVCs-1-500_ab.parsemet...</td>\n      <td>13</td>\n      <td>रहने</td>\n      <td>रह</td>\n      <td>VERB</td>\n      <td>VM</td>\n      <td>Case=Acc|Number=Plur|VerbForm=Inf</td>\n      <td>15</td>\n      <td>amod</td>\n      <td>_</td>\n      <td>_</td>\n      <td>*</td>\n    </tr>\n    <tr>\n      <th>13</th>\n      <td>autogen--hi-ud-test-withLVCs-1-500_ab.parsemet...</td>\n      <td>14</td>\n      <td>वाले</td>\n      <td>वाला</td>\n      <td>ADP</td>\n      <td>PSP</td>\n      <td>AdpType=Post|Case=Nom|Gender=Masc|Number=Plur</td>\n      <td>13</td>\n      <td>mark</td>\n      <td>_</td>\n      <td>_</td>\n      <td>*</td>\n    </tr>\n    <tr>\n      <th>14</th>\n      <td>autogen--hi-ud-test-withLVCs-1-500_ab.parsemet...</td>\n      <td>15</td>\n      <td>हिंदू</td>\n      <td>हिंदू</td>\n      <td>NOUN</td>\n      <td>NN</td>\n      <td>Case=Nom|Gender=Masc|Number=Plur|Person=3</td>\n      <td>17</td>\n      <td>nsubj</td>\n      <td>_</td>\n      <td>_</td>\n      <td>*</td>\n    </tr>\n    <tr>\n      <th>15</th>\n      <td>autogen--hi-ud-test-withLVCs-1-500_ab.parsemet...</td>\n      <td>16</td>\n      <td>भी</td>\n      <td>भी</td>\n      <td>PART</td>\n      <td>RP</td>\n      <td>_</td>\n      <td>15</td>\n      <td>dep</td>\n      <td>_</td>\n      <td>_</td>\n      <td>*</td>\n    </tr>\n    <tr>\n      <th>16</th>\n      <td>autogen--hi-ud-test-withLVCs-1-500_ab.parsemet...</td>\n      <td>17</td>\n      <td>अल्पसंख्यक</td>\n      <td>अल्पसंख्यक</td>\n      <td>ADJ</td>\n      <td>JJ</td>\n      <td>_</td>\n      <td>0</td>\n      <td>root</td>\n      <td>_</td>\n      <td>_</td>\n      <td>*</td>\n    </tr>\n    <tr>\n      <th>17</th>\n      <td>autogen--hi-ud-test-withLVCs-1-500_ab.parsemet...</td>\n      <td>18</td>\n      <td>हैं</td>\n      <td>है</td>\n      <td>AUX</td>\n      <td>VM</td>\n      <td>Mood=Ind|Number=Plur|Person=3|Tense=Pres|VerbF...</td>\n      <td>17</td>\n      <td>cop</td>\n      <td>_</td>\n      <td>_</td>\n      <td>*</td>\n    </tr>\n    <tr>\n      <th>18</th>\n      <td>autogen--hi-ud-test-withLVCs-1-500_ab.parsemet...</td>\n      <td>19</td>\n      <td>।</td>\n      <td>।</td>\n      <td>PUNCT</td>\n      <td>SYM</td>\n      <td>_</td>\n      <td>17</td>\n      <td>punct</td>\n      <td>_</td>\n      <td>_</td>\n      <td>*</td>\n    </tr>\n    <tr>\n      <th>19</th>\n      <td>autogen--hi-ud-test-withLVCs-1-500_ab.parsemet...</td>\n      <td>1</td>\n      <td>आईपीसीएल</td>\n      <td>आईपीसीएल</td>\n      <td>PROPN</td>\n      <td>NNP</td>\n      <td>Case=Acc|Gender=Masc|Number=Sing|Person=3</td>\n      <td>3</td>\n      <td>nmod</td>\n      <td>_</td>\n      <td>_</td>\n      <td>*</td>\n    </tr>\n  </tbody>\n</table>\n</div>"
     },
     "metadata": {},
     "execution_count": 9
    }
   ],
   "source": [
    "hindi = process_cup(open('data/HI/train.cupt'))\n",
    "hindi.head(20)"
   ]
  },
  {
   "cell_type": "code",
   "execution_count": 10,
   "metadata": {},
   "outputs": [
    {
     "output_type": "execute_result",
     "data": {
      "text/plain": "mwe\n*               5407\n1                145\n1:LVC.cause        2\n1:LVC.full        84\n1:MVC             40\n1:VID             11\n1;2:LVC.full       1\n1;2:MVC            6\n2                 31\n2:LVC.cause        1\n2:LVC.full        22\n2:MVC              2\n2;3:MVC            3\n3                  5\n3:LVC.full         1\n3:MVC              1\n4                  1\n4:LVC.full         1\ndtype: int64"
     },
     "metadata": {},
     "execution_count": 10
    }
   ],
   "source": [
    "hindi.groupby('mwe').size()"
   ]
  },
  {
   "cell_type": "markdown",
   "metadata": {},
   "source": [
    "## Brazilian-Portuguese"
   ]
  },
  {
   "cell_type": "code",
   "execution_count": 11,
   "metadata": {},
   "outputs": [
    {
     "output_type": "execute_result",
     "data": {
      "text/plain": "               id_sent     id           form          lemma   upos xpos  \\\n0   diario_gaucho_9315      1         Iarley         Iarley  PROPN    _   \n1   diario_gaucho_9315      2       Goleador       Goleador  PROPN    _   \n2   diario_gaucho_9315    3-4             do              _      _    _   \n3   diario_gaucho_9315      3             de             de    ADP    _   \n4   diario_gaucho_9315      4              o              o    DET    _   \n5   diario_gaucho_9315      5  Internacional  Internacional  PROPN    _   \n6   diario_gaucho_9315      6              e              e  CCONJ    _   \n7   diario_gaucho_9315    7-8             do              _      _    _   \n8   diario_gaucho_9315      7             de             de    ADP    _   \n9   diario_gaucho_9315      8              o              o    DET    _   \n10  diario_gaucho_9315      9     Campeonato     Campeonato  PROPN    _   \n11  diario_gaucho_9315     10         Gaúcho         Gaúcho  PROPN    _   \n12  diario_gaucho_9315     11              ,              ,  PUNCT    _   \n13  diario_gaucho_9315  12-13        fala-se              _      _    _   \n14  diario_gaucho_9315     12           fala          falar   VERB    _   \n15  diario_gaucho_9315     13             se             se   PRON    _   \n16  diario_gaucho_9315     14          muito          muito    ADV    _   \n17  diario_gaucho_9315     15             em             em    ADP    _   \n18  diario_gaucho_9315     16            uma             um    DET    _   \n19  diario_gaucho_9315     17       possível       possível    ADJ    _   \n\n                                                feats head     deprel deps  \\\n0                             Gender=Masc|Number=Sing   12      nsubj    _   \n1                                         Number=Sing    1  flat:name    _   \n2                                                   _    _          _    _   \n3                                                   _    5       case    _   \n4   Definite=Def|Gender=Masc|Number=Sing|PronType=Art    5        det    _   \n5                             Gender=Masc|Number=Sing    1       nmod    _   \n6                                                   _    9         cc    _   \n7                                                   _    _          _    _   \n8                                                   _    9       case    _   \n9   Definite=Def|Gender=Masc|Number=Sing|PronType=Art    9        det    _   \n10                            Gender=Masc|Number=Sing    5       conj    _   \n11                                        Number=Sing    9  flat:name    _   \n12                                                  _    1      punct    _   \n13                                                  _    _          _    _   \n14  Mood=Ind|Number=Sing|Person=3|Tense=Pres|VerbF...    0       root    _   \n15  Case=Acc|Gender=Masc|Number=Sing|Person=3|Pron...   12       expl    _   \n16                                                  _   12     advmod    _   \n17                                                  _   18       case    _   \n18   Definite=Ind|Gender=Fem|Number=Sing|PronType=Art   18        det    _   \n19                             Gender=Fem|Number=Sing   18       amod    _   \n\n             misc mwe  \n0               _   *  \n1               _   *  \n2               _   *  \n3               _   *  \n4               _   *  \n5               _   *  \n6               _   *  \n7               _   *  \n8               _   *  \n9               _   *  \n10              _   *  \n11  SpaceAfter=No   *  \n12              _   *  \n13              _   *  \n14              _   *  \n15              _   *  \n16              _   *  \n17              _   *  \n18              _   *  \n19              _   *  ",
      "text/html": "<div>\n<style scoped>\n    .dataframe tbody tr th:only-of-type {\n        vertical-align: middle;\n    }\n\n    .dataframe tbody tr th {\n        vertical-align: top;\n    }\n\n    .dataframe thead th {\n        text-align: right;\n    }\n</style>\n<table border=\"1\" class=\"dataframe\">\n  <thead>\n    <tr style=\"text-align: right;\">\n      <th></th>\n      <th>id_sent</th>\n      <th>id</th>\n      <th>form</th>\n      <th>lemma</th>\n      <th>upos</th>\n      <th>xpos</th>\n      <th>feats</th>\n      <th>head</th>\n      <th>deprel</th>\n      <th>deps</th>\n      <th>misc</th>\n      <th>mwe</th>\n    </tr>\n  </thead>\n  <tbody>\n    <tr>\n      <th>0</th>\n      <td>diario_gaucho_9315</td>\n      <td>1</td>\n      <td>Iarley</td>\n      <td>Iarley</td>\n      <td>PROPN</td>\n      <td>_</td>\n      <td>Gender=Masc|Number=Sing</td>\n      <td>12</td>\n      <td>nsubj</td>\n      <td>_</td>\n      <td>_</td>\n      <td>*</td>\n    </tr>\n    <tr>\n      <th>1</th>\n      <td>diario_gaucho_9315</td>\n      <td>2</td>\n      <td>Goleador</td>\n      <td>Goleador</td>\n      <td>PROPN</td>\n      <td>_</td>\n      <td>Number=Sing</td>\n      <td>1</td>\n      <td>flat:name</td>\n      <td>_</td>\n      <td>_</td>\n      <td>*</td>\n    </tr>\n    <tr>\n      <th>2</th>\n      <td>diario_gaucho_9315</td>\n      <td>3-4</td>\n      <td>do</td>\n      <td>_</td>\n      <td>_</td>\n      <td>_</td>\n      <td>_</td>\n      <td>_</td>\n      <td>_</td>\n      <td>_</td>\n      <td>_</td>\n      <td>*</td>\n    </tr>\n    <tr>\n      <th>3</th>\n      <td>diario_gaucho_9315</td>\n      <td>3</td>\n      <td>de</td>\n      <td>de</td>\n      <td>ADP</td>\n      <td>_</td>\n      <td>_</td>\n      <td>5</td>\n      <td>case</td>\n      <td>_</td>\n      <td>_</td>\n      <td>*</td>\n    </tr>\n    <tr>\n      <th>4</th>\n      <td>diario_gaucho_9315</td>\n      <td>4</td>\n      <td>o</td>\n      <td>o</td>\n      <td>DET</td>\n      <td>_</td>\n      <td>Definite=Def|Gender=Masc|Number=Sing|PronType=Art</td>\n      <td>5</td>\n      <td>det</td>\n      <td>_</td>\n      <td>_</td>\n      <td>*</td>\n    </tr>\n    <tr>\n      <th>5</th>\n      <td>diario_gaucho_9315</td>\n      <td>5</td>\n      <td>Internacional</td>\n      <td>Internacional</td>\n      <td>PROPN</td>\n      <td>_</td>\n      <td>Gender=Masc|Number=Sing</td>\n      <td>1</td>\n      <td>nmod</td>\n      <td>_</td>\n      <td>_</td>\n      <td>*</td>\n    </tr>\n    <tr>\n      <th>6</th>\n      <td>diario_gaucho_9315</td>\n      <td>6</td>\n      <td>e</td>\n      <td>e</td>\n      <td>CCONJ</td>\n      <td>_</td>\n      <td>_</td>\n      <td>9</td>\n      <td>cc</td>\n      <td>_</td>\n      <td>_</td>\n      <td>*</td>\n    </tr>\n    <tr>\n      <th>7</th>\n      <td>diario_gaucho_9315</td>\n      <td>7-8</td>\n      <td>do</td>\n      <td>_</td>\n      <td>_</td>\n      <td>_</td>\n      <td>_</td>\n      <td>_</td>\n      <td>_</td>\n      <td>_</td>\n      <td>_</td>\n      <td>*</td>\n    </tr>\n    <tr>\n      <th>8</th>\n      <td>diario_gaucho_9315</td>\n      <td>7</td>\n      <td>de</td>\n      <td>de</td>\n      <td>ADP</td>\n      <td>_</td>\n      <td>_</td>\n      <td>9</td>\n      <td>case</td>\n      <td>_</td>\n      <td>_</td>\n      <td>*</td>\n    </tr>\n    <tr>\n      <th>9</th>\n      <td>diario_gaucho_9315</td>\n      <td>8</td>\n      <td>o</td>\n      <td>o</td>\n      <td>DET</td>\n      <td>_</td>\n      <td>Definite=Def|Gender=Masc|Number=Sing|PronType=Art</td>\n      <td>9</td>\n      <td>det</td>\n      <td>_</td>\n      <td>_</td>\n      <td>*</td>\n    </tr>\n    <tr>\n      <th>10</th>\n      <td>diario_gaucho_9315</td>\n      <td>9</td>\n      <td>Campeonato</td>\n      <td>Campeonato</td>\n      <td>PROPN</td>\n      <td>_</td>\n      <td>Gender=Masc|Number=Sing</td>\n      <td>5</td>\n      <td>conj</td>\n      <td>_</td>\n      <td>_</td>\n      <td>*</td>\n    </tr>\n    <tr>\n      <th>11</th>\n      <td>diario_gaucho_9315</td>\n      <td>10</td>\n      <td>Gaúcho</td>\n      <td>Gaúcho</td>\n      <td>PROPN</td>\n      <td>_</td>\n      <td>Number=Sing</td>\n      <td>9</td>\n      <td>flat:name</td>\n      <td>_</td>\n      <td>SpaceAfter=No</td>\n      <td>*</td>\n    </tr>\n    <tr>\n      <th>12</th>\n      <td>diario_gaucho_9315</td>\n      <td>11</td>\n      <td>,</td>\n      <td>,</td>\n      <td>PUNCT</td>\n      <td>_</td>\n      <td>_</td>\n      <td>1</td>\n      <td>punct</td>\n      <td>_</td>\n      <td>_</td>\n      <td>*</td>\n    </tr>\n    <tr>\n      <th>13</th>\n      <td>diario_gaucho_9315</td>\n      <td>12-13</td>\n      <td>fala-se</td>\n      <td>_</td>\n      <td>_</td>\n      <td>_</td>\n      <td>_</td>\n      <td>_</td>\n      <td>_</td>\n      <td>_</td>\n      <td>_</td>\n      <td>*</td>\n    </tr>\n    <tr>\n      <th>14</th>\n      <td>diario_gaucho_9315</td>\n      <td>12</td>\n      <td>fala</td>\n      <td>falar</td>\n      <td>VERB</td>\n      <td>_</td>\n      <td>Mood=Ind|Number=Sing|Person=3|Tense=Pres|VerbF...</td>\n      <td>0</td>\n      <td>root</td>\n      <td>_</td>\n      <td>_</td>\n      <td>*</td>\n    </tr>\n    <tr>\n      <th>15</th>\n      <td>diario_gaucho_9315</td>\n      <td>13</td>\n      <td>se</td>\n      <td>se</td>\n      <td>PRON</td>\n      <td>_</td>\n      <td>Case=Acc|Gender=Masc|Number=Sing|Person=3|Pron...</td>\n      <td>12</td>\n      <td>expl</td>\n      <td>_</td>\n      <td>_</td>\n      <td>*</td>\n    </tr>\n    <tr>\n      <th>16</th>\n      <td>diario_gaucho_9315</td>\n      <td>14</td>\n      <td>muito</td>\n      <td>muito</td>\n      <td>ADV</td>\n      <td>_</td>\n      <td>_</td>\n      <td>12</td>\n      <td>advmod</td>\n      <td>_</td>\n      <td>_</td>\n      <td>*</td>\n    </tr>\n    <tr>\n      <th>17</th>\n      <td>diario_gaucho_9315</td>\n      <td>15</td>\n      <td>em</td>\n      <td>em</td>\n      <td>ADP</td>\n      <td>_</td>\n      <td>_</td>\n      <td>18</td>\n      <td>case</td>\n      <td>_</td>\n      <td>_</td>\n      <td>*</td>\n    </tr>\n    <tr>\n      <th>18</th>\n      <td>diario_gaucho_9315</td>\n      <td>16</td>\n      <td>uma</td>\n      <td>um</td>\n      <td>DET</td>\n      <td>_</td>\n      <td>Definite=Ind|Gender=Fem|Number=Sing|PronType=Art</td>\n      <td>18</td>\n      <td>det</td>\n      <td>_</td>\n      <td>_</td>\n      <td>*</td>\n    </tr>\n    <tr>\n      <th>19</th>\n      <td>diario_gaucho_9315</td>\n      <td>17</td>\n      <td>possível</td>\n      <td>possível</td>\n      <td>ADJ</td>\n      <td>_</td>\n      <td>Gender=Fem|Number=Sing</td>\n      <td>18</td>\n      <td>amod</td>\n      <td>_</td>\n      <td>_</td>\n      <td>*</td>\n    </tr>\n  </tbody>\n</table>\n</div>"
     },
     "metadata": {},
     "execution_count": 11
    }
   ],
   "source": [
    "portuguese = process_cup(open('data/PT/train.cupt'))\n",
    "portuguese.head(20)"
   ]
  },
  {
   "cell_type": "code",
   "execution_count": 12,
   "metadata": {},
   "outputs": [
    {
     "output_type": "execute_result",
     "data": {
      "text/plain": "mwe\n*                                              532044\n1                                                5104\n1:IRV                                             690\n1:IRV;2:VID                                         4\n1:LVC.cause                                        83\n1:LVC.cause;2:LVC.cause;3:LVC.cause                 1\n1:LVC.full                                       2582\n1:LVC.full;2:LVC.full                              47\n1:LVC.full;2:LVC.full;3:LVC.full                    2\n1:LVC.full;2:LVC.full;3:LVC.full;4:LVC.full         1\n1:LVC.full;2:VID                                    1\n1:MVC                                              11\n1:VID                                             827\n1:VID;2:LVC.full                                    1\n1:VID;2:VID                                         3\n1;2                                                31\n1;2:IRV                                             2\n1;2:LVC.full                                       10\n1;2:VID                                             2\n1;2;3                                               1\n2                                                 546\n2:IRV                                              62\n2:IRV;3:VID                                         1\n2:LVC.cause                                        12\n2:LVC.full                                        231\n2:LVC.full;3:LVC.full                               4\n2:VID                                              92\n2;3                                                 4\n2;3:LVC.full                                        1\n3                                                  54\n3:IRV                                               4\n3:LVC.full                                         17\n3:VID                                              11\n4                                                   5\n4:LVC.full                                          4\n5                                                   1\n5:LVC.full                                          1\ndtype: int64"
     },
     "metadata": {},
     "execution_count": 12
    }
   ],
   "source": [
    "portuguese.groupby('mwe').size()"
   ]
  },
  {
   "cell_type": "markdown",
   "metadata": {},
   "source": [
    "## Chinese"
   ]
  },
  {
   "cell_type": "code",
   "execution_count": 13,
   "metadata": {},
   "outputs": [
    {
     "output_type": "execute_result",
     "data": {
      "text/plain": "                      id_sent  id form lemma   upos xpos feats head  \\\n0   conll2017-crawl-000-28464   1   其病    其病   NOUN   NN     _    3   \n1   conll2017-crawl-000-28464   2   搖動    搖動    ADV   RB     _    3   \n2   conll2017-crawl-000-28464   3   注恐    注恐   VERB   VV     _    0   \n3   conll2017-crawl-000-28464   4    ,     ,  PUNCT    ,     _    9   \n4   conll2017-crawl-000-28464   5    從     從    ADP   IN     _    6   \n5   conll2017-crawl-000-28464   6   金化    金化   NOUN   NN     _    9   \n6   conll2017-crawl-000-28464   7    也     也    ADV   RB     _    9   \n7   conll2017-crawl-000-28464   8    ,     ,  PUNCT    ,     _    9   \n8   conll2017-crawl-000-28464   9   少角    少角   NOUN   NN     _    3   \n9   conll2017-crawl-000-28464  10    與     與  CCONJ   CC     _   11   \n10  conll2017-crawl-000-28464  11   判商    判商   NOUN   NN     _    9   \n11  conll2017-crawl-000-28464  12    同     同    ADP   IN     _   14   \n12  conll2017-crawl-000-28464  13    ,     ,  PUNCT    ,     _   14   \n13  conll2017-crawl-000-28464  14   上角    上角   NOUN   NN     _   24   \n14  conll2017-crawl-000-28464  15    與     與  CCONJ   CC     _   17   \n15  conll2017-crawl-000-28464  16    正     正   PART  PFA     _   17   \n16  conll2017-crawl-000-28464  17    角     角   NOUN   NN     _   14   \n17  conll2017-crawl-000-28464  18    同     同    ADP   IN     _   20   \n18  conll2017-crawl-000-28464  19    ,     ,  PUNCT    ,     _   20   \n19  conll2017-crawl-000-28464  20   上商    上商   NOUN   NN     _   14   \n\n       deprel deps misc mwe  \n0       nsubj    _    _   *  \n1      advmod    _    _   *  \n2        root    _    _   *  \n3       punct    _    _   *  \n4        case    _    _   *  \n5        nmod    _    _   *  \n6        mark    _    _   *  \n7       punct    _    _   *  \n8         obj    _    _   *  \n9          cc    _    _   *  \n10       conj    _    _   *  \n11       case    _    _   *  \n12      punct    _    _   *  \n13       nmod    _    _   *  \n14         cc    _    _   *  \n15  case:pref    _    _   *  \n16       conj    _    _   *  \n17       case    _    _   *  \n18      punct    _    _   *  \n19      appos    _    _   *  ",
      "text/html": "<div>\n<style scoped>\n    .dataframe tbody tr th:only-of-type {\n        vertical-align: middle;\n    }\n\n    .dataframe tbody tr th {\n        vertical-align: top;\n    }\n\n    .dataframe thead th {\n        text-align: right;\n    }\n</style>\n<table border=\"1\" class=\"dataframe\">\n  <thead>\n    <tr style=\"text-align: right;\">\n      <th></th>\n      <th>id_sent</th>\n      <th>id</th>\n      <th>form</th>\n      <th>lemma</th>\n      <th>upos</th>\n      <th>xpos</th>\n      <th>feats</th>\n      <th>head</th>\n      <th>deprel</th>\n      <th>deps</th>\n      <th>misc</th>\n      <th>mwe</th>\n    </tr>\n  </thead>\n  <tbody>\n    <tr>\n      <th>0</th>\n      <td>conll2017-crawl-000-28464</td>\n      <td>1</td>\n      <td>其病</td>\n      <td>其病</td>\n      <td>NOUN</td>\n      <td>NN</td>\n      <td>_</td>\n      <td>3</td>\n      <td>nsubj</td>\n      <td>_</td>\n      <td>_</td>\n      <td>*</td>\n    </tr>\n    <tr>\n      <th>1</th>\n      <td>conll2017-crawl-000-28464</td>\n      <td>2</td>\n      <td>搖動</td>\n      <td>搖動</td>\n      <td>ADV</td>\n      <td>RB</td>\n      <td>_</td>\n      <td>3</td>\n      <td>advmod</td>\n      <td>_</td>\n      <td>_</td>\n      <td>*</td>\n    </tr>\n    <tr>\n      <th>2</th>\n      <td>conll2017-crawl-000-28464</td>\n      <td>3</td>\n      <td>注恐</td>\n      <td>注恐</td>\n      <td>VERB</td>\n      <td>VV</td>\n      <td>_</td>\n      <td>0</td>\n      <td>root</td>\n      <td>_</td>\n      <td>_</td>\n      <td>*</td>\n    </tr>\n    <tr>\n      <th>3</th>\n      <td>conll2017-crawl-000-28464</td>\n      <td>4</td>\n      <td>,</td>\n      <td>,</td>\n      <td>PUNCT</td>\n      <td>,</td>\n      <td>_</td>\n      <td>9</td>\n      <td>punct</td>\n      <td>_</td>\n      <td>_</td>\n      <td>*</td>\n    </tr>\n    <tr>\n      <th>4</th>\n      <td>conll2017-crawl-000-28464</td>\n      <td>5</td>\n      <td>從</td>\n      <td>從</td>\n      <td>ADP</td>\n      <td>IN</td>\n      <td>_</td>\n      <td>6</td>\n      <td>case</td>\n      <td>_</td>\n      <td>_</td>\n      <td>*</td>\n    </tr>\n    <tr>\n      <th>5</th>\n      <td>conll2017-crawl-000-28464</td>\n      <td>6</td>\n      <td>金化</td>\n      <td>金化</td>\n      <td>NOUN</td>\n      <td>NN</td>\n      <td>_</td>\n      <td>9</td>\n      <td>nmod</td>\n      <td>_</td>\n      <td>_</td>\n      <td>*</td>\n    </tr>\n    <tr>\n      <th>6</th>\n      <td>conll2017-crawl-000-28464</td>\n      <td>7</td>\n      <td>也</td>\n      <td>也</td>\n      <td>ADV</td>\n      <td>RB</td>\n      <td>_</td>\n      <td>9</td>\n      <td>mark</td>\n      <td>_</td>\n      <td>_</td>\n      <td>*</td>\n    </tr>\n    <tr>\n      <th>7</th>\n      <td>conll2017-crawl-000-28464</td>\n      <td>8</td>\n      <td>,</td>\n      <td>,</td>\n      <td>PUNCT</td>\n      <td>,</td>\n      <td>_</td>\n      <td>9</td>\n      <td>punct</td>\n      <td>_</td>\n      <td>_</td>\n      <td>*</td>\n    </tr>\n    <tr>\n      <th>8</th>\n      <td>conll2017-crawl-000-28464</td>\n      <td>9</td>\n      <td>少角</td>\n      <td>少角</td>\n      <td>NOUN</td>\n      <td>NN</td>\n      <td>_</td>\n      <td>3</td>\n      <td>obj</td>\n      <td>_</td>\n      <td>_</td>\n      <td>*</td>\n    </tr>\n    <tr>\n      <th>9</th>\n      <td>conll2017-crawl-000-28464</td>\n      <td>10</td>\n      <td>與</td>\n      <td>與</td>\n      <td>CCONJ</td>\n      <td>CC</td>\n      <td>_</td>\n      <td>11</td>\n      <td>cc</td>\n      <td>_</td>\n      <td>_</td>\n      <td>*</td>\n    </tr>\n    <tr>\n      <th>10</th>\n      <td>conll2017-crawl-000-28464</td>\n      <td>11</td>\n      <td>判商</td>\n      <td>判商</td>\n      <td>NOUN</td>\n      <td>NN</td>\n      <td>_</td>\n      <td>9</td>\n      <td>conj</td>\n      <td>_</td>\n      <td>_</td>\n      <td>*</td>\n    </tr>\n    <tr>\n      <th>11</th>\n      <td>conll2017-crawl-000-28464</td>\n      <td>12</td>\n      <td>同</td>\n      <td>同</td>\n      <td>ADP</td>\n      <td>IN</td>\n      <td>_</td>\n      <td>14</td>\n      <td>case</td>\n      <td>_</td>\n      <td>_</td>\n      <td>*</td>\n    </tr>\n    <tr>\n      <th>12</th>\n      <td>conll2017-crawl-000-28464</td>\n      <td>13</td>\n      <td>,</td>\n      <td>,</td>\n      <td>PUNCT</td>\n      <td>,</td>\n      <td>_</td>\n      <td>14</td>\n      <td>punct</td>\n      <td>_</td>\n      <td>_</td>\n      <td>*</td>\n    </tr>\n    <tr>\n      <th>13</th>\n      <td>conll2017-crawl-000-28464</td>\n      <td>14</td>\n      <td>上角</td>\n      <td>上角</td>\n      <td>NOUN</td>\n      <td>NN</td>\n      <td>_</td>\n      <td>24</td>\n      <td>nmod</td>\n      <td>_</td>\n      <td>_</td>\n      <td>*</td>\n    </tr>\n    <tr>\n      <th>14</th>\n      <td>conll2017-crawl-000-28464</td>\n      <td>15</td>\n      <td>與</td>\n      <td>與</td>\n      <td>CCONJ</td>\n      <td>CC</td>\n      <td>_</td>\n      <td>17</td>\n      <td>cc</td>\n      <td>_</td>\n      <td>_</td>\n      <td>*</td>\n    </tr>\n    <tr>\n      <th>15</th>\n      <td>conll2017-crawl-000-28464</td>\n      <td>16</td>\n      <td>正</td>\n      <td>正</td>\n      <td>PART</td>\n      <td>PFA</td>\n      <td>_</td>\n      <td>17</td>\n      <td>case:pref</td>\n      <td>_</td>\n      <td>_</td>\n      <td>*</td>\n    </tr>\n    <tr>\n      <th>16</th>\n      <td>conll2017-crawl-000-28464</td>\n      <td>17</td>\n      <td>角</td>\n      <td>角</td>\n      <td>NOUN</td>\n      <td>NN</td>\n      <td>_</td>\n      <td>14</td>\n      <td>conj</td>\n      <td>_</td>\n      <td>_</td>\n      <td>*</td>\n    </tr>\n    <tr>\n      <th>17</th>\n      <td>conll2017-crawl-000-28464</td>\n      <td>18</td>\n      <td>同</td>\n      <td>同</td>\n      <td>ADP</td>\n      <td>IN</td>\n      <td>_</td>\n      <td>20</td>\n      <td>case</td>\n      <td>_</td>\n      <td>_</td>\n      <td>*</td>\n    </tr>\n    <tr>\n      <th>18</th>\n      <td>conll2017-crawl-000-28464</td>\n      <td>19</td>\n      <td>,</td>\n      <td>,</td>\n      <td>PUNCT</td>\n      <td>,</td>\n      <td>_</td>\n      <td>20</td>\n      <td>punct</td>\n      <td>_</td>\n      <td>_</td>\n      <td>*</td>\n    </tr>\n    <tr>\n      <th>19</th>\n      <td>conll2017-crawl-000-28464</td>\n      <td>20</td>\n      <td>上商</td>\n      <td>上商</td>\n      <td>NOUN</td>\n      <td>NN</td>\n      <td>_</td>\n      <td>14</td>\n      <td>appos</td>\n      <td>_</td>\n      <td>_</td>\n      <td>*</td>\n    </tr>\n  </tbody>\n</table>\n</div>"
     },
     "metadata": {},
     "execution_count": 13
    }
   ],
   "source": [
    "chinese = process_cup(open('data/ZH/train.cupt'))\n",
    "chinese.head(20)"
   ]
  },
  {
   "cell_type": "code",
   "execution_count": 14,
   "metadata": {},
   "outputs": [
    {
     "output_type": "execute_result",
     "data": {
      "text/plain": "mwe\n*                    563229\n1                      3490\n1:LVC.cause              90\n1:LVC.cause;2:MVC         1\n1:LVC.full              689\n                      ...  \n5:VPC.semi                5\n6                         1\n6:VPC.semi                3\n7                         1\n7:VPC.semi                1\nLength: 61, dtype: int64"
     },
     "metadata": {},
     "execution_count": 14
    }
   ],
   "source": [
    "chinese.groupby('mwe').size()"
   ]
  },
  {
   "cell_type": "markdown",
   "metadata": {},
   "source": [
    "## The resulting dataset"
   ]
  },
  {
   "cell_type": "code",
   "execution_count": 15,
   "metadata": {},
   "outputs": [
    {
     "output_type": "execute_result",
     "data": {
      "text/plain": "           id_sent  id                  form                 lemma   upos  \\\n0   newscrawl-2153   1                 Peter                 Peter  PROPN   \n1   newscrawl-2153   2               Hermann               Hermann  PROPN   \n2   newscrawl-2153   3                     ,                     ,  PUNCT   \n3   newscrawl-2153   4              Heynckes              Heynckes  PROPN   \n4   newscrawl-2153   5                     '                     '  PUNCT   \n5   newscrawl-2153   6            Co-Trainer            Co-Trainer   NOUN   \n6   newscrawl-2153   7                  beim                  beim  PROPN   \n7   newscrawl-2153   8                    FC                    FC  PROPN   \n8   newscrawl-2153   9                Bayern                Bayern  PROPN   \n9   newscrawl-2153  10                     ,                     ,  PUNCT   \n10  newscrawl-2153  11                  wird                werden    AUX   \n11  newscrawl-2153  12                    in                    in    ADP   \n12  newscrawl-2153  13                   der                   der    DET   \n13  newscrawl-2153  14                 neuen                   neu    ADJ   \n14  newscrawl-2153  15                Saison                Saison   NOUN   \n15  newscrawl-2153  16                  beim                  beim  PROPN   \n16  newscrawl-2153  17                    FC                    FC  PROPN   \n17  newscrawl-2153  18               Schalke                Schalk  PROPN   \n18  newscrawl-2153  19                    04                    04  PROPN   \n19  newscrawl-2153  20                   auf                   auf    ADP   \n20  newscrawl-2153  21                   der                   der    DET   \n21  newscrawl-2153  22           Trainerbank           Trainerbank   NOUN   \n22  newscrawl-2153  23                sitzen                sitzen   VERB   \n23  newscrawl-2153  24                     .                     .  PUNCT   \n24     train-s2414   1                  Eine                   ein    DET   \n25     train-s2414   2                  früh                  früh    ADJ   \n26     train-s2414   3           einsetzende            einsetzend    ADJ   \n27     train-s2414   4              Therapie              Therapie   NOUN   \n28     train-s2414   5                  kann                können    AUX   \n29     train-s2414   6                   den                   der    DET   \n30     train-s2414   7               Neglect               Neglect  PROPN   \n31     train-s2414   8          nachweislich          nachweislich    ADJ   \n32     train-s2414   9            verbessern            verbessern   VERB   \n33     train-s2414  10                     .                     .  PUNCT   \n34  newscrawl-6070   1                 Ihnen               Sie|sie   PRON   \n35  newscrawl-6070   2                 drohe                drohen   VERB   \n36  newscrawl-6070   3                   die                   der    DET   \n37  newscrawl-6070   4           Todesstrafe           Todesstrafe   NOUN   \n38  newscrawl-6070   5                     .                     .  PUNCT   \n39     train-s1930   1                   Die                   der    DET   \n40     train-s1930   2               Ukraine               Ukraine  PROPN   \n41     train-s1930   3               brauche              brauchen   VERB   \n42     train-s1930   4                dieses                  dies   PRON   \n43     train-s1930   5                  Geld                  Geld   NOUN   \n44     train-s1930   6                 unter                 unter    ADP   \n45     train-s1930   7               anderem                 ander   PRON   \n46     train-s1930   8                     ,                     ,  PUNCT   \n47     train-s1930   9                    um                    um    ADP   \n48     train-s1930  10                   den                   der    DET   \n49     train-s1930  11  Unglücksreaktorblock  Unglücksreaktorblock   NOUN   \n\n     xpos                                              feats head    deprel  \\\n0      NE                   Case=Nom|Gender=Masc|Number=Sing   23     nsubj   \n1      NE                   Case=Nom|Gender=Masc|Number=Sing    1      flat   \n2      $,                                                  _    4     punct   \n3      NE                   Case=Nom|Gender=Masc|Number=Sing    6      nmod   \n4      $(                                                  _    4     punct   \n5      NE                   Case=Nom|Gender=Masc|Number=Sing    1      flat   \n6      NE                   Case=Nom|Gender=Masc|Number=Sing    1      flat   \n7      NN                   Case=Nom|Gender=Masc|Number=Sing    1      flat   \n8      NE                   Case=Nom|Gender=Neut|Number=Sing    1      flat   \n9      $,                                                  _    1     punct   \n10  VAFIN  Mood=Ind|Number=Sing|Person=3|Tense=Pres|VerbF...   23  aux:pass   \n11   APPR                                                  _   15      case   \n12    ART  Case=Dat|Definite=Def|Gender=Fem|Number=Sing|P...   15       det   \n13   ADJA                    Case=Dat|Gender=Fem|Number=Sing   15      amod   \n14     NN                    Case=Dat|Gender=Fem|Number=Sing   23       obl   \n15     NE                   Case=Dat|Gender=Neut|Number=Sing   23     nsubj   \n16     NN                   Case=Dat|Gender=Masc|Number=Sing   16      flat   \n17     NE                   Case=Acc|Gender=Neut|Number=Sing   23       obj   \n18   CARD                                       NumType=Card   18     appos   \n19   APPR                                                  _   22      case   \n20    ART  Case=Dat|Definite=Def|Gender=Fem|Number=Sing|P...   22       det   \n21     NN                    Case=Dat|Gender=Fem|Number=Sing   23       obl   \n22  VVINF  Mood=Ind|Number=Plur|Person=3|Tense=Pres|VerbF...    0      root   \n23     $.                                                  _   23     punct   \n24    ART  Case=Nom|Definite=Ind|Gender=Fem|Number=Sing|P...    4       det   \n25   ADJD                                                  _    3    advmod   \n26   ADJA                    Case=Nom|Gender=Fem|Number=Sing    4      amod   \n27     NN                    Case=Nom|Gender=Fem|Number=Sing    9     nsubj   \n28  VMFIN  Mood=Ind|Number=Sing|Person=3|Tense=Pres|VerbF...    9       aux   \n29    ART  Case=Acc|Definite=Def|Gender=Masc|Number=Sing|...    7       det   \n30     NN                   Case=Acc|Gender=Masc|Number=Sing    9       obj   \n31   ADJD                                                  _    9    advmod   \n32  VVINF                                       VerbForm=Inf    0      root   \n33     $.                                                  _    9     punct   \n34   PPER         Case=Dat|Number=Plur|Person=3|PronType=Prs    2      iobj   \n35  VVFIN  Mood=Sub|Number=Sing|Person=3|Tense=Pres|VerbF...    0      root   \n36    ART  Case=Acc|Definite=Def|Gender=Fem|Number=Sing|P...    4       det   \n37     NN                    Case=Acc|Gender=Fem|Number=Sing    2       obj   \n38     $.                                                  _    2     punct   \n39    ART  Case=Nom|Definite=Def|Gender=Fem|Number=Sing|P...    2       det   \n40     NE                    Case=Nom|Gender=Fem|Number=Sing    3     nsubj   \n41  VVFIN  Mood=Sub|Number=Sing|Person=3|Tense=Pres|VerbF...    0      root   \n42   PDAT      Case=Acc|Gender=Neut|Number=Sing|PronType=Dem    5       det   \n43     NN                   Case=Acc|Gender=Neut|Number=Sing    3       obj   \n44   APPR                                                  _    7      case   \n45    PIS  Case=Dat|Definite=Ind|Gender=Neut|Number=Sing|...    3       obl   \n46     $,                                                  _   18     punct   \n47   KOUI                                                  _   18      mark   \n48    ART  Case=Acc|Definite=Def|Gender=Masc|Number=Sing|...   11       det   \n49     NN                   Case=Acc|Gender=Masc|Number=Sing   18       obj   \n\n   deps           misc mwe  \n0     _              _   *  \n1     _  SpaceAfter=No   *  \n2     _              _   *  \n3     _              _   *  \n4     _              _   *  \n5     _              _   *  \n6     _              _   *  \n7     _              _   *  \n8     _  SpaceAfter=No   *  \n9     _              _   *  \n10    _              _   *  \n11    _              _   *  \n12    _              _   *  \n13    _              _   *  \n14    _              _   *  \n15    _              _   *  \n16    _              _   *  \n17    _              _   *  \n18    _              _   *  \n19    _              _   *  \n20    _              _   *  \n21    _              _   *  \n22    _  SpaceAfter=No   *  \n23    _              _   *  \n24    _              _   *  \n25    _              _   *  \n26    _              _   *  \n27    _              _   *  \n28    _              _   *  \n29    _              _   *  \n30    _              _   *  \n31    _              _   *  \n32    _  SpaceAfter=No   *  \n33    _              _   *  \n34    _              _   *  \n35    _              _   *  \n36    _              _   *  \n37    _  SpaceAfter=No   *  \n38    _              _   *  \n39    _              _   *  \n40    _              _   *  \n41    _              _   *  \n42    _              _   *  \n43    _              _   *  \n44    _              _   *  \n45    _  SpaceAfter=No   *  \n46    _              _   *  \n47    _              _   *  \n48    _              _   *  \n49    _              _   *  ",
      "text/html": "<div>\n<style scoped>\n    .dataframe tbody tr th:only-of-type {\n        vertical-align: middle;\n    }\n\n    .dataframe tbody tr th {\n        vertical-align: top;\n    }\n\n    .dataframe thead th {\n        text-align: right;\n    }\n</style>\n<table border=\"1\" class=\"dataframe\">\n  <thead>\n    <tr style=\"text-align: right;\">\n      <th></th>\n      <th>id_sent</th>\n      <th>id</th>\n      <th>form</th>\n      <th>lemma</th>\n      <th>upos</th>\n      <th>xpos</th>\n      <th>feats</th>\n      <th>head</th>\n      <th>deprel</th>\n      <th>deps</th>\n      <th>misc</th>\n      <th>mwe</th>\n    </tr>\n  </thead>\n  <tbody>\n    <tr>\n      <th>0</th>\n      <td>newscrawl-2153</td>\n      <td>1</td>\n      <td>Peter</td>\n      <td>Peter</td>\n      <td>PROPN</td>\n      <td>NE</td>\n      <td>Case=Nom|Gender=Masc|Number=Sing</td>\n      <td>23</td>\n      <td>nsubj</td>\n      <td>_</td>\n      <td>_</td>\n      <td>*</td>\n    </tr>\n    <tr>\n      <th>1</th>\n      <td>newscrawl-2153</td>\n      <td>2</td>\n      <td>Hermann</td>\n      <td>Hermann</td>\n      <td>PROPN</td>\n      <td>NE</td>\n      <td>Case=Nom|Gender=Masc|Number=Sing</td>\n      <td>1</td>\n      <td>flat</td>\n      <td>_</td>\n      <td>SpaceAfter=No</td>\n      <td>*</td>\n    </tr>\n    <tr>\n      <th>2</th>\n      <td>newscrawl-2153</td>\n      <td>3</td>\n      <td>,</td>\n      <td>,</td>\n      <td>PUNCT</td>\n      <td>$,</td>\n      <td>_</td>\n      <td>4</td>\n      <td>punct</td>\n      <td>_</td>\n      <td>_</td>\n      <td>*</td>\n    </tr>\n    <tr>\n      <th>3</th>\n      <td>newscrawl-2153</td>\n      <td>4</td>\n      <td>Heynckes</td>\n      <td>Heynckes</td>\n      <td>PROPN</td>\n      <td>NE</td>\n      <td>Case=Nom|Gender=Masc|Number=Sing</td>\n      <td>6</td>\n      <td>nmod</td>\n      <td>_</td>\n      <td>_</td>\n      <td>*</td>\n    </tr>\n    <tr>\n      <th>4</th>\n      <td>newscrawl-2153</td>\n      <td>5</td>\n      <td>'</td>\n      <td>'</td>\n      <td>PUNCT</td>\n      <td>$(</td>\n      <td>_</td>\n      <td>4</td>\n      <td>punct</td>\n      <td>_</td>\n      <td>_</td>\n      <td>*</td>\n    </tr>\n    <tr>\n      <th>5</th>\n      <td>newscrawl-2153</td>\n      <td>6</td>\n      <td>Co-Trainer</td>\n      <td>Co-Trainer</td>\n      <td>NOUN</td>\n      <td>NE</td>\n      <td>Case=Nom|Gender=Masc|Number=Sing</td>\n      <td>1</td>\n      <td>flat</td>\n      <td>_</td>\n      <td>_</td>\n      <td>*</td>\n    </tr>\n    <tr>\n      <th>6</th>\n      <td>newscrawl-2153</td>\n      <td>7</td>\n      <td>beim</td>\n      <td>beim</td>\n      <td>PROPN</td>\n      <td>NE</td>\n      <td>Case=Nom|Gender=Masc|Number=Sing</td>\n      <td>1</td>\n      <td>flat</td>\n      <td>_</td>\n      <td>_</td>\n      <td>*</td>\n    </tr>\n    <tr>\n      <th>7</th>\n      <td>newscrawl-2153</td>\n      <td>8</td>\n      <td>FC</td>\n      <td>FC</td>\n      <td>PROPN</td>\n      <td>NN</td>\n      <td>Case=Nom|Gender=Masc|Number=Sing</td>\n      <td>1</td>\n      <td>flat</td>\n      <td>_</td>\n      <td>_</td>\n      <td>*</td>\n    </tr>\n    <tr>\n      <th>8</th>\n      <td>newscrawl-2153</td>\n      <td>9</td>\n      <td>Bayern</td>\n      <td>Bayern</td>\n      <td>PROPN</td>\n      <td>NE</td>\n      <td>Case=Nom|Gender=Neut|Number=Sing</td>\n      <td>1</td>\n      <td>flat</td>\n      <td>_</td>\n      <td>SpaceAfter=No</td>\n      <td>*</td>\n    </tr>\n    <tr>\n      <th>9</th>\n      <td>newscrawl-2153</td>\n      <td>10</td>\n      <td>,</td>\n      <td>,</td>\n      <td>PUNCT</td>\n      <td>$,</td>\n      <td>_</td>\n      <td>1</td>\n      <td>punct</td>\n      <td>_</td>\n      <td>_</td>\n      <td>*</td>\n    </tr>\n    <tr>\n      <th>10</th>\n      <td>newscrawl-2153</td>\n      <td>11</td>\n      <td>wird</td>\n      <td>werden</td>\n      <td>AUX</td>\n      <td>VAFIN</td>\n      <td>Mood=Ind|Number=Sing|Person=3|Tense=Pres|VerbF...</td>\n      <td>23</td>\n      <td>aux:pass</td>\n      <td>_</td>\n      <td>_</td>\n      <td>*</td>\n    </tr>\n    <tr>\n      <th>11</th>\n      <td>newscrawl-2153</td>\n      <td>12</td>\n      <td>in</td>\n      <td>in</td>\n      <td>ADP</td>\n      <td>APPR</td>\n      <td>_</td>\n      <td>15</td>\n      <td>case</td>\n      <td>_</td>\n      <td>_</td>\n      <td>*</td>\n    </tr>\n    <tr>\n      <th>12</th>\n      <td>newscrawl-2153</td>\n      <td>13</td>\n      <td>der</td>\n      <td>der</td>\n      <td>DET</td>\n      <td>ART</td>\n      <td>Case=Dat|Definite=Def|Gender=Fem|Number=Sing|P...</td>\n      <td>15</td>\n      <td>det</td>\n      <td>_</td>\n      <td>_</td>\n      <td>*</td>\n    </tr>\n    <tr>\n      <th>13</th>\n      <td>newscrawl-2153</td>\n      <td>14</td>\n      <td>neuen</td>\n      <td>neu</td>\n      <td>ADJ</td>\n      <td>ADJA</td>\n      <td>Case=Dat|Gender=Fem|Number=Sing</td>\n      <td>15</td>\n      <td>amod</td>\n      <td>_</td>\n      <td>_</td>\n      <td>*</td>\n    </tr>\n    <tr>\n      <th>14</th>\n      <td>newscrawl-2153</td>\n      <td>15</td>\n      <td>Saison</td>\n      <td>Saison</td>\n      <td>NOUN</td>\n      <td>NN</td>\n      <td>Case=Dat|Gender=Fem|Number=Sing</td>\n      <td>23</td>\n      <td>obl</td>\n      <td>_</td>\n      <td>_</td>\n      <td>*</td>\n    </tr>\n    <tr>\n      <th>15</th>\n      <td>newscrawl-2153</td>\n      <td>16</td>\n      <td>beim</td>\n      <td>beim</td>\n      <td>PROPN</td>\n      <td>NE</td>\n      <td>Case=Dat|Gender=Neut|Number=Sing</td>\n      <td>23</td>\n      <td>nsubj</td>\n      <td>_</td>\n      <td>_</td>\n      <td>*</td>\n    </tr>\n    <tr>\n      <th>16</th>\n      <td>newscrawl-2153</td>\n      <td>17</td>\n      <td>FC</td>\n      <td>FC</td>\n      <td>PROPN</td>\n      <td>NN</td>\n      <td>Case=Dat|Gender=Masc|Number=Sing</td>\n      <td>16</td>\n      <td>flat</td>\n      <td>_</td>\n      <td>_</td>\n      <td>*</td>\n    </tr>\n    <tr>\n      <th>17</th>\n      <td>newscrawl-2153</td>\n      <td>18</td>\n      <td>Schalke</td>\n      <td>Schalk</td>\n      <td>PROPN</td>\n      <td>NE</td>\n      <td>Case=Acc|Gender=Neut|Number=Sing</td>\n      <td>23</td>\n      <td>obj</td>\n      <td>_</td>\n      <td>_</td>\n      <td>*</td>\n    </tr>\n    <tr>\n      <th>18</th>\n      <td>newscrawl-2153</td>\n      <td>19</td>\n      <td>04</td>\n      <td>04</td>\n      <td>PROPN</td>\n      <td>CARD</td>\n      <td>NumType=Card</td>\n      <td>18</td>\n      <td>appos</td>\n      <td>_</td>\n      <td>_</td>\n      <td>*</td>\n    </tr>\n    <tr>\n      <th>19</th>\n      <td>newscrawl-2153</td>\n      <td>20</td>\n      <td>auf</td>\n      <td>auf</td>\n      <td>ADP</td>\n      <td>APPR</td>\n      <td>_</td>\n      <td>22</td>\n      <td>case</td>\n      <td>_</td>\n      <td>_</td>\n      <td>*</td>\n    </tr>\n    <tr>\n      <th>20</th>\n      <td>newscrawl-2153</td>\n      <td>21</td>\n      <td>der</td>\n      <td>der</td>\n      <td>DET</td>\n      <td>ART</td>\n      <td>Case=Dat|Definite=Def|Gender=Fem|Number=Sing|P...</td>\n      <td>22</td>\n      <td>det</td>\n      <td>_</td>\n      <td>_</td>\n      <td>*</td>\n    </tr>\n    <tr>\n      <th>21</th>\n      <td>newscrawl-2153</td>\n      <td>22</td>\n      <td>Trainerbank</td>\n      <td>Trainerbank</td>\n      <td>NOUN</td>\n      <td>NN</td>\n      <td>Case=Dat|Gender=Fem|Number=Sing</td>\n      <td>23</td>\n      <td>obl</td>\n      <td>_</td>\n      <td>_</td>\n      <td>*</td>\n    </tr>\n    <tr>\n      <th>22</th>\n      <td>newscrawl-2153</td>\n      <td>23</td>\n      <td>sitzen</td>\n      <td>sitzen</td>\n      <td>VERB</td>\n      <td>VVINF</td>\n      <td>Mood=Ind|Number=Plur|Person=3|Tense=Pres|VerbF...</td>\n      <td>0</td>\n      <td>root</td>\n      <td>_</td>\n      <td>SpaceAfter=No</td>\n      <td>*</td>\n    </tr>\n    <tr>\n      <th>23</th>\n      <td>newscrawl-2153</td>\n      <td>24</td>\n      <td>.</td>\n      <td>.</td>\n      <td>PUNCT</td>\n      <td>$.</td>\n      <td>_</td>\n      <td>23</td>\n      <td>punct</td>\n      <td>_</td>\n      <td>_</td>\n      <td>*</td>\n    </tr>\n    <tr>\n      <th>24</th>\n      <td>train-s2414</td>\n      <td>1</td>\n      <td>Eine</td>\n      <td>ein</td>\n      <td>DET</td>\n      <td>ART</td>\n      <td>Case=Nom|Definite=Ind|Gender=Fem|Number=Sing|P...</td>\n      <td>4</td>\n      <td>det</td>\n      <td>_</td>\n      <td>_</td>\n      <td>*</td>\n    </tr>\n    <tr>\n      <th>25</th>\n      <td>train-s2414</td>\n      <td>2</td>\n      <td>früh</td>\n      <td>früh</td>\n      <td>ADJ</td>\n      <td>ADJD</td>\n      <td>_</td>\n      <td>3</td>\n      <td>advmod</td>\n      <td>_</td>\n      <td>_</td>\n      <td>*</td>\n    </tr>\n    <tr>\n      <th>26</th>\n      <td>train-s2414</td>\n      <td>3</td>\n      <td>einsetzende</td>\n      <td>einsetzend</td>\n      <td>ADJ</td>\n      <td>ADJA</td>\n      <td>Case=Nom|Gender=Fem|Number=Sing</td>\n      <td>4</td>\n      <td>amod</td>\n      <td>_</td>\n      <td>_</td>\n      <td>*</td>\n    </tr>\n    <tr>\n      <th>27</th>\n      <td>train-s2414</td>\n      <td>4</td>\n      <td>Therapie</td>\n      <td>Therapie</td>\n      <td>NOUN</td>\n      <td>NN</td>\n      <td>Case=Nom|Gender=Fem|Number=Sing</td>\n      <td>9</td>\n      <td>nsubj</td>\n      <td>_</td>\n      <td>_</td>\n      <td>*</td>\n    </tr>\n    <tr>\n      <th>28</th>\n      <td>train-s2414</td>\n      <td>5</td>\n      <td>kann</td>\n      <td>können</td>\n      <td>AUX</td>\n      <td>VMFIN</td>\n      <td>Mood=Ind|Number=Sing|Person=3|Tense=Pres|VerbF...</td>\n      <td>9</td>\n      <td>aux</td>\n      <td>_</td>\n      <td>_</td>\n      <td>*</td>\n    </tr>\n    <tr>\n      <th>29</th>\n      <td>train-s2414</td>\n      <td>6</td>\n      <td>den</td>\n      <td>der</td>\n      <td>DET</td>\n      <td>ART</td>\n      <td>Case=Acc|Definite=Def|Gender=Masc|Number=Sing|...</td>\n      <td>7</td>\n      <td>det</td>\n      <td>_</td>\n      <td>_</td>\n      <td>*</td>\n    </tr>\n    <tr>\n      <th>30</th>\n      <td>train-s2414</td>\n      <td>7</td>\n      <td>Neglect</td>\n      <td>Neglect</td>\n      <td>PROPN</td>\n      <td>NN</td>\n      <td>Case=Acc|Gender=Masc|Number=Sing</td>\n      <td>9</td>\n      <td>obj</td>\n      <td>_</td>\n      <td>_</td>\n      <td>*</td>\n    </tr>\n    <tr>\n      <th>31</th>\n      <td>train-s2414</td>\n      <td>8</td>\n      <td>nachweislich</td>\n      <td>nachweislich</td>\n      <td>ADJ</td>\n      <td>ADJD</td>\n      <td>_</td>\n      <td>9</td>\n      <td>advmod</td>\n      <td>_</td>\n      <td>_</td>\n      <td>*</td>\n    </tr>\n    <tr>\n      <th>32</th>\n      <td>train-s2414</td>\n      <td>9</td>\n      <td>verbessern</td>\n      <td>verbessern</td>\n      <td>VERB</td>\n      <td>VVINF</td>\n      <td>VerbForm=Inf</td>\n      <td>0</td>\n      <td>root</td>\n      <td>_</td>\n      <td>SpaceAfter=No</td>\n      <td>*</td>\n    </tr>\n    <tr>\n      <th>33</th>\n      <td>train-s2414</td>\n      <td>10</td>\n      <td>.</td>\n      <td>.</td>\n      <td>PUNCT</td>\n      <td>$.</td>\n      <td>_</td>\n      <td>9</td>\n      <td>punct</td>\n      <td>_</td>\n      <td>_</td>\n      <td>*</td>\n    </tr>\n    <tr>\n      <th>34</th>\n      <td>newscrawl-6070</td>\n      <td>1</td>\n      <td>Ihnen</td>\n      <td>Sie|sie</td>\n      <td>PRON</td>\n      <td>PPER</td>\n      <td>Case=Dat|Number=Plur|Person=3|PronType=Prs</td>\n      <td>2</td>\n      <td>iobj</td>\n      <td>_</td>\n      <td>_</td>\n      <td>*</td>\n    </tr>\n    <tr>\n      <th>35</th>\n      <td>newscrawl-6070</td>\n      <td>2</td>\n      <td>drohe</td>\n      <td>drohen</td>\n      <td>VERB</td>\n      <td>VVFIN</td>\n      <td>Mood=Sub|Number=Sing|Person=3|Tense=Pres|VerbF...</td>\n      <td>0</td>\n      <td>root</td>\n      <td>_</td>\n      <td>_</td>\n      <td>*</td>\n    </tr>\n    <tr>\n      <th>36</th>\n      <td>newscrawl-6070</td>\n      <td>3</td>\n      <td>die</td>\n      <td>der</td>\n      <td>DET</td>\n      <td>ART</td>\n      <td>Case=Acc|Definite=Def|Gender=Fem|Number=Sing|P...</td>\n      <td>4</td>\n      <td>det</td>\n      <td>_</td>\n      <td>_</td>\n      <td>*</td>\n    </tr>\n    <tr>\n      <th>37</th>\n      <td>newscrawl-6070</td>\n      <td>4</td>\n      <td>Todesstrafe</td>\n      <td>Todesstrafe</td>\n      <td>NOUN</td>\n      <td>NN</td>\n      <td>Case=Acc|Gender=Fem|Number=Sing</td>\n      <td>2</td>\n      <td>obj</td>\n      <td>_</td>\n      <td>SpaceAfter=No</td>\n      <td>*</td>\n    </tr>\n    <tr>\n      <th>38</th>\n      <td>newscrawl-6070</td>\n      <td>5</td>\n      <td>.</td>\n      <td>.</td>\n      <td>PUNCT</td>\n      <td>$.</td>\n      <td>_</td>\n      <td>2</td>\n      <td>punct</td>\n      <td>_</td>\n      <td>_</td>\n      <td>*</td>\n    </tr>\n    <tr>\n      <th>39</th>\n      <td>train-s1930</td>\n      <td>1</td>\n      <td>Die</td>\n      <td>der</td>\n      <td>DET</td>\n      <td>ART</td>\n      <td>Case=Nom|Definite=Def|Gender=Fem|Number=Sing|P...</td>\n      <td>2</td>\n      <td>det</td>\n      <td>_</td>\n      <td>_</td>\n      <td>*</td>\n    </tr>\n    <tr>\n      <th>40</th>\n      <td>train-s1930</td>\n      <td>2</td>\n      <td>Ukraine</td>\n      <td>Ukraine</td>\n      <td>PROPN</td>\n      <td>NE</td>\n      <td>Case=Nom|Gender=Fem|Number=Sing</td>\n      <td>3</td>\n      <td>nsubj</td>\n      <td>_</td>\n      <td>_</td>\n      <td>*</td>\n    </tr>\n    <tr>\n      <th>41</th>\n      <td>train-s1930</td>\n      <td>3</td>\n      <td>brauche</td>\n      <td>brauchen</td>\n      <td>VERB</td>\n      <td>VVFIN</td>\n      <td>Mood=Sub|Number=Sing|Person=3|Tense=Pres|VerbF...</td>\n      <td>0</td>\n      <td>root</td>\n      <td>_</td>\n      <td>_</td>\n      <td>*</td>\n    </tr>\n    <tr>\n      <th>42</th>\n      <td>train-s1930</td>\n      <td>4</td>\n      <td>dieses</td>\n      <td>dies</td>\n      <td>PRON</td>\n      <td>PDAT</td>\n      <td>Case=Acc|Gender=Neut|Number=Sing|PronType=Dem</td>\n      <td>5</td>\n      <td>det</td>\n      <td>_</td>\n      <td>_</td>\n      <td>*</td>\n    </tr>\n    <tr>\n      <th>43</th>\n      <td>train-s1930</td>\n      <td>5</td>\n      <td>Geld</td>\n      <td>Geld</td>\n      <td>NOUN</td>\n      <td>NN</td>\n      <td>Case=Acc|Gender=Neut|Number=Sing</td>\n      <td>3</td>\n      <td>obj</td>\n      <td>_</td>\n      <td>_</td>\n      <td>*</td>\n    </tr>\n    <tr>\n      <th>44</th>\n      <td>train-s1930</td>\n      <td>6</td>\n      <td>unter</td>\n      <td>unter</td>\n      <td>ADP</td>\n      <td>APPR</td>\n      <td>_</td>\n      <td>7</td>\n      <td>case</td>\n      <td>_</td>\n      <td>_</td>\n      <td>*</td>\n    </tr>\n    <tr>\n      <th>45</th>\n      <td>train-s1930</td>\n      <td>7</td>\n      <td>anderem</td>\n      <td>ander</td>\n      <td>PRON</td>\n      <td>PIS</td>\n      <td>Case=Dat|Definite=Ind|Gender=Neut|Number=Sing|...</td>\n      <td>3</td>\n      <td>obl</td>\n      <td>_</td>\n      <td>SpaceAfter=No</td>\n      <td>*</td>\n    </tr>\n    <tr>\n      <th>46</th>\n      <td>train-s1930</td>\n      <td>8</td>\n      <td>,</td>\n      <td>,</td>\n      <td>PUNCT</td>\n      <td>$,</td>\n      <td>_</td>\n      <td>18</td>\n      <td>punct</td>\n      <td>_</td>\n      <td>_</td>\n      <td>*</td>\n    </tr>\n    <tr>\n      <th>47</th>\n      <td>train-s1930</td>\n      <td>9</td>\n      <td>um</td>\n      <td>um</td>\n      <td>ADP</td>\n      <td>KOUI</td>\n      <td>_</td>\n      <td>18</td>\n      <td>mark</td>\n      <td>_</td>\n      <td>_</td>\n      <td>*</td>\n    </tr>\n    <tr>\n      <th>48</th>\n      <td>train-s1930</td>\n      <td>10</td>\n      <td>den</td>\n      <td>der</td>\n      <td>DET</td>\n      <td>ART</td>\n      <td>Case=Acc|Definite=Def|Gender=Masc|Number=Sing|...</td>\n      <td>11</td>\n      <td>det</td>\n      <td>_</td>\n      <td>_</td>\n      <td>*</td>\n    </tr>\n    <tr>\n      <th>49</th>\n      <td>train-s1930</td>\n      <td>11</td>\n      <td>Unglücksreaktorblock</td>\n      <td>Unglücksreaktorblock</td>\n      <td>NOUN</td>\n      <td>NN</td>\n      <td>Case=Acc|Gender=Masc|Number=Sing</td>\n      <td>18</td>\n      <td>obj</td>\n      <td>_</td>\n      <td>_</td>\n      <td>*</td>\n    </tr>\n  </tbody>\n</table>\n</div>"
     },
     "metadata": {},
     "execution_count": 15
    }
   ],
   "source": [
    "df = pd.concat([german, irish, hindi, portuguese, chinese])\n",
    "df.head(50)"
   ]
  },
  {
   "cell_type": "code",
   "execution_count": 16,
   "metadata": {},
   "outputs": [
    {
     "output_type": "execute_result",
     "data": {
      "text/plain": "                          id_sent  id         form        lemma   upos  xpos  \\\n575540  conll2017-crawl-000-10080  16           什麼           什麼   PRON    WP   \n575541  conll2017-crawl-000-10080  17            ?            ?  PUNCT     ,   \n575542  conll2017-crawl-000-10719   1          Hot          Hot      X    FW   \n575543  conll2017-crawl-000-10719   2         Hill         Hill      X    FW   \n575544  conll2017-crawl-000-10719   3            (            (  PUNCT     ,   \n575545  conll2017-crawl-000-10719   4         提納卡納         提納卡納   VERB    VV   \n575546  conll2017-crawl-000-10719   5            )            )  PUNCT     ,   \n575547  conll2017-crawl-000-10719   6            -            -  PUNCT  HYPH   \n575548  conll2017-crawl-000-10719   7           餐廳           餐廳   NOUN    NN   \n575549  conll2017-crawl-000-10719   8            /            /    SYM     /   \n575550  conll2017-crawl-000-10719   9           美食           美食   NOUN    NN   \n575551  conll2017-crawl-000-10719  10           評論           評論   VERB    VV   \n575552  conll2017-crawl-000-10719  11            -            -  PUNCT  HYPH   \n575553  conll2017-crawl-000-10719  12  TripAdvisor  TripAdvisor      X    FW   \n575554          ud-gsd-train-2829   1           翌年           翌年   NOUN    NN   \n575555          ud-gsd-train-2829   2            3            3    NUM    CD   \n575556          ud-gsd-train-2829   3            月            月   NOUN   NNB   \n575557          ud-gsd-train-2829   4            ，            ，  PUNCT     ,   \n575558          ud-gsd-train-2829   5            他            他   PRON   PRP   \n575559          ud-gsd-train-2829   6            任            任   VERB    VV   \n575560          ud-gsd-train-2829   7           出使           出使   VERB    VV   \n575561          ud-gsd-train-2829   8           日本           日本  PROPN   NNP   \n575562          ud-gsd-train-2829   9           大臣           大臣   NOUN    NN   \n575563          ud-gsd-train-2829  10            。            。  PUNCT     .   \n575564          ud-gsd-train-3282   1            在            在    ADP    IN   \n575565          ud-gsd-train-3282   2            古            古   PART   PFA   \n575566          ud-gsd-train-3282   3           希臘           希臘  PROPN   NNP   \n575567          ud-gsd-train-3282   4            的            的   PART   DEC   \n575568          ud-gsd-train-3282   5           一些           一些    ADJ    JJ   \n575569          ud-gsd-train-3282   6           城市           城市   NOUN    NN   \n575570          ud-gsd-train-3282   7           國家           國家   NOUN    NN   \n575571          ud-gsd-train-3282   8            （            （  PUNCT     (   \n575572          ud-gsd-train-3282   9            如            如   VERB    VV   \n575573          ud-gsd-train-3282  10           雅典           雅典  PROPN   NNP   \n575574          ud-gsd-train-3282  11            ）            ）  PUNCT     )   \n575575          ud-gsd-train-3282  12            和            和  CCONJ    CC   \n575576          ud-gsd-train-3282  13           羅馬           羅馬  PROPN   NNP   \n575577          ud-gsd-train-3282  14           共和           共和   NOUN    NN   \n575578          ud-gsd-train-3282  15            國            國   PART   SFN   \n575579          ud-gsd-train-3282  16            也            也    ADV    RB   \n575580          ud-gsd-train-3282  17           存在           存在   VERB    VV   \n575581          ud-gsd-train-3282  18           類似           類似   VERB    VV   \n575582          ud-gsd-train-3282  19           議會           議會   NOUN    NN   \n575583          ud-gsd-train-3282  20            的            的   PART   DEC   \n575584          ud-gsd-train-3282  21           機構           機構   NOUN    NN   \n575585          ud-gsd-train-3282  22            （            （  PUNCT     (   \n575586          ud-gsd-train-3282  23           元老           元老   NOUN    NN   \n575587          ud-gsd-train-3282  24            院            院   PART   SFN   \n575588          ud-gsd-train-3282  25            ）            ）  PUNCT     )   \n575589          ud-gsd-train-3282  26            。            。  PUNCT     .   \n\n               feats head        deprel deps           misc mwe  \n575540             _    0          root    _              _   *  \n575541             _   16         punct    _              _   *  \n575542             _   10         nsubj    _              _   *  \n575543             _    1  flat:foreign    _              _   *  \n575544             _   10         punct    _              _   *  \n575545             _   10         advcl    _              _   *  \n575546             _    7         punct    _              _   *  \n575547             _    7         punct    _              _   *  \n575548             _   10          conj    _              _   *  \n575549             _   10         punct    _              _   *  \n575550             _   10         nsubj    _              _   *  \n575551             _    0          root    _              _   *  \n575552             _   10         punct    _              _   *  \n575553             _   10           obj    _              _   *  \n575554             _    3          nmod    _  SpaceAfter=No   *  \n575555  NumType=Card    3        nummod    _  SpaceAfter=No   *  \n575556             _    6     nmod:tmod    _  SpaceAfter=No   *  \n575557             _    6         punct    _  SpaceAfter=No   *  \n575558      Person=3    6         nsubj    _  SpaceAfter=No   *  \n575559             _    0          root    _  SpaceAfter=No   *  \n575560             _    9          amod    _  SpaceAfter=No   *  \n575561             _    7           obj    _  SpaceAfter=No   *  \n575562             _    6           obj    _  SpaceAfter=No   *  \n575563             _    6         punct    _  SpaceAfter=No   *  \n575564             _    9          case    _  SpaceAfter=No   *  \n575565             _    3     case:pref    _  SpaceAfter=No   *  \n575566             _    7          nmod    _  SpaceAfter=No   *  \n575567      Case=Gen    3      case:dec    _  SpaceAfter=No   *  \n575568             _    7          amod    _  SpaceAfter=No   *  \n575569             _    7          nmod    _  SpaceAfter=No   *  \n575570             _    9         nsubj    _  SpaceAfter=No   *  \n575571             _    9         punct    _  SpaceAfter=No   *  \n575572             _   17         ccomp    _  SpaceAfter=No   *  \n575573             _    9           obj    _  SpaceAfter=No   *  \n575574             _   15         punct    _  SpaceAfter=No   *  \n575575             _   15            cc    _  SpaceAfter=No   *  \n575576             _   15          nmod    _  SpaceAfter=No   *  \n575577             _   15      compound    _  SpaceAfter=No   *  \n575578             _    9          conj    _  SpaceAfter=No   *  \n575579             _   17          mark    _  SpaceAfter=No   *  \n575580             _    0          root    _  SpaceAfter=No   *  \n575581             _   21     acl:relcl    _  SpaceAfter=No   *  \n575582             _   18           obj    _  SpaceAfter=No   *  \n575583             _   18    mark:relcl    _  SpaceAfter=No   *  \n575584             _   17           obj    _  SpaceAfter=No   *  \n575585             _   24         punct    _  SpaceAfter=No   *  \n575586             _   24      compound    _  SpaceAfter=No   *  \n575587             _   21         appos    _  SpaceAfter=No   *  \n575588             _   24         punct    _  SpaceAfter=No   *  \n575589             _   17         punct    _  SpaceAfter=No   *  ",
      "text/html": "<div>\n<style scoped>\n    .dataframe tbody tr th:only-of-type {\n        vertical-align: middle;\n    }\n\n    .dataframe tbody tr th {\n        vertical-align: top;\n    }\n\n    .dataframe thead th {\n        text-align: right;\n    }\n</style>\n<table border=\"1\" class=\"dataframe\">\n  <thead>\n    <tr style=\"text-align: right;\">\n      <th></th>\n      <th>id_sent</th>\n      <th>id</th>\n      <th>form</th>\n      <th>lemma</th>\n      <th>upos</th>\n      <th>xpos</th>\n      <th>feats</th>\n      <th>head</th>\n      <th>deprel</th>\n      <th>deps</th>\n      <th>misc</th>\n      <th>mwe</th>\n    </tr>\n  </thead>\n  <tbody>\n    <tr>\n      <th>575540</th>\n      <td>conll2017-crawl-000-10080</td>\n      <td>16</td>\n      <td>什麼</td>\n      <td>什麼</td>\n      <td>PRON</td>\n      <td>WP</td>\n      <td>_</td>\n      <td>0</td>\n      <td>root</td>\n      <td>_</td>\n      <td>_</td>\n      <td>*</td>\n    </tr>\n    <tr>\n      <th>575541</th>\n      <td>conll2017-crawl-000-10080</td>\n      <td>17</td>\n      <td>?</td>\n      <td>?</td>\n      <td>PUNCT</td>\n      <td>,</td>\n      <td>_</td>\n      <td>16</td>\n      <td>punct</td>\n      <td>_</td>\n      <td>_</td>\n      <td>*</td>\n    </tr>\n    <tr>\n      <th>575542</th>\n      <td>conll2017-crawl-000-10719</td>\n      <td>1</td>\n      <td>Hot</td>\n      <td>Hot</td>\n      <td>X</td>\n      <td>FW</td>\n      <td>_</td>\n      <td>10</td>\n      <td>nsubj</td>\n      <td>_</td>\n      <td>_</td>\n      <td>*</td>\n    </tr>\n    <tr>\n      <th>575543</th>\n      <td>conll2017-crawl-000-10719</td>\n      <td>2</td>\n      <td>Hill</td>\n      <td>Hill</td>\n      <td>X</td>\n      <td>FW</td>\n      <td>_</td>\n      <td>1</td>\n      <td>flat:foreign</td>\n      <td>_</td>\n      <td>_</td>\n      <td>*</td>\n    </tr>\n    <tr>\n      <th>575544</th>\n      <td>conll2017-crawl-000-10719</td>\n      <td>3</td>\n      <td>(</td>\n      <td>(</td>\n      <td>PUNCT</td>\n      <td>,</td>\n      <td>_</td>\n      <td>10</td>\n      <td>punct</td>\n      <td>_</td>\n      <td>_</td>\n      <td>*</td>\n    </tr>\n    <tr>\n      <th>575545</th>\n      <td>conll2017-crawl-000-10719</td>\n      <td>4</td>\n      <td>提納卡納</td>\n      <td>提納卡納</td>\n      <td>VERB</td>\n      <td>VV</td>\n      <td>_</td>\n      <td>10</td>\n      <td>advcl</td>\n      <td>_</td>\n      <td>_</td>\n      <td>*</td>\n    </tr>\n    <tr>\n      <th>575546</th>\n      <td>conll2017-crawl-000-10719</td>\n      <td>5</td>\n      <td>)</td>\n      <td>)</td>\n      <td>PUNCT</td>\n      <td>,</td>\n      <td>_</td>\n      <td>7</td>\n      <td>punct</td>\n      <td>_</td>\n      <td>_</td>\n      <td>*</td>\n    </tr>\n    <tr>\n      <th>575547</th>\n      <td>conll2017-crawl-000-10719</td>\n      <td>6</td>\n      <td>-</td>\n      <td>-</td>\n      <td>PUNCT</td>\n      <td>HYPH</td>\n      <td>_</td>\n      <td>7</td>\n      <td>punct</td>\n      <td>_</td>\n      <td>_</td>\n      <td>*</td>\n    </tr>\n    <tr>\n      <th>575548</th>\n      <td>conll2017-crawl-000-10719</td>\n      <td>7</td>\n      <td>餐廳</td>\n      <td>餐廳</td>\n      <td>NOUN</td>\n      <td>NN</td>\n      <td>_</td>\n      <td>10</td>\n      <td>conj</td>\n      <td>_</td>\n      <td>_</td>\n      <td>*</td>\n    </tr>\n    <tr>\n      <th>575549</th>\n      <td>conll2017-crawl-000-10719</td>\n      <td>8</td>\n      <td>/</td>\n      <td>/</td>\n      <td>SYM</td>\n      <td>/</td>\n      <td>_</td>\n      <td>10</td>\n      <td>punct</td>\n      <td>_</td>\n      <td>_</td>\n      <td>*</td>\n    </tr>\n    <tr>\n      <th>575550</th>\n      <td>conll2017-crawl-000-10719</td>\n      <td>9</td>\n      <td>美食</td>\n      <td>美食</td>\n      <td>NOUN</td>\n      <td>NN</td>\n      <td>_</td>\n      <td>10</td>\n      <td>nsubj</td>\n      <td>_</td>\n      <td>_</td>\n      <td>*</td>\n    </tr>\n    <tr>\n      <th>575551</th>\n      <td>conll2017-crawl-000-10719</td>\n      <td>10</td>\n      <td>評論</td>\n      <td>評論</td>\n      <td>VERB</td>\n      <td>VV</td>\n      <td>_</td>\n      <td>0</td>\n      <td>root</td>\n      <td>_</td>\n      <td>_</td>\n      <td>*</td>\n    </tr>\n    <tr>\n      <th>575552</th>\n      <td>conll2017-crawl-000-10719</td>\n      <td>11</td>\n      <td>-</td>\n      <td>-</td>\n      <td>PUNCT</td>\n      <td>HYPH</td>\n      <td>_</td>\n      <td>10</td>\n      <td>punct</td>\n      <td>_</td>\n      <td>_</td>\n      <td>*</td>\n    </tr>\n    <tr>\n      <th>575553</th>\n      <td>conll2017-crawl-000-10719</td>\n      <td>12</td>\n      <td>TripAdvisor</td>\n      <td>TripAdvisor</td>\n      <td>X</td>\n      <td>FW</td>\n      <td>_</td>\n      <td>10</td>\n      <td>obj</td>\n      <td>_</td>\n      <td>_</td>\n      <td>*</td>\n    </tr>\n    <tr>\n      <th>575554</th>\n      <td>ud-gsd-train-2829</td>\n      <td>1</td>\n      <td>翌年</td>\n      <td>翌年</td>\n      <td>NOUN</td>\n      <td>NN</td>\n      <td>_</td>\n      <td>3</td>\n      <td>nmod</td>\n      <td>_</td>\n      <td>SpaceAfter=No</td>\n      <td>*</td>\n    </tr>\n    <tr>\n      <th>575555</th>\n      <td>ud-gsd-train-2829</td>\n      <td>2</td>\n      <td>3</td>\n      <td>3</td>\n      <td>NUM</td>\n      <td>CD</td>\n      <td>NumType=Card</td>\n      <td>3</td>\n      <td>nummod</td>\n      <td>_</td>\n      <td>SpaceAfter=No</td>\n      <td>*</td>\n    </tr>\n    <tr>\n      <th>575556</th>\n      <td>ud-gsd-train-2829</td>\n      <td>3</td>\n      <td>月</td>\n      <td>月</td>\n      <td>NOUN</td>\n      <td>NNB</td>\n      <td>_</td>\n      <td>6</td>\n      <td>nmod:tmod</td>\n      <td>_</td>\n      <td>SpaceAfter=No</td>\n      <td>*</td>\n    </tr>\n    <tr>\n      <th>575557</th>\n      <td>ud-gsd-train-2829</td>\n      <td>4</td>\n      <td>，</td>\n      <td>，</td>\n      <td>PUNCT</td>\n      <td>,</td>\n      <td>_</td>\n      <td>6</td>\n      <td>punct</td>\n      <td>_</td>\n      <td>SpaceAfter=No</td>\n      <td>*</td>\n    </tr>\n    <tr>\n      <th>575558</th>\n      <td>ud-gsd-train-2829</td>\n      <td>5</td>\n      <td>他</td>\n      <td>他</td>\n      <td>PRON</td>\n      <td>PRP</td>\n      <td>Person=3</td>\n      <td>6</td>\n      <td>nsubj</td>\n      <td>_</td>\n      <td>SpaceAfter=No</td>\n      <td>*</td>\n    </tr>\n    <tr>\n      <th>575559</th>\n      <td>ud-gsd-train-2829</td>\n      <td>6</td>\n      <td>任</td>\n      <td>任</td>\n      <td>VERB</td>\n      <td>VV</td>\n      <td>_</td>\n      <td>0</td>\n      <td>root</td>\n      <td>_</td>\n      <td>SpaceAfter=No</td>\n      <td>*</td>\n    </tr>\n    <tr>\n      <th>575560</th>\n      <td>ud-gsd-train-2829</td>\n      <td>7</td>\n      <td>出使</td>\n      <td>出使</td>\n      <td>VERB</td>\n      <td>VV</td>\n      <td>_</td>\n      <td>9</td>\n      <td>amod</td>\n      <td>_</td>\n      <td>SpaceAfter=No</td>\n      <td>*</td>\n    </tr>\n    <tr>\n      <th>575561</th>\n      <td>ud-gsd-train-2829</td>\n      <td>8</td>\n      <td>日本</td>\n      <td>日本</td>\n      <td>PROPN</td>\n      <td>NNP</td>\n      <td>_</td>\n      <td>7</td>\n      <td>obj</td>\n      <td>_</td>\n      <td>SpaceAfter=No</td>\n      <td>*</td>\n    </tr>\n    <tr>\n      <th>575562</th>\n      <td>ud-gsd-train-2829</td>\n      <td>9</td>\n      <td>大臣</td>\n      <td>大臣</td>\n      <td>NOUN</td>\n      <td>NN</td>\n      <td>_</td>\n      <td>6</td>\n      <td>obj</td>\n      <td>_</td>\n      <td>SpaceAfter=No</td>\n      <td>*</td>\n    </tr>\n    <tr>\n      <th>575563</th>\n      <td>ud-gsd-train-2829</td>\n      <td>10</td>\n      <td>。</td>\n      <td>。</td>\n      <td>PUNCT</td>\n      <td>.</td>\n      <td>_</td>\n      <td>6</td>\n      <td>punct</td>\n      <td>_</td>\n      <td>SpaceAfter=No</td>\n      <td>*</td>\n    </tr>\n    <tr>\n      <th>575564</th>\n      <td>ud-gsd-train-3282</td>\n      <td>1</td>\n      <td>在</td>\n      <td>在</td>\n      <td>ADP</td>\n      <td>IN</td>\n      <td>_</td>\n      <td>9</td>\n      <td>case</td>\n      <td>_</td>\n      <td>SpaceAfter=No</td>\n      <td>*</td>\n    </tr>\n    <tr>\n      <th>575565</th>\n      <td>ud-gsd-train-3282</td>\n      <td>2</td>\n      <td>古</td>\n      <td>古</td>\n      <td>PART</td>\n      <td>PFA</td>\n      <td>_</td>\n      <td>3</td>\n      <td>case:pref</td>\n      <td>_</td>\n      <td>SpaceAfter=No</td>\n      <td>*</td>\n    </tr>\n    <tr>\n      <th>575566</th>\n      <td>ud-gsd-train-3282</td>\n      <td>3</td>\n      <td>希臘</td>\n      <td>希臘</td>\n      <td>PROPN</td>\n      <td>NNP</td>\n      <td>_</td>\n      <td>7</td>\n      <td>nmod</td>\n      <td>_</td>\n      <td>SpaceAfter=No</td>\n      <td>*</td>\n    </tr>\n    <tr>\n      <th>575567</th>\n      <td>ud-gsd-train-3282</td>\n      <td>4</td>\n      <td>的</td>\n      <td>的</td>\n      <td>PART</td>\n      <td>DEC</td>\n      <td>Case=Gen</td>\n      <td>3</td>\n      <td>case:dec</td>\n      <td>_</td>\n      <td>SpaceAfter=No</td>\n      <td>*</td>\n    </tr>\n    <tr>\n      <th>575568</th>\n      <td>ud-gsd-train-3282</td>\n      <td>5</td>\n      <td>一些</td>\n      <td>一些</td>\n      <td>ADJ</td>\n      <td>JJ</td>\n      <td>_</td>\n      <td>7</td>\n      <td>amod</td>\n      <td>_</td>\n      <td>SpaceAfter=No</td>\n      <td>*</td>\n    </tr>\n    <tr>\n      <th>575569</th>\n      <td>ud-gsd-train-3282</td>\n      <td>6</td>\n      <td>城市</td>\n      <td>城市</td>\n      <td>NOUN</td>\n      <td>NN</td>\n      <td>_</td>\n      <td>7</td>\n      <td>nmod</td>\n      <td>_</td>\n      <td>SpaceAfter=No</td>\n      <td>*</td>\n    </tr>\n    <tr>\n      <th>575570</th>\n      <td>ud-gsd-train-3282</td>\n      <td>7</td>\n      <td>國家</td>\n      <td>國家</td>\n      <td>NOUN</td>\n      <td>NN</td>\n      <td>_</td>\n      <td>9</td>\n      <td>nsubj</td>\n      <td>_</td>\n      <td>SpaceAfter=No</td>\n      <td>*</td>\n    </tr>\n    <tr>\n      <th>575571</th>\n      <td>ud-gsd-train-3282</td>\n      <td>8</td>\n      <td>（</td>\n      <td>（</td>\n      <td>PUNCT</td>\n      <td>(</td>\n      <td>_</td>\n      <td>9</td>\n      <td>punct</td>\n      <td>_</td>\n      <td>SpaceAfter=No</td>\n      <td>*</td>\n    </tr>\n    <tr>\n      <th>575572</th>\n      <td>ud-gsd-train-3282</td>\n      <td>9</td>\n      <td>如</td>\n      <td>如</td>\n      <td>VERB</td>\n      <td>VV</td>\n      <td>_</td>\n      <td>17</td>\n      <td>ccomp</td>\n      <td>_</td>\n      <td>SpaceAfter=No</td>\n      <td>*</td>\n    </tr>\n    <tr>\n      <th>575573</th>\n      <td>ud-gsd-train-3282</td>\n      <td>10</td>\n      <td>雅典</td>\n      <td>雅典</td>\n      <td>PROPN</td>\n      <td>NNP</td>\n      <td>_</td>\n      <td>9</td>\n      <td>obj</td>\n      <td>_</td>\n      <td>SpaceAfter=No</td>\n      <td>*</td>\n    </tr>\n    <tr>\n      <th>575574</th>\n      <td>ud-gsd-train-3282</td>\n      <td>11</td>\n      <td>）</td>\n      <td>）</td>\n      <td>PUNCT</td>\n      <td>)</td>\n      <td>_</td>\n      <td>15</td>\n      <td>punct</td>\n      <td>_</td>\n      <td>SpaceAfter=No</td>\n      <td>*</td>\n    </tr>\n    <tr>\n      <th>575575</th>\n      <td>ud-gsd-train-3282</td>\n      <td>12</td>\n      <td>和</td>\n      <td>和</td>\n      <td>CCONJ</td>\n      <td>CC</td>\n      <td>_</td>\n      <td>15</td>\n      <td>cc</td>\n      <td>_</td>\n      <td>SpaceAfter=No</td>\n      <td>*</td>\n    </tr>\n    <tr>\n      <th>575576</th>\n      <td>ud-gsd-train-3282</td>\n      <td>13</td>\n      <td>羅馬</td>\n      <td>羅馬</td>\n      <td>PROPN</td>\n      <td>NNP</td>\n      <td>_</td>\n      <td>15</td>\n      <td>nmod</td>\n      <td>_</td>\n      <td>SpaceAfter=No</td>\n      <td>*</td>\n    </tr>\n    <tr>\n      <th>575577</th>\n      <td>ud-gsd-train-3282</td>\n      <td>14</td>\n      <td>共和</td>\n      <td>共和</td>\n      <td>NOUN</td>\n      <td>NN</td>\n      <td>_</td>\n      <td>15</td>\n      <td>compound</td>\n      <td>_</td>\n      <td>SpaceAfter=No</td>\n      <td>*</td>\n    </tr>\n    <tr>\n      <th>575578</th>\n      <td>ud-gsd-train-3282</td>\n      <td>15</td>\n      <td>國</td>\n      <td>國</td>\n      <td>PART</td>\n      <td>SFN</td>\n      <td>_</td>\n      <td>9</td>\n      <td>conj</td>\n      <td>_</td>\n      <td>SpaceAfter=No</td>\n      <td>*</td>\n    </tr>\n    <tr>\n      <th>575579</th>\n      <td>ud-gsd-train-3282</td>\n      <td>16</td>\n      <td>也</td>\n      <td>也</td>\n      <td>ADV</td>\n      <td>RB</td>\n      <td>_</td>\n      <td>17</td>\n      <td>mark</td>\n      <td>_</td>\n      <td>SpaceAfter=No</td>\n      <td>*</td>\n    </tr>\n    <tr>\n      <th>575580</th>\n      <td>ud-gsd-train-3282</td>\n      <td>17</td>\n      <td>存在</td>\n      <td>存在</td>\n      <td>VERB</td>\n      <td>VV</td>\n      <td>_</td>\n      <td>0</td>\n      <td>root</td>\n      <td>_</td>\n      <td>SpaceAfter=No</td>\n      <td>*</td>\n    </tr>\n    <tr>\n      <th>575581</th>\n      <td>ud-gsd-train-3282</td>\n      <td>18</td>\n      <td>類似</td>\n      <td>類似</td>\n      <td>VERB</td>\n      <td>VV</td>\n      <td>_</td>\n      <td>21</td>\n      <td>acl:relcl</td>\n      <td>_</td>\n      <td>SpaceAfter=No</td>\n      <td>*</td>\n    </tr>\n    <tr>\n      <th>575582</th>\n      <td>ud-gsd-train-3282</td>\n      <td>19</td>\n      <td>議會</td>\n      <td>議會</td>\n      <td>NOUN</td>\n      <td>NN</td>\n      <td>_</td>\n      <td>18</td>\n      <td>obj</td>\n      <td>_</td>\n      <td>SpaceAfter=No</td>\n      <td>*</td>\n    </tr>\n    <tr>\n      <th>575583</th>\n      <td>ud-gsd-train-3282</td>\n      <td>20</td>\n      <td>的</td>\n      <td>的</td>\n      <td>PART</td>\n      <td>DEC</td>\n      <td>_</td>\n      <td>18</td>\n      <td>mark:relcl</td>\n      <td>_</td>\n      <td>SpaceAfter=No</td>\n      <td>*</td>\n    </tr>\n    <tr>\n      <th>575584</th>\n      <td>ud-gsd-train-3282</td>\n      <td>21</td>\n      <td>機構</td>\n      <td>機構</td>\n      <td>NOUN</td>\n      <td>NN</td>\n      <td>_</td>\n      <td>17</td>\n      <td>obj</td>\n      <td>_</td>\n      <td>SpaceAfter=No</td>\n      <td>*</td>\n    </tr>\n    <tr>\n      <th>575585</th>\n      <td>ud-gsd-train-3282</td>\n      <td>22</td>\n      <td>（</td>\n      <td>（</td>\n      <td>PUNCT</td>\n      <td>(</td>\n      <td>_</td>\n      <td>24</td>\n      <td>punct</td>\n      <td>_</td>\n      <td>SpaceAfter=No</td>\n      <td>*</td>\n    </tr>\n    <tr>\n      <th>575586</th>\n      <td>ud-gsd-train-3282</td>\n      <td>23</td>\n      <td>元老</td>\n      <td>元老</td>\n      <td>NOUN</td>\n      <td>NN</td>\n      <td>_</td>\n      <td>24</td>\n      <td>compound</td>\n      <td>_</td>\n      <td>SpaceAfter=No</td>\n      <td>*</td>\n    </tr>\n    <tr>\n      <th>575587</th>\n      <td>ud-gsd-train-3282</td>\n      <td>24</td>\n      <td>院</td>\n      <td>院</td>\n      <td>PART</td>\n      <td>SFN</td>\n      <td>_</td>\n      <td>21</td>\n      <td>appos</td>\n      <td>_</td>\n      <td>SpaceAfter=No</td>\n      <td>*</td>\n    </tr>\n    <tr>\n      <th>575588</th>\n      <td>ud-gsd-train-3282</td>\n      <td>25</td>\n      <td>）</td>\n      <td>）</td>\n      <td>PUNCT</td>\n      <td>)</td>\n      <td>_</td>\n      <td>24</td>\n      <td>punct</td>\n      <td>_</td>\n      <td>SpaceAfter=No</td>\n      <td>*</td>\n    </tr>\n    <tr>\n      <th>575589</th>\n      <td>ud-gsd-train-3282</td>\n      <td>26</td>\n      <td>。</td>\n      <td>。</td>\n      <td>PUNCT</td>\n      <td>.</td>\n      <td>_</td>\n      <td>17</td>\n      <td>punct</td>\n      <td>_</td>\n      <td>SpaceAfter=No</td>\n      <td>*</td>\n    </tr>\n  </tbody>\n</table>\n</div>"
     },
     "metadata": {},
     "execution_count": 16
    }
   ],
   "source": [
    "df.tail(50)"
   ]
  },
  {
   "cell_type": "markdown",
   "metadata": {},
   "source": [
    "### Statistics\n",
    "\n",
    "The number of unique sentences in the resulting dataset:"
   ]
  },
  {
   "cell_type": "code",
   "execution_count": 17,
   "metadata": {},
   "outputs": [
    {
     "output_type": "execute_result",
     "data": {
      "text/plain": "65555"
     },
     "metadata": {},
     "execution_count": 17
    }
   ],
   "source": [
    "len(df['id_sent'].unique())"
   ]
  },
  {
   "cell_type": "code",
   "execution_count": 18,
   "metadata": {},
   "outputs": [
    {
     "output_type": "execute_result",
     "data": {
      "text/plain": "224"
     },
     "metadata": {},
     "execution_count": 18
    }
   ],
   "source": [
    "(df.groupby('id_sent').size() == 1).sum()"
   ]
  },
  {
   "cell_type": "markdown",
   "metadata": {},
   "source": [
    "Number of unique (universal) parts-of-speech in the dataset:"
   ]
  },
  {
   "cell_type": "code",
   "execution_count": 19,
   "metadata": {},
   "outputs": [
    {
     "output_type": "stream",
     "name": "stdout",
     "text": "18\n"
    },
    {
     "output_type": "execute_result",
     "data": {
      "text/plain": "array(['PROPN', 'PUNCT', 'NOUN', 'AUX', 'ADP', 'DET', 'ADJ', 'VERB',\n       'PRON', 'NUM', 'PART', 'ADV', '_', 'SCONJ', 'CCONJ', 'SYM', 'X',\n       'INTJ'], dtype=object)"
     },
     "metadata": {},
     "execution_count": 19
    }
   ],
   "source": [
    "print(len(df['upos'].unique()))\n",
    "df['upos'].unique()"
   ]
  },
  {
   "cell_type": "markdown",
   "metadata": {},
   "source": [
    "Frequency of each (universal) part-of-speech in the dataset."
   ]
  },
  {
   "cell_type": "code",
   "execution_count": 20,
   "metadata": {},
   "outputs": [
    {
     "output_type": "execute_result",
     "data": {
      "text/plain": "upos\nADJ       43527\nADP      109526\nADV       49074\nAUX       29791\nCCONJ     23586\nDET       96013\nINTJ        121\nNOUN     275883\nNUM       50371\nPART      57361\nPRON      29616\nPROPN    104982\nPUNCT    173710\nSCONJ      7531\nSYM        5866\nVERB     135292\nX         28789\n_         35884\ndtype: int64"
     },
     "metadata": {},
     "execution_count": 20
    }
   ],
   "source": [
    "df.groupby('upos').size()"
   ]
  },
  {
   "cell_type": "markdown",
   "metadata": {},
   "source": [
    "This pre-processing step takes a while. I'm not aware of a better/more elegant way of doing it."
   ]
  },
  {
   "cell_type": "code",
   "execution_count": 21,
   "metadata": {
    "tags": [
     "outputPrepend",
     "outputPrepend",
     "outputPrepend",
     "outputPrepend",
     "outputPrepend",
     "outputPrepend",
     "outputPrepend",
     "outputPrepend",
     "outputPrepend",
     "outputPrepend",
     "outputPrepend"
    ]
   },
   "outputs": [],
   "source": [
    "files = [\n",
    "    'DE/train.cupt',\n",
    "    'GA/train.cupt',\n",
    "    'HI/train.cupt',\n",
    "    'PT/train.cupt',\n",
    "    'ZH/train.cupt'\n",
    "]\n",
    "\n",
    "data = []\n",
    "\n",
    "for file in files:\n",
    "    data += build_dataset(open('data/' + file))\n",
    ""
   ]
  },
  {
   "cell_type": "code",
   "execution_count": 22,
   "metadata": {},
   "outputs": [
    {
     "output_type": "execute_result",
     "data": {
      "text/plain": "66338"
     },
     "metadata": {},
     "execution_count": 22
    }
   ],
   "source": [
    "len(data)"
   ]
  },
  {
   "cell_type": "code",
   "execution_count": 23,
   "metadata": {},
   "outputs": [
    {
     "output_type": "stream",
     "name": "stdout",
     "text": "id_sent\nnewscrawl-1       22\nnewscrawl-10      11\nnewscrawl-1000    10\nnewscrawl-1001    22\nnewscrawl-1002    22\n                  ..\ntrain-s2995       21\ntrain-s2996       25\ntrain-s2997       14\ntrain-s2998       24\ntrain-s3000       12\nLength: 6568, dtype: int64\n6568\n6568\n"
    }
   ],
   "source": [
    "print(german.groupby('id_sent').size())\n",
    "print(len(german['id_sent'].unique()))\n",
    "\n",
    "\n",
    "gdata = build_dataset(open('data/' + files[0]))\n",
    "print(len(gdata))\n",
    ""
   ]
  },
  {
   "cell_type": "code",
   "execution_count": 24,
   "metadata": {},
   "outputs": [
    {
     "output_type": "stream",
     "name": "stdout",
     "text": "id_sent\n1006    16\n1009    41\n1022    10\n1041    16\n1042    10\n        ..\n985     19\n989     16\n99      20\n992     37\n995     17\nLength: 257, dtype: int64\n257\n257\n"
    }
   ],
   "source": [
    "print(irish.groupby('id_sent').size())\n",
    "print(len(irish['id_sent'].unique()))\n",
    "\n",
    "\n",
    "idata = build_dataset(open('data/' + files[1]))\n",
    "print(len(idata))\n",
    ""
   ]
  },
  {
   "cell_type": "code",
   "execution_count": 25,
   "metadata": {},
   "outputs": [
    {
     "output_type": "stream",
     "name": "stdout",
     "text": "id_sent\nautogen--hi-ud-test-withLVCs-1-500_ab.parsemetsv-pos.folia.xml--104    12\nautogen--hi-ud-test-withLVCs-1-500_ab.parsemetsv-pos.folia.xml--106    11\nautogen--hi-ud-test-withLVCs-1-500_ab.parsemetsv-pos.folia.xml--114    15\nautogen--hi-ud-test-withLVCs-1-500_ab.parsemetsv-pos.folia.xml--12     13\nautogen--hi-ud-test-withLVCs-1-500_ab.parsemetsv-pos.folia.xml--124    29\n                                                                       ..\nautogen--hi-ud-test-withLVCs501-1000_ab.folia.xml--86                  19\nautogen--hi-ud-test-withLVCs501-1000_ab.folia.xml--87                  18\nautogen--hi-ud-test-withLVCs501-1000_ab.folia.xml--88                   9\nautogen--hi-ud-test-withLVCs501-1000_ab.folia.xml--97                  17\nautogen--hi-ud-test-withLVCs501-1000_ab.folia.xml--99                  21\nLength: 282, dtype: int64\n282\n282\n"
    }
   ],
   "source": [
    "print(hindi.groupby('id_sent').size())\n",
    "print(len(hindi['id_sent'].unique()))\n",
    "\n",
    "\n",
    "hdata = build_dataset(open('data/' + files[2]))\n",
    "print(len(hdata))"
   ]
  },
  {
   "cell_type": "code",
   "execution_count": 26,
   "metadata": {},
   "outputs": [
    {
     "output_type": "stream",
     "name": "stdout",
     "text": "id_sent\nCF1-1          5\nCF1-4          8\nCF1-6         13\nCF1-7         14\nCF1-8         19\n              ..\ntrain-s995    11\ntrain-s996    48\ntrain-s997    38\ntrain-s998    25\ntrain-s999    12\nLength: 23905, dtype: int64\n23905\n23905\n"
    }
   ],
   "source": [
    "print(portuguese.groupby('id_sent').size())\n",
    "print(len(portuguese['id_sent'].unique()))\n",
    "\n",
    "\n",
    "pdata = build_dataset(open('data/' + files[3]))\n",
    "print(len(pdata))"
   ]
  },
  {
   "cell_type": "code",
   "execution_count": 27,
   "metadata": {},
   "outputs": [
    {
     "output_type": "stream",
     "name": "stdout",
     "text": "id_sent\nconll2017-crawl-000-0       16\nconll2017-crawl-000-1        8\nconll2017-crawl-000-10       7\nconll2017-crawl-000-100      6\nconll2017-crawl-000-1000     5\n                            ..\nud-pud-test-994             47\nud-pud-test-995             41\nud-pud-test-996             19\nud-pud-test-997             23\nud-pud-test-999             35\nLength: 35326, dtype: int64\n35326\n35326\n"
    }
   ],
   "source": [
    "print(chinese.groupby('id_sent').size())\n",
    "print(len(chinese['id_sent'].unique()))\n",
    "\n",
    "\n",
    "cdata = build_dataset(open('data/' + files[4]))\n",
    "print(len(cdata))"
   ]
  },
  {
   "cell_type": "code",
   "execution_count": 28,
   "metadata": {},
   "outputs": [
    {
     "output_type": "execute_result",
     "data": {
      "text/plain": "('NOUN ADV VERB PUNCT ADP NOUN ADV PUNCT NOUN CCONJ NOUN ADP PUNCT NOUN CCONJ PART NOUN ADP PUNCT NOUN CCONJ PART NOUN ADP PUNCT',\n 0)"
     },
     "metadata": {},
     "execution_count": 28
    }
   ],
   "source": [
    "cdata[0]"
   ]
  },
  {
   "cell_type": "code",
   "execution_count": 38,
   "metadata": {},
   "outputs": [
    {
     "output_type": "stream",
     "name": "stdout",
     "text": "257\n"
    }
   ],
   "source": [
    "idata = build_per_word_dataset(open('data/' + files[1]))\n",
    "print(len(idata))"
   ]
  },
  {
   "cell_type": "code",
   "execution_count": 39,
   "metadata": {},
   "outputs": [
    {
     "output_type": "execute_result",
     "data": {
      "text/plain": "('VERB ADP NOUN PART VERB NOUN SCONJ ADP PRON ADJ CCONJ DET NOUN DET NOUN ADP NOUN NOUN PART NOUN PUNCT',\n '1 1 0 0 0 0 0 0 0 0 0 0 0 0 0 0 0 0 0 0 0')"
     },
     "metadata": {},
     "execution_count": 39
    }
   ],
   "source": [
    "idata[0]"
   ]
  },
  {
   "cell_type": "code",
   "execution_count": null,
   "metadata": {},
   "outputs": [],
   "source": []
  }
 ]
}